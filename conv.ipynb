{
 "cells": [
  {
   "cell_type": "code",
   "execution_count": 61,
   "metadata": {},
   "outputs": [],
   "source": [
    "import numpy as np\n",
    "import pandas as pd\n",
    "import seaborn as sns\n",
    "from matplotlib import pyplot as plt\n",
    "import random\n",
    "\n",
    "import os\n",
    "import torch\n",
    "from torch.utils.data import TensorDataset, DataLoader\n",
    "import torchvision.transforms as T\n",
    "from sklearn.model_selection import train_test_split\n",
    "import warnings\n",
    "import pickle\n",
    "warnings.filterwarnings(\"ignore\")\n",
    "\n"
   ]
  },
  {
   "cell_type": "code",
   "execution_count": 62,
   "metadata": {},
   "outputs": [
    {
     "name": "stdout",
     "output_type": "stream",
     "text": [
      "{'Train': ['Туапсе', 'Приморско-Ахтарск'], 'Val': ['Краснодар, Круглик'], 'Test': ['Анапа']}\n"
     ]
    }
   ],
   "source": [
    "path_to_data = os.path.join('data', 'nn_data')\n",
    "stations = os.listdir(path_to_data)\n",
    "random.shuffle(stations)\n",
    "partition = {\"train_share\": 0.5, \"val_share\": 0.25, \"test_share\":  0.25}\n",
    "train_len = int(len(stations) * partition[\"train_share\"])\n",
    "val_len = int(len(stations) * partition[\"val_share\"])\n",
    "test_len = int(len(stations) * partition[\"test_share\"])\n",
    "train_sts, val_sts, test_sts = stations[:train_len], stations[train_len:train_len+val_len], stations[train_len+val_len:]\n",
    "st_split_dict = {\"Train\": train_sts, \"Val\": val_sts, \"Test\": test_sts}\n",
    "# print(\"Train stations: \", train_sts)\n",
    "# print(\"Val stations: \", val_sts)\n",
    "# print(\"Test stations: \", test_sts)\n",
    "print(st_split_dict)"
   ]
  },
  {
   "cell_type": "code",
   "execution_count": 66,
   "metadata": {},
   "outputs": [],
   "source": [
    "path_to_dump = os.path.join('data','nn_data')\n",
    "X = {}\n",
    "y = {}\n",
    "for split_part, sts in st_split_dict.items():\n",
    "    X_split = []\n",
    "    y_split = []\n",
    "    for st in sts:\n",
    "        st_dir = os.path.join(path_to_dump, st)\n",
    "        with open(os.path.join(st_dir, 'objects.pkl'),'rb') as f:\n",
    "            X_ = pickle.load(f)\n",
    "        with open(os.path.join(st_dir, 'target.pkl'),'rb') as f:\n",
    "            y_ = pickle.load(f)\n",
    "        X_split.append(X_)\n",
    "        y_split.append(y_)\n",
    "    X[split_part] = np.concatenate(X_split)\n",
    "    y[split_part] = np.concatenate(y_split)\n"
   ]
  },
  {
   "cell_type": "code",
   "execution_count": null,
   "metadata": {},
   "outputs": [],
   "source": []
  },
  {
   "cell_type": "code",
   "execution_count": null,
   "metadata": {},
   "outputs": [],
   "source": []
  },
  {
   "cell_type": "code",
   "execution_count": 30,
   "metadata": {},
   "outputs": [],
   "source": [
    "X_tensor = torch.tensor(X).cuda()\n",
    "y_tensor = torch.tensor(y).cuda()\n",
    "\n",
    "#normalize data\n",
    "mean_channels = X_tensor.mean(dim=[0, -1, -2])\n",
    "std_channels = X_tensor.std(dim=[0, -1, -2])\n",
    "preprocess = T.Compose([\n",
    "   T.Normalize(\n",
    "       mean=mean_channels,\n",
    "       std=std_channels\n",
    "   )\n",
    "])\n",
    "X_tensor = preprocess(X_tensor)\n",
    "\n",
    "#assemble into datadet and dataloader\n",
    "dataset = TensorDataset(X_tensor,y_tensor)\n",
    "dataloader = DataLoader(dataset)"
   ]
  },
  {
   "cell_type": "code",
   "execution_count": 51,
   "metadata": {},
   "outputs": [
    {
     "data": {
      "text/plain": [
       "array([False,  True])"
      ]
     },
     "execution_count": 51,
     "metadata": {},
     "output_type": "execute_result"
    }
   ],
   "source": [
    "tmp=torch.unique(dataset.tensors[-1]).cpu().numpy()\n",
    "tmp"
   ]
  },
  {
   "cell_type": "code",
   "execution_count": 62,
   "metadata": {},
   "outputs": [
    {
     "data": {
      "text/plain": [
       "Text(0.5, 1.0, 'Entire Dataset (before train/val/test split)')"
      ]
     },
     "execution_count": 62,
     "metadata": {},
     "output_type": "execute_result"
    },
    {
     "data": {
      "image/png": "[encoded data removed]",
      "text/plain": [
       "<Figure size 432x216 with 1 Axes>"
      ]
     },
     "metadata": {
      "needs_background": "light"
     },
     "output_type": "display_data"
    }
   ],
   "source": [
    "def get_class_distribution(dataset_obj):\n",
    "    count_dict = {k:0 for k in torch.unique(dataset_obj.tensors[-1]).cpu().numpy()}\n",
    "    for _, label_id in dataset_obj:\n",
    "        label = label_id\n",
    "        count_dict[np.bool(label.cpu().numpy())] += 1\n",
    "    return count_dict\n",
    "def plot_from_dict(dict_obj, plot_title, **kwargs):\n",
    "    return sns.barplot(data = pd.DataFrame.from_dict([dict_obj]).melt(), x = \"variable\", y=\"value\", hue=\"variable\", **kwargs).set_title(plot_title)\n",
    "plt.figure(figsize=(6,3))\n",
    "plot_from_dict(get_class_distribution(dataset), plot_title=\"Entire Dataset (before train/val/test split)\")"
   ]
  },
  {
   "cell_type": "code",
   "execution_count": null,
   "metadata": {},
   "outputs": [],
   "source": [
    "dataset_size = len(dataset)\n",
    "dataset_indices = list(range(dataset_size))\n",
    "np.random.shuffle(dataset_indices)\n",
    " X_train, X_test, y_train, y_test \n",
    "    = train_test_split(X, y, test_size=0.2, random_state=1)\n",
    "\n",
    " X_train, X_val, y_train, y_val \n",
    "    = train_test_split(X_train, y_train, test_size=0.25, random_state=1)"
   ]
  }
 ],
 "metadata": {
  "interpreter": {
   "hash": "acb85811e6739084710794aad6a2b68694724b39e323389982648171fd28da5d"
  },
  "kernelspec": {
   "display_name": "Python 3.7.13 ('kl-cpd-copy')",
   "language": "python",
   "name": "python3"
  },
  "language_info": {
   "codemirror_mode": {
    "name": "ipython",
    "version": 3
   },
   "file_extension": ".py",
   "mimetype": "text/x-python",
   "name": "python",
   "nbconvert_exporter": "python",
   "pygments_lexer": "ipython3",
   "version": "3.7.13"
  },
  "orig_nbformat": 4
 },
 "nbformat": 4,
 "nbformat_minor": 2
}
