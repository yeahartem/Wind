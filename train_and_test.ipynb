{
 "cells": [
  {
   "cell_type": "code",
   "execution_count": null,
   "metadata": {},
   "outputs": [],
   "source": [
    "from matplotlib import pyplot as plt\n",
    "import numpy as np\n",
    "import warnings\n",
    "warnings.filterwarnings(\"ignore\")\n",
    "import xarray\n",
    "import pandas as pd\n",
    "from sklearn import preprocessing\n",
    "from scipy import interpolate\n",
    "from src.data_utils.data_processing import extract_cmip_grid, leap_years"
   ]
  },
  {
   "cell_type": "code",
   "execution_count": null,
   "metadata": {},
   "outputs": [],
   "source": [
    "f0 = xarray.open_dataset('sfcWind_day_inmcm4_rcp45_r1i1p1_20060101-20151231.nc')\n",
    "df0 = f0.to_dataframe()\n",
    "\n",
    "f1 = xarray.open_dataset('sfcWind_day_inmcm4_rcp45_r1i1p1_20160101-20251231.nc')\n",
    "df1 = f1.to_dataframe()\n",
    "\n",
    "f2 = xarray.open_dataset('sfcWind_day_inmcm4_rcp45_r1i1p1_20260101-20351231.nc')\n",
    "df2 = f2.to_dataframe()"
   ]
  },
  {
   "cell_type": "code",
   "execution_count": null,
   "metadata": {},
   "outputs": [],
   "source": [
    "feb_28_in_2008_and_2012 = [2248, 788]    # The same for 2028 and 2032 (period 2026-2035)\n",
    "feb_28_in_2016_2020_2024 = [2978, 1518, 58]\n",
    "\n",
    "f06 = extract_cmip_grid(df0, 40, 77, 19, 169)\n",
    "df2006 = leap_years(f06, feb_28_in_2008_and_2012)\n",
    "\n",
    "f16 = extract_cmip_grid(df1, 40, 77, 19, 169)\n",
    "df2016 = leap_years(f16, feb_28_in_2016_2020_2024)\n",
    "\n",
    "f26 = extract_cmip_grid(df2, 40, 77, 19, 169)\n",
    "df2026 = leap_years(f26, feb_28_in_2008_and_2012)"
   ]
  },
  {
   "cell_type": "code",
   "execution_count": null,
   "metadata": {},
   "outputs": [],
   "source": [
    "test = np.vstack((df2016[1827:], df2026[: 1826]))\n",
    "train = np.vstack((df2006, df2016[: 1827]))"
   ]
  },
  {
   "cell_type": "markdown",
   "metadata": {},
   "source": [
    "To Save and Load"
   ]
  },
  {
   "cell_type": "code",
   "execution_count": null,
   "metadata": {},
   "outputs": [],
   "source": [
    "# with open('test2021-2030.npy', 'wb') as f:\n",
    "#     np.save(f, test)\n",
    "\n",
    "with open('train2006-2020.npy', 'rb') as f:\n",
    "    check = np.load(f)"
   ]
  }
 ],
 "metadata": {
  "kernelspec": {
   "display_name": "Python 3.10.0 ('mypython3': conda)",
   "language": "python",
   "name": "python3"
  },
  "language_info": {
   "name": "python",
   "version": "3.10.0"
  },
  "orig_nbformat": 4,
  "vscode": {
   "interpreter": {
    "hash": "b94342a91b390a20f25d0f48ee6a87bebf4fc3f7c4a42ce1c98414f7278fc983"
   }
  }
 },
 "nbformat": 4,
 "nbformat_minor": 2
}
