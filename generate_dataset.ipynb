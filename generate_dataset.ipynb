{
 "cells": [
  {
   "cell_type": "code",
   "execution_count": 1,
   "metadata": {},
   "outputs": [
    {
     "name": "stderr",
     "output_type": "stream",
     "text": [
      "/home/lukashevich/miniconda3/envs/pygdal/lib/python3.5/site-packages/tqdm/auto.py:22: TqdmWarning: IProgress not found. Please update jupyter and ipywidgets. See https://ipywidgets.readthedocs.io/en/stable/user_install.html\n",
      "  from .autonotebook import tqdm as notebook_tqdm\n"
     ]
    }
   ],
   "source": [
    "import numpy as np\n",
    "\n",
    "import os\n",
    "import torch\n",
    "from torch.utils.data import TensorDataset, DataLoader\n",
    "import warnings\n",
    "import pickle\n",
    "warnings.filterwarnings(\"ignore\")\n",
    "\n",
    "from src.data_assemble.assemble_ml import *\n",
    "from src.data_assemble.assemble_conv import *\n",
    "from src.models.utils import *"
   ]
  },
  {
   "cell_type": "code",
   "execution_count": 2,
   "metadata": {},
   "outputs": [
    {
     "name": "stdout",
     "output_type": "stream",
     "text": [
      "Reading from .tifs\n",
      ".tifs has been read\n"
     ]
    },
    {
     "name": "stderr",
     "output_type": "stream",
     "text": [
      "100%|██████████| 4/4 [00:00<00:00, 8802.32it/s]\n"
     ]
    }
   ],
   "source": [
    "feature_names = [['tasmax', 'tasmin', 'pr'], ['elevation']]\n",
    "path_to_tifs = ['data/history/*.tif', 'data/elev/*.tif']\n",
    "loaded_arr = np.loadtxt(\"wind_in_box.txt\")  \n",
    "# This loadedArr is a 2D array, therefore, we need to convert it to the original array shape.reshaping to get original matrice with original shape.\n",
    "cmip = loaded_arr.reshape(3652, 15, 22)\n",
    "blocks = make_blocks(feature_names, path_to_tifs, cmip=cmip, half_side_size = 3, dset_num = 0)"
   ]
  },
  {
   "cell_type": "code",
   "execution_count": 3,
   "metadata": {},
   "outputs": [],
   "source": [
    "start = '2006-01-01'\n",
    "end = '2016-01-01'\n",
    "df = pd.read_csv('data_meteo_kk.csv')\n",
    "station_list = pd.read_csv('weatherstation_list.csv')"
   ]
  },
  {
   "cell_type": "code",
   "execution_count": 4,
   "metadata": {},
   "outputs": [],
   "source": [
    "station_names = ['Анапа', 'Армавир', 'Краснодар, Круглик', 'Сочи', 'Туапсе', 'Приморско-Ахтарск', 'Красная Поляна']\n",
    "stations_pixs = get_pixel_stations(path_to_tifs[0], feature_names[0], station_names, station_list)"
   ]
  },
  {
   "cell_type": "code",
   "execution_count": 5,
   "metadata": {},
   "outputs": [],
   "source": [
    "target = get_y(df, start, end, speed_th=20)"
   ]
  },
  {
   "cell_type": "code",
   "execution_count": 6,
   "metadata": {},
   "outputs": [
    {
     "name": "stderr",
     "output_type": "stream",
     "text": [
      "100%|██████████| 7/7 [00:00<00:00, 346.38it/s]\n"
     ]
    }
   ],
   "source": [
    "X, y = assemble_numpy_ds(blocks, target, stations_pixs)"
   ]
  },
  {
   "cell_type": "code",
   "execution_count": 7,
   "metadata": {},
   "outputs": [],
   "source": [
    "path_to_dump = os.path.join('data','nn_data')\n",
    "trg_path = os.path.join(path_to_dump, 'target')\n",
    "obj_path = os.path.join(path_to_dump, 'objects')\n",
    "for k in X.keys():\n",
    "    X_station = X[k]\n",
    "    y_station = y[k]\n",
    "\n",
    "    st_path = os.path.join(path_to_dump, k)\n",
    "    if not os.path.isdir(st_path):\n",
    "        os.makedirs(st_path)\n",
    "    \n",
    "    with open(os.path.join(st_path, 'objects.pkl'),'wb') as f:\n",
    "        pickle.dump(X_station, f)\n",
    "    with open(os.path.join(st_path, 'target.pkl'),'wb') as f:\n",
    "        pickle.dump(y_station, f)"
   ]
  }
 ],
 "metadata": {
  "interpreter": {
   "hash": "eb9120d4e94f37695d2a45f521fb366896a7bc5eab844a4c6789236e8d913311"
  },
  "kernelspec": {
   "display_name": "Python 3.5.5 ('pygdal')",
   "language": "python",
   "name": "python3"
  },
  "language_info": {
   "codemirror_mode": {
    "name": "ipython",
    "version": 3
   },
   "file_extension": ".py",
   "mimetype": "text/x-python",
   "name": "python",
   "nbconvert_exporter": "python",
   "pygments_lexer": "ipython3",
   "version": "3.5.5"
  },
  "orig_nbformat": 4
 },
 "nbformat": 4,
 "nbformat_minor": 2
}
