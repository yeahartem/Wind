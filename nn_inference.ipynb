{
 "cells": [
  {
   "cell_type": "code",
   "execution_count": 1,
   "metadata": {},
   "outputs": [],
   "source": [
    "import numpy as np\n",
    "import pandas as pd\n",
    "import seaborn as sns\n",
    "from matplotlib import pyplot as plt\n",
    "import matplotlib\n",
    "matplotlib.use('Agg')\n",
    "import random\n",
    "from pytorch_lightning.loggers import TensorBoardLogger\n",
    "from tqdm import tqdm\n",
    "import json\n",
    "import imageio\n",
    "\n",
    "import os\n",
    "import torch\n",
    "from torch.utils.data import TensorDataset, DataLoader\n",
    "import torchvision.transforms as T\n",
    "import warnings\n",
    "import pickle\n",
    "warnings.filterwarnings(\"ignore\")\n",
    "\n",
    "from src.data_assemble.wrap_data import *\n",
    "from src.models.WindCNN import *\n",
    "from src.data_assemble.wrap_data import *\n",
    "\n",
    "# %load_ext tensorboard\n",
    "# %tensorboard --logdir lightning_logs/\n",
    "random.seed(24)"
   ]
  },
  {
   "cell_type": "code",
   "execution_count": 2,
   "metadata": {},
   "outputs": [
    {
     "name": "stdout",
     "output_type": "stream",
     "text": [
      "{'Train': ['Туапсе', 'Краснодар, Круглик'], 'Val': ['Анапа'], 'Test': ['Приморско-Ахтарск']}\n"
     ]
    }
   ],
   "source": [
    "path_to_data = os.path.join('data', 'nn_data')\n",
    "st_split_dict = train_val_test_split(path_to_data, train = 0.5, val = 0.25, test = 0.25, verbose = True)\n",
    "path_to_dump = os.path.join('data','nn_data')\n",
    "X, y = extract_splitted_data(path_to_dump, st_split_dict)"
   ]
  },
  {
   "cell_type": "code",
   "execution_count": 3,
   "metadata": {},
   "outputs": [],
   "source": [
    "batch_size = 1024\n",
    "with open(os.path.join('conf', 'conv_config.json')) as fs:\n",
    "    args = json.load(fs)"
   ]
  },
  {
   "cell_type": "code",
   "execution_count": 4,
   "metadata": {},
   "outputs": [
    {
     "name": "stderr",
     "output_type": "stream",
     "text": [
      "GPU available: True, used: True\n",
      "TPU available: False, using: 0 TPU cores\n",
      "IPU available: False, using: 0 IPUs\n",
      "HPU available: False, using: 0 HPUs\n"
     ]
    },
    {
     "data": {
      "text/plain": [
       "WindNetPL(\n",
       "  (net): WindNet(\n",
       "    (conv1): Conv2d(5, 64, kernel_size=(3, 3), stride=(1, 1), padding=(2, 2))\n",
       "    (conv2): Conv2d(64, 32, kernel_size=(3, 3), stride=(1, 1), padding=(2, 2))\n",
       "    (maxpool): MaxPool2d(kernel_size=2, stride=2, padding=0, dilation=1, ceil_mode=False)\n",
       "    (flatten): Flatten(start_dim=1, end_dim=-1)\n",
       "    (fc): Linear(in_features=800, out_features=2, bias=True)\n",
       "    (net): Sequential(\n",
       "      (0): Conv2d(5, 64, kernel_size=(3, 3), stride=(1, 1), padding=(2, 2))\n",
       "      (1): ReLU()\n",
       "      (2): Conv2d(64, 32, kernel_size=(3, 3), stride=(1, 1), padding=(2, 2))\n",
       "      (3): ReLU()\n",
       "      (4): MaxPool2d(kernel_size=2, stride=2, padding=0, dilation=1, ceil_mode=False)\n",
       "      (5): Flatten(start_dim=1, end_dim=-1)\n",
       "      (6): Linear(in_features=800, out_features=2, bias=True)\n",
       "      (7): Softmax(dim=None)\n",
       "    )\n",
       "  )\n",
       "  (accuracy): Accuracy()\n",
       "  (AUROC): AUROC()\n",
       "  (precision_m): Precision()\n",
       "  (recall): Recall()\n",
       "  (F1): F1Score()\n",
       "  (conf_matrix): ConfusionMatrix()\n",
       "  (stats_scores): StatScores()\n",
       "  (loss_f): NLLLoss()\n",
       ")"
      ]
     },
     "execution_count": 4,
     "metadata": {},
     "output_type": "execute_result"
    }
   ],
   "source": [
    "logger = TensorBoardLogger(save_dir='logs/wind', name='windnet')\n",
    "trainer = pl.Trainer(max_epochs=50,\n",
    "                    gpus='1',\n",
    "                    benchmark=True,\n",
    "                    check_val_every_n_epoch=1,\n",
    ")\n",
    "\n",
    "\n",
    "dm = WindDataModule(X=X, y=y, batch_size=batch_size, downsample=False)\n",
    "model = WindNetPL(args)\n",
    "\n",
    "# chk_path = \"./lightning_logs/version_13/checkpoints/epoch=35-step=288.ckpt\"\n",
    "chk_path = \"lightning_logs/version_0\"\n",
    "chk_path = os.path.join(chk_path, \"checkpoints\", os.listdir(os.path.join(chk_path, \"checkpoints\"))[0])\n",
    "model2 = WindNetPL.load_from_checkpoint(chk_path, args=args)\n",
    "model2.eval()\n"
   ]
  },
  {
   "cell_type": "markdown",
   "metadata": {},
   "source": [
    "# Inferring on each pixel"
   ]
  },
  {
   "cell_type": "code",
   "execution_count": 5,
   "metadata": {},
   "outputs": [
    {
     "name": "stderr",
     "output_type": "stream",
     "text": [
      "70it [01:10,  1.01s/it]\n"
     ]
    }
   ],
   "source": [
    "path_to_data = os.path.join('data', 'nn_data_grid_inference')\n",
    "grid_inference_ = {}\n",
    "coincide_idx = -1\n",
    "for i, curr_pix in tqdm(enumerate(os.listdir(path_to_data))):\n",
    "# # st_split_dict = train_val_test_split(path_to_data, train = 0.5, val = 0.25, test = 0.25, verbose = True)\n",
    "    X, y = extract_splitted_data(path_to_data, {'Grid': [curr_pix]})\n",
    "    X_grid_t = torch.tensor(X[\"Grid\"], device=model2.device).double()\n",
    "    if torch.allclose(dm.X_test, X_grid_t):\n",
    "        coincide_idx = i\n",
    "    inference = model2(dm.transform(X_grid_t)).detach().cpu().numpy()\n",
    "    grid_inference_[curr_pix] = inference\n",
    "    if curr_pix == '(7, 4)':\n",
    "        break\n",
    "    # dm = WindDataModule(X=X, y=y, batch_size=batch_size, downsample=False)"
   ]
  },
  {
   "cell_type": "code",
   "execution_count": 6,
   "metadata": {},
   "outputs": [],
   "source": [
    "grid_inference = {}\n",
    "for k in grid_inference_.keys():\n",
    "    try:\n",
    "        k1, k2 = k[1:-1].split(', ')\n",
    "        k1 = int(k1)\n",
    "        \n",
    "        k2 = int(k2)\n",
    "        grid_inference[(k1, k2)] = grid_inference_[k]\n",
    "    except AttributeError:\n",
    "        pass\n",
    "del grid_inference_"
   ]
  },
  {
   "cell_type": "code",
   "execution_count": 7,
   "metadata": {},
   "outputs": [],
   "source": [
    "keys = list(grid_inference.keys())\n",
    "sorted_tmp = sorted(keys, key=lambda x: x[0])\n",
    "shift_x = sorted_tmp[0][0] + 1\n",
    "max_x = sorted_tmp[-1][0] + shift_x\n",
    "sorted_tmp = sorted(keys, key=lambda x: x[1])\n",
    "shift_y = sorted_tmp[0][1] + 1\n",
    "max_y = sorted_tmp[-1][1] + shift_y\n",
    "some_key = keys[0]\n",
    "grid = np.zeros((grid_inference[some_key].shape[0], max_x, max_y))\n",
    "\n",
    "for k in grid_inference.keys():\n",
    "    grid[:, k[0], k[1]] = grid_inference[k][:, 1]"
   ]
  },
  {
   "cell_type": "code",
   "execution_count": 8,
   "metadata": {},
   "outputs": [
    {
     "data": {
      "text/plain": [
       "'2006-02-01 00:00:00'"
      ]
     },
     "execution_count": 8,
     "metadata": {},
     "output_type": "execute_result"
    }
   ],
   "source": [
    "start_date = pd.to_datetime('2006-01-01')\n",
    "str(start_date + pd.DateOffset(1) * 31)"
   ]
  },
  {
   "cell_type": "markdown",
   "metadata": {},
   "source": [
    "# Наложение экспоненциального сглдаживания на карты"
   ]
  },
  {
   "cell_type": "code",
   "execution_count": 11,
   "metadata": {},
   "outputs": [],
   "source": [
    "exp_smooth = False\n",
    "if exp_smooth:\n",
    "    grid_new = np.zeros_like(grid)\n",
    "    for i in range(grid.shape[0]):\n",
    "        grid_new[i,:,:] = ewma_vectorized_2d(data=grid[i,:,:], alpha=0.7, axis=1)\n",
    "        grid_new[i,:,:] = ewma_vectorized_2d(data=grid_new[i,:,:], alpha=0.7, axis=0)\n",
    "else:\n",
    "    grid_new = grid"
   ]
  },
  {
   "cell_type": "code",
   "execution_count": 13,
   "metadata": {},
   "outputs": [],
   "source": [
    "X = np.arange(36.5, 42.0, 0.5)#[36.5, 37.0, 37.5, 38.0, 38.5, 39.0, 39.5, 40.0, 40.5, 41.0, 41.5]\n",
    "Y = np.arange(43.5, 47.5, 0.5)[::-1]#[47.0, 46.5, 46.0, 45.5, 45.0, 44.5, 44.0, 43.5]\n",
    "\n",
    "\n",
    "for t in list(range(grid_new.shape[0]))[::100]:\n",
    "    data = grid_new[t, :, :]\n",
    "    fig = plt.figure(figsize=(7, 3.7))\n",
    "\n",
    "    ax = fig.add_subplot(111)\n",
    "    ax.set_title('t = ' + str(start_date + pd.DateOffset(1) * t))\n",
    "    plt.imshow(data,vmin=0, vmax=0.6)\n",
    "    # plt.colorbar()\n",
    "    ax.set_aspect('equal')\n",
    "    ax.set_xticks(np.arange(0,grid_new.shape[2],2), labels=X)\n",
    "    ax.set_yticks(np.arange(grid_new.shape[1]-1,-1,-2), labels=Y)\n",
    "\n",
    "    cax = fig.add_axes([0.12, 0.1, 0.78, 0.8])\n",
    "    cax.get_xaxis().set_visible(False)\n",
    "    cax.get_yaxis().set_visible(False)\n",
    "    cax.set_frame_on(False)\n",
    "    plt.colorbar(orientation='vertical')\n",
    "    plt.savefig('tmp_dump/' + str(t) + '.png')\n",
    "    # plt.show()"
   ]
  },
  {
   "cell_type": "code",
   "execution_count": 14,
   "metadata": {},
   "outputs": [],
   "source": [
    "images = []\n",
    "filenames = [os.path.join('tmp_dump', str(f) + '.png') for f in list(range(grid.shape[0]))[::100]]\n",
    "for filename in filenames:\n",
    "    images.append(imageio.imread(filename))\n",
    "imageio.mimsave('tmp_dump/wind_prob_maps.gif', images, duration=0.5)"
   ]
  }
 ],
 "metadata": {
  "interpreter": {
   "hash": "acb85811e6739084710794aad6a2b68694724b39e323389982648171fd28da5d"
  },
  "kernelspec": {
   "display_name": "Python 3.7.13 ('kl-cpd-copy')",
   "language": "python",
   "name": "python3"
  },
  "language_info": {
   "codemirror_mode": {
    "name": "ipython",
    "version": 3
   },
   "file_extension": ".py",
   "mimetype": "text/x-python",
   "name": "python",
   "nbconvert_exporter": "python",
   "pygments_lexer": "ipython3",
   "version": "3.7.13"
  },
  "orig_nbformat": 4
 },
 "nbformat": 4,
 "nbformat_minor": 2
}
