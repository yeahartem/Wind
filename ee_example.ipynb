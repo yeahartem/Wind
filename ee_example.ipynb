{
 "cells": [
  {
   "cell_type": "code",
   "execution_count": 8,
   "metadata": {},
   "outputs": [],
   "source": [
    "import ee\n",
    "import ipygee as ui\n",
    "import datetime\n",
    "import numpy as np\n",
    "from tqdm import tqdm"
   ]
  },
  {
   "cell_type": "markdown",
   "metadata": {},
   "source": [
    "# Function to print start and end time of dataset"
   ]
  },
  {
   "cell_type": "code",
   "execution_count": 2,
   "metadata": {},
   "outputs": [],
   "source": [
    "def print_edge_time(dataset, start=True):\n",
    "    if start:\n",
    "        date = ee.Date(dataset.first().get('system:time_start'))\n",
    "    else:\n",
    "        date = ee.Date(dataset.sort('system:time_start', False).first().get('system:time_start'))\n",
    "\n",
    "    date_dict = date.getInfo()\n",
    "\n",
    "    print(\"The number of milliseconds since 1970-01-01T00:00:00Z.: \", date_dict['value'])\n",
    "\n",
    "    print(\"Formatted date\", date.format('Y-M-d').getInfo())"
   ]
  },
  {
   "cell_type": "markdown",
   "metadata": {},
   "source": [
    "# Setting up earth engine API"
   ]
  },
  {
   "cell_type": "code",
   "execution_count": 3,
   "metadata": {},
   "outputs": [
    {
     "data": {
      "text/html": [
       "<p>To authorize access needed by Earth Engine, open the following\n",
       "        URL in a web browser and follow the instructions:</p>\n",
       "        <p><a href=https://code.earthengine.google.com/client-auth?scopes=https%3A//www.googleapis.com/auth/earthengine%20https%3A//www.googleapis.com/auth/devstorage.full_control&request_id=jjphuLxMYptEAe_JohBPgIpFumYZaCJBrVmtlM3dTtA&tc=4EttA3gSbouq8ZHpLFxRtGjWgC0-XoSUEWzgI_JXD4I&cc=nt5IthKZEhAKv33iRriz56lmCgdHsVu_bh1XiAJHOe8>https://code.earthengine.google.com/client-auth?scopes=https%3A//www.googleapis.com/auth/earthengine%20https%3A//www.googleapis.com/auth/devstorage.full_control&request_id=jjphuLxMYptEAe_JohBPgIpFumYZaCJBrVmtlM3dTtA&tc=4EttA3gSbouq8ZHpLFxRtGjWgC0-XoSUEWzgI_JXD4I&cc=nt5IthKZEhAKv33iRriz56lmCgdHsVu_bh1XiAJHOe8</a></p>\n",
       "        <p>The authorization workflow will generate a code, which you\n",
       "        should paste in the box below</p>\n",
       "        "
      ],
      "text/plain": [
       "<IPython.core.display.HTML object>"
      ]
     },
     "metadata": {},
     "output_type": "display_data"
    },
    {
     "name": "stdout",
     "output_type": "stream",
     "text": [
      "\n",
      "Successfully saved authorization token.\n"
     ]
    }
   ],
   "source": [
    "# Trigger the authentication flow.\n",
    "ee.Authenticate()\n",
    "\n",
    "# Initialize the library.\n",
    "ee.Initialize()"
   ]
  },
  {
   "cell_type": "markdown",
   "metadata": {},
   "source": [
    "# Dataset selection, time period, bands, geometry "
   ]
  },
  {
   "cell_type": "code",
   "execution_count": 4,
   "metadata": {},
   "outputs": [],
   "source": [
    "model = 'CNRM-CM5'\n",
    "scenario = 'rcp45' #to get data after 2006\n",
    "# var scenario = 'historical' to get data before 2006\n",
    "\n",
    "bands = ['tasmax', 'tasmin', 'pr']\n",
    "bands_len = len(bands)"
   ]
  },
  {
   "cell_type": "code",
   "execution_count": 5,
   "metadata": {},
   "outputs": [],
   "source": [
    "start_y = 1965\n",
    "start_m = 1\n",
    "\n",
    "end_y = 2022\n",
    "\n",
    "start_date = datetime.datetime(year=start_y, month=start_m, day=1)\n",
    "end_date = datetime.datetime(year=end_y, month=start_m, day=1)"
   ]
  },
  {
   "cell_type": "code",
   "execution_count": 6,
   "metadata": {},
   "outputs": [],
   "source": [
    "xMin, yMin, xMax, yMax = 30.21928091061925, 40.538579354365346, 46.58915395749425, 49.289072811288115\n",
    "rectangleBounds = ee.Geometry.Rectangle(\n",
    "  [xMin, yMin, xMax, yMax]\n",
    ")"
   ]
  },
  {
   "cell_type": "markdown",
   "metadata": {},
   "source": [
    "# Casting to numpy array, dumping into dictionary"
   ]
  },
  {
   "cell_type": "code",
   "execution_count": 9,
   "metadata": {},
   "outputs": [
    {
     "name": "stderr",
     "output_type": "stream",
     "text": [
      "100%|██████████| 3/3 [00:25<00:00,  8.44s/it]\n"
     ]
    }
   ],
   "source": [
    "bands_dict = {}\n",
    "for j in tqdm(range(len(bands))):\n",
    "    dataset = ee.ImageCollection('NASA/NEX-GDDP').filterBounds(rectangleBounds).filterMetadata('model', 'equals', model).filterMetadata('scenario', 'equals', scenario).filter(ee.Filter.date(start_date, end_date)).select(bands[j])\n",
    "    tmp = dataset.toArrayPerBand().sampleRectangle(rectangleBounds).get(bands[j]).getInfo()\n",
    "    np_band_j = np.array(tmp)\n",
    "    bands_dict[bands[j]] = np_band_j\n",
    "    # img = dataset.toBands()\n",
    "                  "
   ]
  },
  {
   "cell_type": "markdown",
   "metadata": {},
   "source": [
    "# Double check timing"
   ]
  },
  {
   "cell_type": "code",
   "execution_count": 10,
   "metadata": {},
   "outputs": [
    {
     "name": "stdout",
     "output_type": "stream",
     "text": [
      "Start\n",
      "The number of milliseconds since 1970-01-01T00:00:00Z.:  1136073600000\n",
      "Formatted date 2006-1-1\n",
      "End\n",
      "The number of milliseconds since 1970-01-01T00:00:00Z.:  1640908800000\n",
      "Formatted date 2021-12-31\n"
     ]
    }
   ],
   "source": [
    "print(\"Start\")\n",
    "print_edge_time(dataset=dataset, start=True)\n",
    "print(\"End\")\n",
    "print_edge_time(dataset=dataset, start=False)"
   ]
  }
 ],
 "metadata": {
  "interpreter": {
   "hash": "c403dcaf6f0351a93b8b6ceb8c1c4fdaf5a1bb6b53e15407b0dfe79f28297d74"
  },
  "kernelspec": {
   "display_name": "Python 3.8.13 ('ee')",
   "language": "python",
   "name": "python3"
  },
  "language_info": {
   "codemirror_mode": {
    "name": "ipython",
    "version": 3
   },
   "file_extension": ".py",
   "mimetype": "text/x-python",
   "name": "python",
   "nbconvert_exporter": "python",
   "pygments_lexer": "ipython3",
   "version": "3.8.13"
  },
  "orig_nbformat": 4
 },
 "nbformat": 4,
 "nbformat_minor": 2
}
