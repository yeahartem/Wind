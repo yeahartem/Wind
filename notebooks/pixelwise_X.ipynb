{
 "cells": [
  {
   "cell_type": "code",
   "execution_count": 2,
   "metadata": {},
   "outputs": [],
   "source": [
    "from osgeo import gdal\n",
    "from matplotlib import pyplot as plt\n",
    "import numpy as np\n",
    "from tqdm import tqdm\n",
    "import os\n",
    "import sys\n",
    "sys.path.append('..')\n",
    "from src.data_utils import data_processing as dp\n",
    "from src.data_utils.data_processing import make_model_dataset\n",
    "from imblearn.ensemble import EasyEnsembleClassifier\n",
    "from sklearn.svm import SVC\n",
    "from sklearn.linear_model import LogisticRegression\n",
    "from sklearn.metrics import roc_curve\n",
    "import random\n",
    "from sklearn.model_selection import GridSearchCV\n",
    "from sklearn.preprocessing import normalize\n",
    "import pickle\n",
    "from sklearn.metrics import roc_curve, auc, roc_auc_score, confusion_matrix\n",
    "import warnings\n",
    "warnings.filterwarnings(\"ignore\")"
   ]
  },
  {
   "cell_type": "code",
   "execution_count": 2,
   "metadata": {},
   "outputs": [],
   "source": [
    "import pandas as pd\n",
    "from sklearn.metrics import accuracy_score\n",
    "from sklearn.metrics import precision_score\n",
    "from sklearn.metrics import recall_score\n",
    "from sklearn.metrics import f1_score\n",
    "import xgboost as xgb\n",
    "from sklearn.preprocessing import OneHotEncoder"
   ]
  },
  {
   "cell_type": "code",
   "execution_count": 3,
   "metadata": {},
   "outputs": [],
   "source": [
    "def dss(start_date, end_date, station_name, station_list, ds_for_y, delta_in_x, cmip, include_day_ohe=False, speed_th=20, pix=[-1, -1]):\n",
    "    '''\n",
    "    Includes several days into X. Makes dataset consisting of X from make_model_dataset(weatherstation_list.csv) and y from data_meteo_kk.csv.\n",
    "    \n",
    "    station_list - weatherstation_list.csv,\n",
    "    ds_for_y - data_meteo_kk.csv,\n",
    "    delta_in_x - number of days into X.\n",
    "    '''\n",
    "    a = make_model_dataset(station_name = station_name, start_date = start_date, end_date = end_date, wind_cmip=cmip, station_list = station_list, pix=pix)\n",
    "    a.insert(loc=0, column='day', value=a.index)\n",
    "    a['day'] = a['day'].dt.dayofyear\n",
    "\n",
    "    if include_day_ohe:\n",
    "        enc = OneHotEncoder()\n",
    "        enc.fit(np.array(a.day).reshape(-1, 1))\n",
    "        a.drop('day', axis=1, inplace=True)\n",
    "        lis = [\n",
    "            [\n",
    "                np.concatenate(\n",
    "                    (\n",
    "                        np.array(a.iloc[i-delta_in_x : i]).reshape(1, -1),\n",
    "                        enc.transform(\n",
    "                            np.atleast_2d(a.iloc[i-1].name.dayofyear)\n",
    "                        ).toarray(),\n",
    "                    ),\n",
    "                    axis=1,\n",
    "                )\n",
    "            ]\n",
    "            for i in range(delta_in_x, a.shape[0])\n",
    "        ]\n",
    "    else:\n",
    "        a.drop('day', axis=1, inplace=True)\n",
    "        lis = [\n",
    "            [\n",
    "                np.concatenate(\n",
    "                    (\n",
    "                        np.array(a.iloc[i-delta_in_x : i]).reshape(1, -1),\n",
    "                    ),\n",
    "                    axis=1,\n",
    "                )\n",
    "            ]\n",
    "            for i in range(delta_in_x, a.shape[0])\n",
    "        ]\n",
    "    \n",
    "    X = np.array(lis).reshape(np.array(lis).shape[0], -1)\n",
    "\n",
    "    ds_for_y['Дата'] = pd.to_datetime((ds_for_y['Дата']), format=\"%Y/%m/%d\")\n",
    "    ds_for_y = ds_for_y.loc[(ds_for_y['Дата'] >= pd.to_datetime(start_date)) & (ds_for_y['Дата'] <= pd.to_datetime(end_date))]\n",
    "    ds_for_y = ds_for_y.loc[ds_for_y['Название метеостанции'] == station_name]\n",
    "    ds_for_y = ds_for_y.groupby(ds_for_y['Дата']).max()   # Как группируется?\n",
    "    max_speed = ds_for_y[['Максимальная скорость', 'Средняя скорость ветра']].max(axis=1)\n",
    "    y = np.array((max_speed >= speed_th).astype(int))\n",
    "    y = y[delta_in_x:a.shape[0]]\n",
    "\n",
    "    return X, y"
   ]
  },
  {
   "cell_type": "code",
   "execution_count": 4,
   "metadata": {},
   "outputs": [],
   "source": [
    "def make_ds(start_date, end_date, station_name, station_list, ds_for_y, cmip, include_day_ohe=False, speed_th=20, pix=[-1, -1]):\n",
    "    '''\n",
    "    Makes dataset consisting of X from make_model_dataset(weatherstation_list.csv) and y from data_meteo_kk.csv.\n",
    "    \n",
    "    station_list - weatherstation_list.csv,\n",
    "    ds_for_y - data_meteo_kk.csv.\n",
    "    '''\n",
    "    a = make_model_dataset(station_name = station_name, start_date = start_date, wind_cmip=cmip, end_date = end_date, station_list = station_list, pix=pix)\n",
    "    a.insert(loc=0, column='day', value=a.index)\n",
    "    a['day'] = a['day'].dt.dayofyear\n",
    "    \n",
    "    if include_day_ohe:\n",
    "        enc = OneHotEncoder()\n",
    "        enc.fit(np.array(a.day).reshape(-1, 1))\n",
    "        a.drop('day', axis=1, inplace=True)\n",
    "        lis = [[enc.transform(np.atleast_2d(a.iloc[i].name.dayofyear)).toarray()] for i in range(a.shape[0])]\n",
    "        ohe_day = pd.DataFrame(np.array(lis).reshape(np.array(lis).shape[0], -1))\n",
    "        X = pd.concat([a, ohe_day.set_index(a.index)], axis=1)\n",
    "    else:\n",
    "        a.drop('day', axis=1, inplace=True)\n",
    "        X = a\n",
    "    \n",
    "\n",
    "    # X = pd.concat([a, ohe_day.set_index(a.index)], axis=1)\n",
    "    \n",
    "\n",
    "    ds_for_y['Дата'] = pd.to_datetime((ds_for_y['Дата']), format=\"%Y/%m/%d\")\n",
    "    ds_for_y = ds_for_y.loc[(ds_for_y['Дата'] >= pd.to_datetime(start_date)) & (ds_for_y['Дата'] <= pd.to_datetime(end_date))]\n",
    "    ds_for_y = ds_for_y.loc[ds_for_y['Название метеостанции'] == station_name]\n",
    "    ds_for_y = ds_for_y.groupby(ds_for_y['Дата']).max()   # Как группируется?\n",
    "    max_speed = ds_for_y[['Максимальная скорость', 'Средняя скорость ветра']].max(axis=1)\n",
    "    y = np.array((max_speed >= speed_th).astype(int))\n",
    "\n",
    "    return X, y"
   ]
  },
  {
   "cell_type": "code",
   "execution_count": 5,
   "metadata": {},
   "outputs": [],
   "source": [
    "def get_region_shape():\n",
    "    path_to_history = 'data/history'\n",
    "    feature_name='tasmax'\n",
    "    file_paths = [path_to_history+ '/' + fn for fn in os.listdir(path_to_history) if (fn[-4:] == '.tif' ) and feature_name in fn]   \n",
    "    dataset = gdal.Open(file_paths[0], gdal.GA_ReadOnly)\n",
    "    \n",
    "    band = dataset.GetRasterBand(1)\n",
    "    \n",
    "    arr = band.ReadAsArray()\n",
    "    return arr.shape\n",
    "\n",
    "region_shape = get_region_shape()"
   ]
  },
  {
   "cell_type": "code",
   "execution_count": 6,
   "metadata": {},
   "outputs": [],
   "source": [
    "start = '2006-01-01'\n",
    "end = '2020-01-01'\n",
    "df = pd.read_csv('data_meteo_kk.csv')\n",
    "st = pd.read_csv('weatherstation_list.csv')\n",
    "loaded_arr = np.loadtxt(\"wind_in_box.txt\")  \n",
    "# This loadedArr is a 2D array, therefore, we need to convert it to the original array shape.reshaping to get original matrice with original shape.\n",
    "cmip = loaded_arr.reshape(3652, 15, 22)"
   ]
  },
  {
   "cell_type": "code",
   "execution_count": 7,
   "metadata": {},
   "outputs": [
    {
     "name": "stderr",
     "output_type": "stream",
     "text": [
      "  0%|          | 0/15 [00:00<?, ?it/s]"
     ]
    },
    {
     "name": "stdout",
     "output_type": "stream",
     "text": [
      "[-1, -1]\n"
     ]
    },
    {
     "name": "stderr",
     "output_type": "stream",
     "text": [
      "\n"
     ]
    },
    {
     "ename": "IndexError",
     "evalue": "index 0 is out of bounds for axis 0 with size 0",
     "output_type": "error",
     "traceback": [
      "\u001b[0;31m---------------------------------------------------------------------------\u001b[0m",
      "\u001b[0;31mIndexError\u001b[0m                                Traceback (most recent call last)",
      "\u001b[0;32m<ipython-input-7-cfd8b9da811b>\u001b[0m in \u001b[0;36m<module>\u001b[0;34m()\u001b[0m\n\u001b[1;32m      6\u001b[0m     \u001b[0;32mfor\u001b[0m \u001b[0mi\u001b[0m \u001b[0;32min\u001b[0m \u001b[0mtqdm\u001b[0m\u001b[0;34m(\u001b[0m\u001b[0mrange\u001b[0m\u001b[0;34m(\u001b[0m\u001b[0mregion_shape\u001b[0m\u001b[0;34m[\u001b[0m\u001b[0;36m0\u001b[0m\u001b[0;34m]\u001b[0m\u001b[0;34m)\u001b[0m\u001b[0;34m)\u001b[0m\u001b[0;34m:\u001b[0m\u001b[0;34m\u001b[0m\u001b[0m\n\u001b[1;32m      7\u001b[0m         \u001b[0;32mfor\u001b[0m \u001b[0mj\u001b[0m \u001b[0;32min\u001b[0m \u001b[0mrange\u001b[0m\u001b[0;34m(\u001b[0m\u001b[0mregion_shape\u001b[0m\u001b[0;34m[\u001b[0m\u001b[0;36m1\u001b[0m\u001b[0;34m]\u001b[0m\u001b[0;34m)\u001b[0m\u001b[0;34m:\u001b[0m\u001b[0;34m\u001b[0m\u001b[0m\n\u001b[0;32m----> 8\u001b[0;31m             \u001b[0mX\u001b[0m\u001b[0;34m,\u001b[0m \u001b[0m_\u001b[0m \u001b[0;34m=\u001b[0m \u001b[0mdss\u001b[0m\u001b[0;34m(\u001b[0m\u001b[0mstart\u001b[0m\u001b[0;34m,\u001b[0m \u001b[0mend\u001b[0m\u001b[0;34m,\u001b[0m \u001b[0;32mNone\u001b[0m\u001b[0;34m,\u001b[0m \u001b[0mst\u001b[0m\u001b[0;34m,\u001b[0m \u001b[0mdf\u001b[0m\u001b[0;34m,\u001b[0m \u001b[0;36m15\u001b[0m\u001b[0;34m,\u001b[0m \u001b[0mcmip\u001b[0m\u001b[0;34m=\u001b[0m\u001b[0mcmip\u001b[0m\u001b[0;34m,\u001b[0m \u001b[0minclude_day_ohe\u001b[0m\u001b[0;34m=\u001b[0m\u001b[0minclude_day_ohe\u001b[0m\u001b[0;34m,\u001b[0m \u001b[0mspeed_th\u001b[0m\u001b[0;34m=\u001b[0m\u001b[0mspeed_th\u001b[0m\u001b[0;34m,\u001b[0m \u001b[0mpix\u001b[0m\u001b[0;34m=\u001b[0m\u001b[0;34m[\u001b[0m\u001b[0mj\u001b[0m\u001b[0;34m,\u001b[0m \u001b[0mi\u001b[0m\u001b[0;34m]\u001b[0m\u001b[0;34m)\u001b[0m\u001b[0;34m\u001b[0m\u001b[0m\n\u001b[0m\u001b[1;32m      9\u001b[0m             \u001b[0mdata_dict\u001b[0m\u001b[0;34m[\u001b[0m\u001b[0;34m(\u001b[0m\u001b[0mi\u001b[0m\u001b[0;34m,\u001b[0m \u001b[0mj\u001b[0m\u001b[0;34m)\u001b[0m\u001b[0;34m]\u001b[0m \u001b[0;34m=\u001b[0m \u001b[0mX\u001b[0m\u001b[0;34m\u001b[0m\u001b[0m\n\u001b[1;32m     10\u001b[0m     \u001b[0mfilename\u001b[0m \u001b[0;34m=\u001b[0m \u001b[0;34m'pixelwise_X.pkl'\u001b[0m\u001b[0;34m\u001b[0m\u001b[0m\n",
      "\u001b[0;32m<ipython-input-3-b6ff2634a057>\u001b[0m in \u001b[0;36mdss\u001b[0;34m(start_date, end_date, station_name, station_list, ds_for_y, delta_in_x, cmip, include_day_ohe, speed_th, pix)\u001b[0m\n\u001b[1;32m      7\u001b[0m     \u001b[0mdelta_in_x\u001b[0m \u001b[0;34m-\u001b[0m \u001b[0mnumber\u001b[0m \u001b[0mof\u001b[0m \u001b[0mdays\u001b[0m \u001b[0minto\u001b[0m \u001b[0mX\u001b[0m\u001b[0;34m.\u001b[0m\u001b[0;34m\u001b[0m\u001b[0m\n\u001b[1;32m      8\u001b[0m     '''\n\u001b[0;32m----> 9\u001b[0;31m     \u001b[0ma\u001b[0m \u001b[0;34m=\u001b[0m \u001b[0mmake_model_dataset\u001b[0m\u001b[0;34m(\u001b[0m\u001b[0mstation_name\u001b[0m \u001b[0;34m=\u001b[0m \u001b[0mstation_name\u001b[0m\u001b[0;34m,\u001b[0m \u001b[0mstart_date\u001b[0m \u001b[0;34m=\u001b[0m \u001b[0mstart_date\u001b[0m\u001b[0;34m,\u001b[0m \u001b[0mend_date\u001b[0m \u001b[0;34m=\u001b[0m \u001b[0mend_date\u001b[0m\u001b[0;34m,\u001b[0m \u001b[0mwind_cmip\u001b[0m\u001b[0;34m=\u001b[0m\u001b[0mcmip\u001b[0m\u001b[0;34m,\u001b[0m \u001b[0mstation_list\u001b[0m \u001b[0;34m=\u001b[0m \u001b[0mstation_list\u001b[0m\u001b[0;34m)\u001b[0m\u001b[0;34m\u001b[0m\u001b[0m\n\u001b[0m\u001b[1;32m     10\u001b[0m     \u001b[0ma\u001b[0m\u001b[0;34m.\u001b[0m\u001b[0minsert\u001b[0m\u001b[0;34m(\u001b[0m\u001b[0mloc\u001b[0m\u001b[0;34m=\u001b[0m\u001b[0;36m0\u001b[0m\u001b[0;34m,\u001b[0m \u001b[0mcolumn\u001b[0m\u001b[0;34m=\u001b[0m\u001b[0;34m'day'\u001b[0m\u001b[0;34m,\u001b[0m \u001b[0mvalue\u001b[0m\u001b[0;34m=\u001b[0m\u001b[0ma\u001b[0m\u001b[0;34m.\u001b[0m\u001b[0mindex\u001b[0m\u001b[0;34m)\u001b[0m\u001b[0;34m\u001b[0m\u001b[0m\n\u001b[1;32m     11\u001b[0m     \u001b[0ma\u001b[0m\u001b[0;34m[\u001b[0m\u001b[0;34m'day'\u001b[0m\u001b[0;34m]\u001b[0m \u001b[0;34m=\u001b[0m \u001b[0ma\u001b[0m\u001b[0;34m[\u001b[0m\u001b[0;34m'day'\u001b[0m\u001b[0;34m]\u001b[0m\u001b[0;34m.\u001b[0m\u001b[0mdt\u001b[0m\u001b[0;34m.\u001b[0m\u001b[0mdayofyear\u001b[0m\u001b[0;34m\u001b[0m\u001b[0m\n",
      "\u001b[0;32m/home/lukashevich/wind/Wind/src/data_utils/data_processing.py\u001b[0m in \u001b[0;36mmake_model_dataset\u001b[0;34m(station_name, start_date, end_date, wind_cmip, station_list, path_to_history, path_to_elev, features, pix)\u001b[0m\n\u001b[1;32m     99\u001b[0m         \u001b[0mprint\u001b[0m\u001b[0;34m(\u001b[0m\u001b[0mpix\u001b[0m\u001b[0;34m)\u001b[0m\u001b[0;34m\u001b[0m\u001b[0m\n\u001b[1;32m    100\u001b[0m         \u001b[0;32mif\u001b[0m \u001b[0mpix\u001b[0m\u001b[0;34m[\u001b[0m\u001b[0;36m0\u001b[0m\u001b[0;34m]\u001b[0m \u001b[0;34m==\u001b[0m \u001b[0;34m-\u001b[0m\u001b[0;36m1\u001b[0m \u001b[0;32mand\u001b[0m \u001b[0mpix\u001b[0m\u001b[0;34m[\u001b[0m\u001b[0;36m1\u001b[0m\u001b[0;34m]\u001b[0m \u001b[0;34m==\u001b[0m \u001b[0;34m-\u001b[0m\u001b[0;36m1\u001b[0m\u001b[0;34m:\u001b[0m\u001b[0;34m\u001b[0m\u001b[0m\n\u001b[0;32m--> 101\u001b[0;31m           \u001b[0mpix\u001b[0m \u001b[0;34m=\u001b[0m \u001b[0mclosest_pixel_for_station\u001b[0m\u001b[0;34m(\u001b[0m\u001b[0mstation_name\u001b[0m\u001b[0;34m=\u001b[0m\u001b[0mstation_name\u001b[0m\u001b[0;34m,\u001b[0m \u001b[0mdataset\u001b[0m\u001b[0;34m=\u001b[0m\u001b[0mdataset\u001b[0m\u001b[0;34m,\u001b[0m \u001b[0mstation_list\u001b[0m\u001b[0;34m=\u001b[0m\u001b[0mstation_list\u001b[0m\u001b[0;34m)\u001b[0m\u001b[0;34m\u001b[0m\u001b[0m\n\u001b[0m\u001b[1;32m    102\u001b[0m         \u001b[0marray\u001b[0m \u001b[0;34m=\u001b[0m \u001b[0;34m[\u001b[0m\u001b[0;34m]\u001b[0m\u001b[0;34m\u001b[0m\u001b[0m\n\u001b[1;32m    103\u001b[0m         \u001b[0;32mfor\u001b[0m \u001b[0mi\u001b[0m \u001b[0;32min\u001b[0m \u001b[0mrange\u001b[0m\u001b[0;34m(\u001b[0m\u001b[0;36m1\u001b[0m\u001b[0;34m,\u001b[0m \u001b[0;36m5145\u001b[0m\u001b[0;34m)\u001b[0m\u001b[0;34m:\u001b[0m\u001b[0;34m\u001b[0m\u001b[0m\n",
      "\u001b[0;32m/home/lukashevich/wind/Wind/src/data_utils/data_processing.py\u001b[0m in \u001b[0;36mclosest_pixel_for_station\u001b[0;34m(station_name, dataset, station_list)\u001b[0m\n\u001b[1;32m     76\u001b[0m     \"\"\"\n\u001b[1;32m     77\u001b[0m     \u001b[0mstation\u001b[0m \u001b[0;34m=\u001b[0m \u001b[0mstation_list\u001b[0m\u001b[0;34m[\u001b[0m\u001b[0mstation_list\u001b[0m\u001b[0;34m[\u001b[0m\u001b[0;34m\"Наименование станции\"\u001b[0m\u001b[0;34m]\u001b[0m \u001b[0;34m==\u001b[0m \u001b[0mstation_name\u001b[0m\u001b[0;34m]\u001b[0m\u001b[0;34m\u001b[0m\u001b[0m\n\u001b[0;32m---> 78\u001b[0;31m     \u001b[0mcoord\u001b[0m \u001b[0;34m=\u001b[0m \u001b[0;34m[\u001b[0m\u001b[0mstation\u001b[0m\u001b[0;34m[\u001b[0m\u001b[0;34m\"Долгота\"\u001b[0m\u001b[0;34m]\u001b[0m\u001b[0;34m.\u001b[0m\u001b[0mvalues\u001b[0m\u001b[0;34m[\u001b[0m\u001b[0;36m0\u001b[0m\u001b[0;34m]\u001b[0m\u001b[0;34m,\u001b[0m \u001b[0mstation\u001b[0m\u001b[0;34m[\u001b[0m\u001b[0;34m\"Широта\"\u001b[0m\u001b[0;34m]\u001b[0m\u001b[0;34m.\u001b[0m\u001b[0mvalues\u001b[0m\u001b[0;34m[\u001b[0m\u001b[0;36m0\u001b[0m\u001b[0;34m]\u001b[0m\u001b[0;34m]\u001b[0m\u001b[0;34m\u001b[0m\u001b[0m\n\u001b[0m\u001b[1;32m     79\u001b[0m     \u001b[0mpix\u001b[0m \u001b[0;34m=\u001b[0m \u001b[0mget_closest_pixel\u001b[0m\u001b[0;34m(\u001b[0m\u001b[0mdataset\u001b[0m\u001b[0;34m=\u001b[0m\u001b[0mdataset\u001b[0m\u001b[0;34m,\u001b[0m \u001b[0mcoord\u001b[0m\u001b[0;34m=\u001b[0m\u001b[0mcoord\u001b[0m\u001b[0;34m)\u001b[0m\u001b[0;34m\u001b[0m\u001b[0m\n\u001b[1;32m     80\u001b[0m     \u001b[0;32mreturn\u001b[0m \u001b[0mpix\u001b[0m\u001b[0;34m\u001b[0m\u001b[0m\n",
      "\u001b[0;31mIndexError\u001b[0m: index 0 is out of bounds for axis 0 with size 0"
     ]
    }
   ],
   "source": [
    "include_day_ohe = False\n",
    "single_day = False\n",
    "speed_th = 20\n",
    "if 'pixelwise_X.pkl' not in os.listdir():\n",
    "    data_dict = {}\n",
    "    for i in tqdm(range(region_shape[0])):\n",
    "        for j in range(region_shape[1]):\n",
    "            X, _ = dss(start, end, None, st, df, 15, cmip=cmip, include_day_ohe=include_day_ohe, speed_th=speed_th, pix=[j, i])\n",
    "            data_dict[(i, j)] = X\n",
    "    filename = 'pixelwise_X.pkl'\n",
    "    pickle.dump(data_dict, open(filename, 'wb'))\n",
    "    loaded_dict = pickle.load(open(filename, 'rb'))\n",
    "    equals = True\n",
    "    for k in loaded_dict.keys():\n",
    "        equals = equals and np.allclose(loaded_dict[k], data_dict[k])\n",
    "    print(\"Saved correctly: \", equals)\n",
    "\n"
   ]
  },
  {
   "cell_type": "code",
   "execution_count": 34,
   "metadata": {},
   "outputs": [
    {
     "data": {
      "text/plain": [
       "True"
      ]
     },
     "execution_count": 34,
     "metadata": {},
     "output_type": "execute_result"
    }
   ],
   "source": [
    "loaded_dict = pickle.load(open(filename, 'rb'))"
   ]
  }
 ],
 "metadata": {
  "interpreter": {
   "hash": "eb9120d4e94f37695d2a45f521fb366896a7bc5eab844a4c6789236e8d913311"
  },
  "kernelspec": {
   "display_name": "Python 3.5.6 ('pygdal')",
   "language": "python",
   "name": "python3"
  },
  "language_info": {
   "codemirror_mode": {
    "name": "ipython",
    "version": 3
   },
   "file_extension": ".py",
   "mimetype": "text/x-python",
   "name": "python",
   "nbconvert_exporter": "python",
   "pygments_lexer": "ipython3",
   "version": "3.5.6"
  },
  "orig_nbformat": 4
 },
 "nbformat": 4,
 "nbformat_minor": 2
}
