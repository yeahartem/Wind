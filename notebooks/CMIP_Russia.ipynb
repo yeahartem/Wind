{
 "cells": [
  {
   "cell_type": "code",
   "execution_count": 1,
   "metadata": {
    "scrolled": false
   },
   "outputs": [],
   "source": [
    "import sys\n",
    "sys.path.append('..')\n",
    "from src.data_utils.data_processing import *\n",
    "\n",
    "import numpy as np\n",
    "import warnings\n",
    "warnings.filterwarnings(\"ignore\")\n",
    "import xarray\n",
    "import pandas as pd\n",
    "from sklearn import preprocessing\n",
    "from scipy import interpolate"
   ]
  },
  {
   "cell_type": "code",
   "execution_count": 5,
   "metadata": {},
   "outputs": [],
   "source": [
    "# f0 = xarray.open_dataset('sfcWind_day_inmcm4_rcp45_r1i1p1_20060101-20151231.nc')\n",
    "# df0 = f0.to_dataframe()\n",
    "\n",
    "f1 = xarray.open_dataset('../sfcWind_day_inmcm4_rcp45_r1i1p1_20160101-20251231.nc')\n",
    "df1 = f1.to_dataframe()\n",
    "\n",
    "f2 = xarray.open_dataset('../sfcWind_day_inmcm4_rcp45_r1i1p1_20260101-20351231.nc')\n",
    "df2 = f2.to_dataframe()"
   ]
  },
  {
   "cell_type": "code",
   "execution_count": 6,
   "metadata": {},
   "outputs": [],
   "source": [
    "feb_28_in_2008_and_2012 = [2248, 788]    # The same for 2028 and 2032 (period 2026-2035)\n",
    "feb_28_in_2016_2020_2024 = [2978, 1518, 58]\n",
    "\n",
    "# f06 = extract_cmip_grid(df0, 40, 77, 19, 169)\n",
    "# df2006 = leap_years(f06, feb_28_in_2008_and_2012)\n",
    "\n",
    "f16 = extract_cmip_grid(df1, 40, 77, 19, 169)\n",
    "df2016 = leap_years(f16, feb_28_in_2016_2020_2024)\n",
    "\n",
    "f26 = extract_cmip_grid(df2, 40, 77, 19, 169)\n",
    "df2026 = leap_years(f26, feb_28_in_2008_and_2012)"
   ]
  },
  {
   "cell_type": "code",
   "execution_count": 9,
   "metadata": {},
   "outputs": [],
   "source": [
    "test = np.vstack((df2016[1827:], df2026[: 1826])) # 2021 - 2030 (included)\n",
    "# train = np.vstack((df2006, df2016[: 1827]))       # 2006 - 2020 (included)"
   ]
  },
  {
   "cell_type": "markdown",
   "metadata": {},
   "source": [
    "To Save and Load"
   ]
  },
  {
   "cell_type": "code",
   "execution_count": 7,
   "metadata": {},
   "outputs": [],
   "source": [
    "# with open('test2021-2030.npy', 'wb') as f:\n",
    "#     np.save(f, test)\n",
    "\n",
    "with open('../train2006-2020.npy', 'rb') as f:\n",
    "    test = np.load(f)"
   ]
  },
  {
   "cell_type": "code",
   "execution_count": 10,
   "metadata": {},
   "outputs": [],
   "source": [
    "with open('../test2021-2030.npy', 'rb') as f:\n",
    "    check = np.load(f)"
   ]
  },
  {
   "cell_type": "code",
   "execution_count": 13,
   "metadata": {},
   "outputs": [
    {
     "data": {
      "text/plain": [
       "array([121, 122, 123, 124, 125, 126, 127, 128, 129, 130, 131, 132, 133,\n",
       "       134, 135])"
      ]
     },
     "execution_count": 13,
     "metadata": {},
     "output_type": "execute_result"
    }
   ],
   "source": [
    "x_russia = np.arange(18.75, 169.26, 0.25)\n",
    "y_russia = np.arange(40.75, 77.26, 0.25)[::-1]\n",
    "\n",
    "x_kk = np.arange(36.5, 41.76, 0.25) \n",
    "y_kk = np.arange(43.5, 47.1, 0.25)\n",
    "\n",
    "y_ind = np.where((y_russia >= y_kk[0]) & (y_russia <= y_kk[-1]))[0]\n",
    "x_ind = np.where((x_russia >= x_kk[0]) & (x_russia <= x_kk[-1]))[0]\n",
    "y_ind"
   ]
  },
  {
   "cell_type": "code",
   "execution_count": 14,
   "metadata": {},
   "outputs": [
    {
     "data": {
      "text/plain": [
       "(3652, 147, 603)"
      ]
     },
     "execution_count": 14,
     "metadata": {},
     "output_type": "execute_result"
    }
   ],
   "source": [
    "test.shape"
   ]
  },
  {
   "cell_type": "code",
   "execution_count": 15,
   "metadata": {},
   "outputs": [
    {
     "data": {
      "text/plain": [
       "(3652, 15, 22)"
      ]
     },
     "execution_count": 15,
     "metadata": {},
     "output_type": "execute_result"
    }
   ],
   "source": [
    "KK = test[:, y_ind[0]:y_ind[-1] + 1, x_ind[0]:x_ind[-1] + 1]\n",
    "KK.shape"
   ]
  },
  {
   "cell_type": "code",
   "execution_count": 16,
   "metadata": {},
   "outputs": [],
   "source": [
    "with open('../KK_test2021-2030.npy', 'wb') as f:\n",
    "    np.save(f, test)"
   ]
  },
  {
   "cell_type": "markdown",
   "metadata": {},
   "source": [
    "# Trash"
   ]
  },
  {
   "cell_type": "code",
   "execution_count": 14,
   "metadata": {},
   "outputs": [
    {
     "data": {
      "text/html": [
       "<div>\n",
       "<style scoped>\n",
       "    .dataframe tbody tr th:only-of-type {\n",
       "        vertical-align: middle;\n",
       "    }\n",
       "\n",
       "    .dataframe tbody tr th {\n",
       "        vertical-align: top;\n",
       "    }\n",
       "\n",
       "    .dataframe thead th {\n",
       "        text-align: right;\n",
       "    }\n",
       "</style>\n",
       "<table border=\"1\" class=\"dataframe\">\n",
       "  <thead>\n",
       "    <tr style=\"text-align: right;\">\n",
       "      <th></th>\n",
       "      <th></th>\n",
       "      <th></th>\n",
       "      <th></th>\n",
       "      <th>time_bnds</th>\n",
       "      <th>lat_bnds</th>\n",
       "      <th>lon_bnds</th>\n",
       "      <th>height</th>\n",
       "      <th>sfcWind</th>\n",
       "    </tr>\n",
       "    <tr>\n",
       "      <th>time</th>\n",
       "      <th>bnds</th>\n",
       "      <th>lat</th>\n",
       "      <th>lon</th>\n",
       "      <th></th>\n",
       "      <th></th>\n",
       "      <th></th>\n",
       "      <th></th>\n",
       "      <th></th>\n",
       "    </tr>\n",
       "  </thead>\n",
       "  <tbody>\n",
       "    <tr>\n",
       "      <th rowspan=\"5\" valign=\"top\">2026-01-01 12:00:00</th>\n",
       "      <th rowspan=\"5\" valign=\"top\">0</th>\n",
       "      <th rowspan=\"5\" valign=\"top\">39.75</th>\n",
       "      <th>20.0</th>\n",
       "      <td>2026-01-01 00:00:00</td>\n",
       "      <td>39.0</td>\n",
       "      <td>19.0</td>\n",
       "      <td>10.0</td>\n",
       "      <td>1.710000</td>\n",
       "    </tr>\n",
       "    <tr>\n",
       "      <th>22.0</th>\n",
       "      <td>2026-01-01 00:00:00</td>\n",
       "      <td>39.0</td>\n",
       "      <td>21.0</td>\n",
       "      <td>10.0</td>\n",
       "      <td>1.090000</td>\n",
       "    </tr>\n",
       "    <tr>\n",
       "      <th>24.0</th>\n",
       "      <td>2026-01-01 00:00:00</td>\n",
       "      <td>39.0</td>\n",
       "      <td>23.0</td>\n",
       "      <td>10.0</td>\n",
       "      <td>3.200000</td>\n",
       "    </tr>\n",
       "    <tr>\n",
       "      <th>26.0</th>\n",
       "      <td>2026-01-01 00:00:00</td>\n",
       "      <td>39.0</td>\n",
       "      <td>25.0</td>\n",
       "      <td>10.0</td>\n",
       "      <td>0.980000</td>\n",
       "    </tr>\n",
       "    <tr>\n",
       "      <th>28.0</th>\n",
       "      <td>2026-01-01 00:00:00</td>\n",
       "      <td>39.0</td>\n",
       "      <td>27.0</td>\n",
       "      <td>10.0</td>\n",
       "      <td>0.640000</td>\n",
       "    </tr>\n",
       "    <tr>\n",
       "      <th>...</th>\n",
       "      <th>...</th>\n",
       "      <th>...</th>\n",
       "      <th>...</th>\n",
       "      <td>...</td>\n",
       "      <td>...</td>\n",
       "      <td>...</td>\n",
       "      <td>...</td>\n",
       "      <td>...</td>\n",
       "    </tr>\n",
       "    <tr>\n",
       "      <th rowspan=\"5\" valign=\"top\">2035-12-31 12:00:00</th>\n",
       "      <th rowspan=\"5\" valign=\"top\">1</th>\n",
       "      <th rowspan=\"5\" valign=\"top\">77.25</th>\n",
       "      <th>160.0</th>\n",
       "      <td>2036-01-01 00:00:00</td>\n",
       "      <td>78.0</td>\n",
       "      <td>161.0</td>\n",
       "      <td>10.0</td>\n",
       "      <td>7.450000</td>\n",
       "    </tr>\n",
       "    <tr>\n",
       "      <th>162.0</th>\n",
       "      <td>2036-01-01 00:00:00</td>\n",
       "      <td>78.0</td>\n",
       "      <td>163.0</td>\n",
       "      <td>10.0</td>\n",
       "      <td>9.179999</td>\n",
       "    </tr>\n",
       "    <tr>\n",
       "      <th>164.0</th>\n",
       "      <td>2036-01-01 00:00:00</td>\n",
       "      <td>78.0</td>\n",
       "      <td>165.0</td>\n",
       "      <td>10.0</td>\n",
       "      <td>10.450000</td>\n",
       "    </tr>\n",
       "    <tr>\n",
       "      <th>166.0</th>\n",
       "      <td>2036-01-01 00:00:00</td>\n",
       "      <td>78.0</td>\n",
       "      <td>167.0</td>\n",
       "      <td>10.0</td>\n",
       "      <td>11.349999</td>\n",
       "    </tr>\n",
       "    <tr>\n",
       "      <th>168.0</th>\n",
       "      <td>2036-01-01 00:00:00</td>\n",
       "      <td>78.0</td>\n",
       "      <td>169.0</td>\n",
       "      <td>10.0</td>\n",
       "      <td>12.040000</td>\n",
       "    </tr>\n",
       "  </tbody>\n",
       "</table>\n",
       "<p>14979600 rows × 5 columns</p>\n",
       "</div>"
      ],
      "text/plain": [
       "                                                time_bnds  lat_bnds  lon_bnds  \\\n",
       "time                bnds lat   lon                                              \n",
       "2026-01-01 12:00:00 0    39.75 20.0   2026-01-01 00:00:00      39.0      19.0   \n",
       "                               22.0   2026-01-01 00:00:00      39.0      21.0   \n",
       "                               24.0   2026-01-01 00:00:00      39.0      23.0   \n",
       "                               26.0   2026-01-01 00:00:00      39.0      25.0   \n",
       "                               28.0   2026-01-01 00:00:00      39.0      27.0   \n",
       "...                                                   ...       ...       ...   \n",
       "2035-12-31 12:00:00 1    77.25 160.0  2036-01-01 00:00:00      78.0     161.0   \n",
       "                               162.0  2036-01-01 00:00:00      78.0     163.0   \n",
       "                               164.0  2036-01-01 00:00:00      78.0     165.0   \n",
       "                               166.0  2036-01-01 00:00:00      78.0     167.0   \n",
       "                               168.0  2036-01-01 00:00:00      78.0     169.0   \n",
       "\n",
       "                                      height    sfcWind  \n",
       "time                bnds lat   lon                       \n",
       "2026-01-01 12:00:00 0    39.75 20.0     10.0   1.710000  \n",
       "                               22.0     10.0   1.090000  \n",
       "                               24.0     10.0   3.200000  \n",
       "                               26.0     10.0   0.980000  \n",
       "                               28.0     10.0   0.640000  \n",
       "...                                      ...        ...  \n",
       "2035-12-31 12:00:00 1    77.25 160.0    10.0   7.450000  \n",
       "                               162.0    10.0   9.179999  \n",
       "                               164.0    10.0  10.450000  \n",
       "                               166.0    10.0  11.349999  \n",
       "                               168.0    10.0  12.040000  \n",
       "\n",
       "[14979600 rows x 5 columns]"
      ]
     },
     "execution_count": 14,
     "metadata": {},
     "output_type": "execute_result"
    }
   ],
   "source": [
    "a = df2.loc[(df2.lat_bnds >= 40 - 1.5) & (df2.lat_bnds <= 77 + 1.5)] # Широта   \n",
    "a = a.loc[(a.lon_bnds >= 19) & (a.lon_bnds <= 169)]                 # Долгота\n",
    "a"
   ]
  },
  {
   "cell_type": "markdown",
   "metadata": {},
   "source": [
    "Reset Index"
   ]
  },
  {
   "cell_type": "code",
   "execution_count": 15,
   "metadata": {},
   "outputs": [
    {
     "data": {
      "text/html": [
       "<div>\n",
       "<style scoped>\n",
       "    .dataframe tbody tr th:only-of-type {\n",
       "        vertical-align: middle;\n",
       "    }\n",
       "\n",
       "    .dataframe tbody tr th {\n",
       "        vertical-align: top;\n",
       "    }\n",
       "\n",
       "    .dataframe thead th {\n",
       "        text-align: right;\n",
       "    }\n",
       "</style>\n",
       "<table border=\"1\" class=\"dataframe\">\n",
       "  <thead>\n",
       "    <tr style=\"text-align: right;\">\n",
       "      <th></th>\n",
       "      <th>time</th>\n",
       "      <th>lat</th>\n",
       "      <th>lon</th>\n",
       "      <th>sfcWind</th>\n",
       "    </tr>\n",
       "  </thead>\n",
       "  <tbody>\n",
       "    <tr>\n",
       "      <th>0</th>\n",
       "      <td>2026-01-01 12:00:00</td>\n",
       "      <td>39.75</td>\n",
       "      <td>20.0</td>\n",
       "      <td>1.710000</td>\n",
       "    </tr>\n",
       "    <tr>\n",
       "      <th>1</th>\n",
       "      <td>2026-01-01 12:00:00</td>\n",
       "      <td>39.75</td>\n",
       "      <td>22.0</td>\n",
       "      <td>1.090000</td>\n",
       "    </tr>\n",
       "    <tr>\n",
       "      <th>2</th>\n",
       "      <td>2026-01-01 12:00:00</td>\n",
       "      <td>39.75</td>\n",
       "      <td>24.0</td>\n",
       "      <td>3.200000</td>\n",
       "    </tr>\n",
       "    <tr>\n",
       "      <th>3</th>\n",
       "      <td>2026-01-01 12:00:00</td>\n",
       "      <td>39.75</td>\n",
       "      <td>26.0</td>\n",
       "      <td>0.980000</td>\n",
       "    </tr>\n",
       "    <tr>\n",
       "      <th>4</th>\n",
       "      <td>2026-01-01 12:00:00</td>\n",
       "      <td>39.75</td>\n",
       "      <td>28.0</td>\n",
       "      <td>0.640000</td>\n",
       "    </tr>\n",
       "    <tr>\n",
       "      <th>...</th>\n",
       "      <td>...</td>\n",
       "      <td>...</td>\n",
       "      <td>...</td>\n",
       "      <td>...</td>\n",
       "    </tr>\n",
       "    <tr>\n",
       "      <th>14979595</th>\n",
       "      <td>2035-12-31 12:00:00</td>\n",
       "      <td>77.25</td>\n",
       "      <td>160.0</td>\n",
       "      <td>7.450000</td>\n",
       "    </tr>\n",
       "    <tr>\n",
       "      <th>14979596</th>\n",
       "      <td>2035-12-31 12:00:00</td>\n",
       "      <td>77.25</td>\n",
       "      <td>162.0</td>\n",
       "      <td>9.179999</td>\n",
       "    </tr>\n",
       "    <tr>\n",
       "      <th>14979597</th>\n",
       "      <td>2035-12-31 12:00:00</td>\n",
       "      <td>77.25</td>\n",
       "      <td>164.0</td>\n",
       "      <td>10.450000</td>\n",
       "    </tr>\n",
       "    <tr>\n",
       "      <th>14979598</th>\n",
       "      <td>2035-12-31 12:00:00</td>\n",
       "      <td>77.25</td>\n",
       "      <td>166.0</td>\n",
       "      <td>11.349999</td>\n",
       "    </tr>\n",
       "    <tr>\n",
       "      <th>14979599</th>\n",
       "      <td>2035-12-31 12:00:00</td>\n",
       "      <td>77.25</td>\n",
       "      <td>168.0</td>\n",
       "      <td>12.040000</td>\n",
       "    </tr>\n",
       "  </tbody>\n",
       "</table>\n",
       "<p>14979600 rows × 4 columns</p>\n",
       "</div>"
      ],
      "text/plain": [
       "                         time    lat    lon    sfcWind\n",
       "0         2026-01-01 12:00:00  39.75   20.0   1.710000\n",
       "1         2026-01-01 12:00:00  39.75   22.0   1.090000\n",
       "2         2026-01-01 12:00:00  39.75   24.0   3.200000\n",
       "3         2026-01-01 12:00:00  39.75   26.0   0.980000\n",
       "4         2026-01-01 12:00:00  39.75   28.0   0.640000\n",
       "...                       ...    ...    ...        ...\n",
       "14979595  2035-12-31 12:00:00  77.25  160.0   7.450000\n",
       "14979596  2035-12-31 12:00:00  77.25  162.0   9.179999\n",
       "14979597  2035-12-31 12:00:00  77.25  164.0  10.450000\n",
       "14979598  2035-12-31 12:00:00  77.25  166.0  11.349999\n",
       "14979599  2035-12-31 12:00:00  77.25  168.0  12.040000\n",
       "\n",
       "[14979600 rows x 4 columns]"
      ]
     },
     "execution_count": 15,
     "metadata": {},
     "output_type": "execute_result"
    }
   ],
   "source": [
    "a = a.reset_index()\n",
    "a.drop(columns=['time_bnds', 'lat_bnds', 'lon_bnds', 'height', 'bnds', 'time'], inplace=True)\n",
    "a"
   ]
  },
  {
   "cell_type": "code",
   "execution_count": 7,
   "metadata": {},
   "outputs": [
    {
     "data": {
      "text/html": [
       "<div>\n",
       "<style scoped>\n",
       "    .dataframe tbody tr th:only-of-type {\n",
       "        vertical-align: middle;\n",
       "    }\n",
       "\n",
       "    .dataframe tbody tr th {\n",
       "        vertical-align: top;\n",
       "    }\n",
       "\n",
       "    .dataframe thead th {\n",
       "        text-align: right;\n",
       "    }\n",
       "</style>\n",
       "<table border=\"1\" class=\"dataframe\">\n",
       "  <thead>\n",
       "    <tr style=\"text-align: right;\">\n",
       "      <th></th>\n",
       "      <th>lat_idx</th>\n",
       "      <th>lon_idx</th>\n",
       "      <th>sfcWind</th>\n",
       "    </tr>\n",
       "  </thead>\n",
       "  <tbody>\n",
       "    <tr>\n",
       "      <th>0</th>\n",
       "      <td>1</td>\n",
       "      <td>1</td>\n",
       "      <td>5.890000</td>\n",
       "    </tr>\n",
       "    <tr>\n",
       "      <th>1</th>\n",
       "      <td>1</td>\n",
       "      <td>2</td>\n",
       "      <td>5.910000</td>\n",
       "    </tr>\n",
       "    <tr>\n",
       "      <th>2</th>\n",
       "      <td>1</td>\n",
       "      <td>3</td>\n",
       "      <td>9.780000</td>\n",
       "    </tr>\n",
       "    <tr>\n",
       "      <th>3</th>\n",
       "      <td>1</td>\n",
       "      <td>4</td>\n",
       "      <td>7.250000</td>\n",
       "    </tr>\n",
       "    <tr>\n",
       "      <th>4</th>\n",
       "      <td>1</td>\n",
       "      <td>5</td>\n",
       "      <td>7.210000</td>\n",
       "    </tr>\n",
       "    <tr>\n",
       "      <th>...</th>\n",
       "      <td>...</td>\n",
       "      <td>...</td>\n",
       "      <td>...</td>\n",
       "    </tr>\n",
       "    <tr>\n",
       "      <th>14979595</th>\n",
       "      <td>26</td>\n",
       "      <td>71</td>\n",
       "      <td>8.139999</td>\n",
       "    </tr>\n",
       "    <tr>\n",
       "      <th>14979596</th>\n",
       "      <td>26</td>\n",
       "      <td>72</td>\n",
       "      <td>8.349999</td>\n",
       "    </tr>\n",
       "    <tr>\n",
       "      <th>14979597</th>\n",
       "      <td>26</td>\n",
       "      <td>73</td>\n",
       "      <td>8.559999</td>\n",
       "    </tr>\n",
       "    <tr>\n",
       "      <th>14979598</th>\n",
       "      <td>26</td>\n",
       "      <td>74</td>\n",
       "      <td>8.790000</td>\n",
       "    </tr>\n",
       "    <tr>\n",
       "      <th>14979599</th>\n",
       "      <td>26</td>\n",
       "      <td>75</td>\n",
       "      <td>9.010000</td>\n",
       "    </tr>\n",
       "  </tbody>\n",
       "</table>\n",
       "<p>14979600 rows × 3 columns</p>\n",
       "</div>"
      ],
      "text/plain": [
       "          lat_idx  lon_idx   sfcWind\n",
       "0               1        1  5.890000\n",
       "1               1        2  5.910000\n",
       "2               1        3  9.780000\n",
       "3               1        4  7.250000\n",
       "4               1        5  7.210000\n",
       "...           ...      ...       ...\n",
       "14979595       26       71  8.139999\n",
       "14979596       26       72  8.349999\n",
       "14979597       26       73  8.559999\n",
       "14979598       26       74  8.790000\n",
       "14979599       26       75  9.010000\n",
       "\n",
       "[14979600 rows x 3 columns]"
      ]
     },
     "execution_count": 7,
     "metadata": {},
     "output_type": "execute_result"
    }
   ],
   "source": [
    "# Apply this transform to the whole DataFrame a.\n",
    "lat_idx = list(set(a.lat))\n",
    "lon_idx = list(set(a.lon))\n",
    "le_lat, le_lon = preprocessing.LabelEncoder(), preprocessing.LabelEncoder()\n",
    "le_lat.fit(lat_idx)\n",
    "le_lon.fit(lon_idx)\n",
    "\n",
    "a.insert(loc=0, column='lat_idx', value=le_lat.transform(a.lat))\n",
    "a.insert(loc=1, column='lon_idx', value=le_lon.transform(a.lon))\n",
    "a.drop(columns=['lat', 'lon'], inplace=True)\n",
    "a"
   ]
  },
  {
   "cell_type": "code",
   "execution_count": 8,
   "metadata": {},
   "outputs": [],
   "source": [
    "lonn = a.lon_idx.unique().shape[0]\n",
    "latt = a.lat_idx.unique().shape[0]\n",
    "day = int(a.shape[0] / 3650)"
   ]
  },
  {
   "cell_type": "code",
   "execution_count": 9,
   "metadata": {},
   "outputs": [],
   "source": [
    "fin = []\n",
    "\n",
    "for n in range(3650):\n",
    "\n",
    "    aa = a[n*day:n*day+day]\n",
    "    z = np.zeros((latt, lonn))\n",
    "    for i, j, w in zip(aa['lat_idx'], aa['lon_idx'], aa['sfcWind']):\n",
    "        z[i, j] = w\n",
    "    fin.append(z[1:-1])\n",
    "\n",
    "fin = np.stack(fin)"
   ]
  },
  {
   "cell_type": "code",
   "execution_count": 50,
   "metadata": {},
   "outputs": [
    {
     "data": {
      "text/plain": [
       "True"
      ]
     },
     "execution_count": 50,
     "metadata": {},
     "output_type": "execute_result"
    }
   ],
   "source": [
    "(fin[0] == fin_[0]).all()"
   ]
  },
  {
   "cell_type": "code",
   "execution_count": 10,
   "metadata": {},
   "outputs": [
    {
     "data": {
      "text/plain": [
       "(3650, 147, 603)"
      ]
     },
     "execution_count": 10,
     "metadata": {},
     "output_type": "execute_result"
    }
   ],
   "source": [
    "x = np.arange(18, 170.01, 2)       # longitude   25\n",
    "y = np.arange(39.75, 77.26, 1.5)  # latitude\n",
    "\n",
    "xnew = np.arange(18, 170.01, 0.25)                         # 25\n",
    "ynew = np.arange(39.75, 77.26, 0.25)#[::-1]              # 19           \n",
    "\n",
    "ss_x = np.where(((xnew >= 18.75) & (xnew <= 169.25)))[0]   # 19 - 169\n",
    "ss_y = np.where(((ynew >= 40.75) & (ynew <= 77.25)))[0]    # 41 - 77\n",
    "\n",
    "final = []\n",
    "for z in fin:\n",
    "    f = interpolate.interp2d(x, y, z)   # or (x, y, z)\n",
    "    final.append(f(xnew, ynew)[np.ix_(ss_y, ss_x)])\n",
    "final = np.stack(final)\n",
    "final.shape"
   ]
  },
  {
   "cell_type": "code",
   "execution_count": 11,
   "metadata": {},
   "outputs": [],
   "source": [
    "new_final = []\n",
    "for i in final:\n",
    "    new_final.append(i[::-1])\n",
    "final = np.stack(new_final)"
   ]
  },
  {
   "cell_type": "code",
   "execution_count": null,
   "metadata": {},
   "outputs": [],
   "source": [
    "# Paste it in the beginning if you want to check if indices feb_28_in_2008_and_2012 are right\n",
    "# time = pd.DataFrame(a.time.unique())      \n",
    "# time.iloc[788]"
   ]
  },
  {
   "cell_type": "code",
   "execution_count": 1,
   "metadata": {},
   "outputs": [
    {
     "ename": "NameError",
     "evalue": "name 'test' is not defined",
     "output_type": "error",
     "traceback": [
      "\u001b[0;31m---------------------------------------------------------------------------\u001b[0m",
      "\u001b[0;31mNameError\u001b[0m                                 Traceback (most recent call last)",
      "\u001b[0;32m<ipython-input-1-8ae592785626>\u001b[0m in \u001b[0;36m<module>\u001b[0;34m()\u001b[0m\n\u001b[0;32m----> 1\u001b[0;31m \u001b[0mtest\u001b[0m\u001b[0;34m.\u001b[0m\u001b[0mshape\u001b[0m\u001b[0;34m\u001b[0m\u001b[0m\n\u001b[0m",
      "\u001b[0;31mNameError\u001b[0m: name 'test' is not defined"
     ]
    }
   ],
   "source": [
    "feb_28_in_2008_and_2012 = [2248, 788]\n",
    "\n",
    "for i in feb_28_in_2008_and_2012:\n",
    "    feb_2012 = (final[i] + final[i + 1]) / 2\n",
    "    feb_2012 = np.expand_dims(feb_2012, axis=0)\n",
    "    final = np.vstack((final[:i+1], feb_2012, final[i+1:]))"
   ]
  },
  {
   "cell_type": "code",
   "execution_count": 12,
   "metadata": {},
   "outputs": [],
   "source": [
    "\n",
    "\n",
    "feb_2012 = (final[2248] + final[2249]) / 2\n",
    "feb_2012 = np.expand_dims(feb_2012, axis=0)\n",
    "final = np.vstack((final[:2249], feb_2012, final[2249:]))\n",
    "\n",
    "feb_2008 = (final[788] + final[789])/2\n",
    "feb_2008 = np.expand_dims(feb_2008, axis=0)\n",
    "final = np.vstack((final[:789], feb_2008, final[789:]))"
   ]
  },
  {
   "cell_type": "code",
   "execution_count": 57,
   "metadata": {},
   "outputs": [
    {
     "ename": "MemoryError",
     "evalue": "Unable to allocate 1011. MiB for an array with shape (1520, 145, 601) and data type float64",
     "output_type": "error",
     "traceback": [
      "\u001b[1;31m---------------------------------------------------------------------------\u001b[0m",
      "\u001b[1;31mMemoryError\u001b[0m                               Traceback (most recent call last)",
      "\u001b[1;32md:\\work\\six\\Wind\\CMIP_Russia.ipynb Cell 23'\u001b[0m in \u001b[0;36m<cell line: 3>\u001b[1;34m()\u001b[0m\n\u001b[0;32m      <a href='vscode-notebook-cell:/d%3A/work/six/Wind/CMIP_Russia.ipynb#ch0000018?line=0'>1</a>\u001b[0m feb_2012 \u001b[39m=\u001b[39m (final[\u001b[39m1518\u001b[39m] \u001b[39m+\u001b[39m final[\u001b[39m1519\u001b[39m]) \u001b[39m/\u001b[39m \u001b[39m2\u001b[39m\n\u001b[0;32m      <a href='vscode-notebook-cell:/d%3A/work/six/Wind/CMIP_Russia.ipynb#ch0000018?line=1'>2</a>\u001b[0m feb_2012 \u001b[39m=\u001b[39m np\u001b[39m.\u001b[39mexpand_dims(feb_2012, axis\u001b[39m=\u001b[39m\u001b[39m0\u001b[39m)\n\u001b[1;32m----> <a href='vscode-notebook-cell:/d%3A/work/six/Wind/CMIP_Russia.ipynb#ch0000018?line=2'>3</a>\u001b[0m final \u001b[39m=\u001b[39m np\u001b[39m.\u001b[39;49mvstack((final[:\u001b[39m1519\u001b[39;49m], feb_2012))\n",
      "File \u001b[1;32m<__array_function__ internals>:5\u001b[0m, in \u001b[0;36mvstack\u001b[1;34m(*args, **kwargs)\u001b[0m\n",
      "File \u001b[1;32mc:\\Users\\Артём\\AppData\\Local\\Programs\\Python\\Python39\\lib\\site-packages\\numpy\\core\\shape_base.py:283\u001b[0m, in \u001b[0;36mvstack\u001b[1;34m(tup)\u001b[0m\n\u001b[0;32m    281\u001b[0m \u001b[39mif\u001b[39;00m \u001b[39mnot\u001b[39;00m \u001b[39misinstance\u001b[39m(arrs, \u001b[39mlist\u001b[39m):\n\u001b[0;32m    282\u001b[0m     arrs \u001b[39m=\u001b[39m [arrs]\n\u001b[1;32m--> 283\u001b[0m \u001b[39mreturn\u001b[39;00m _nx\u001b[39m.\u001b[39;49mconcatenate(arrs, \u001b[39m0\u001b[39;49m)\n",
      "File \u001b[1;32m<__array_function__ internals>:5\u001b[0m, in \u001b[0;36mconcatenate\u001b[1;34m(*args, **kwargs)\u001b[0m\n",
      "\u001b[1;31mMemoryError\u001b[0m: Unable to allocate 1011. MiB for an array with shape (1520, 145, 601) and data type float64"
     ]
    }
   ],
   "source": [
    "feb_2012 = (final[1518] + final[1519]) / 2\n",
    "feb_2012 = np.expand_dims(feb_2012, axis=0)\n",
    "final = np.vstack((final[:1519], feb_2012, final[1519:]))"
   ]
  },
  {
   "cell_type": "code",
   "execution_count": 12,
   "metadata": {},
   "outputs": [],
   "source": [
    "    feb_28_in_2008_and_2012 = [2248, 788]\n",
    "\n",
    "    feb_2012 = (final[2248] + final[2249]) / 2\n",
    "    feb_2012 = np.expand_dims(feb_2012, axis=0)\n",
    "    final = np.vstack((final[:2249], feb_2012, final[2249:]))\n",
    "\n",
    "    feb_2008 = (final[788] + final[789]) / 2\n",
    "    feb_2008 = np.expand_dims(feb_2008, axis=0)\n",
    "    final = np.vstack((final[:789], feb_2008, final[789:]))"
   ]
  },
  {
   "cell_type": "code",
   "execution_count": 42,
   "metadata": {},
   "outputs": [
    {
     "ename": "MemoryError",
     "evalue": "Unable to allocate 2.37 GiB for an array with shape (3652, 145, 601) and data type float64",
     "output_type": "error",
     "traceback": [
      "\u001b[1;31m---------------------------------------------------------------------------\u001b[0m",
      "\u001b[1;31mMemoryError\u001b[0m                               Traceback (most recent call last)",
      "\u001b[1;32md:\\work\\six\\Wind\\CMIP_Russia.ipynb Cell 30'\u001b[0m in \u001b[0;36m<cell line: 2>\u001b[1;34m()\u001b[0m\n\u001b[0;32m      <a href='vscode-notebook-cell:/d%3A/work/six/Wind/CMIP_Russia.ipynb#ch0000047?line=2'>3</a>\u001b[0m feb_2012 \u001b[39m=\u001b[39m (final[i] \u001b[39m+\u001b[39m final[i \u001b[39m+\u001b[39m \u001b[39m1\u001b[39m]) \u001b[39m/\u001b[39m \u001b[39m2\u001b[39m\n\u001b[0;32m      <a href='vscode-notebook-cell:/d%3A/work/six/Wind/CMIP_Russia.ipynb#ch0000047?line=3'>4</a>\u001b[0m feb_2012 \u001b[39m=\u001b[39m np\u001b[39m.\u001b[39mexpand_dims(feb_2012, axis\u001b[39m=\u001b[39m\u001b[39m0\u001b[39m)\n\u001b[1;32m----> <a href='vscode-notebook-cell:/d%3A/work/six/Wind/CMIP_Russia.ipynb#ch0000047?line=4'>5</a>\u001b[0m final \u001b[39m=\u001b[39m np\u001b[39m.\u001b[39;49mvstack((final[:i\u001b[39m+\u001b[39;49m\u001b[39m1\u001b[39;49m], feb_2012, final[i\u001b[39m+\u001b[39;49m\u001b[39m1\u001b[39;49m:]))\n",
      "File \u001b[1;32m<__array_function__ internals>:5\u001b[0m, in \u001b[0;36mvstack\u001b[1;34m(*args, **kwargs)\u001b[0m\n",
      "File \u001b[1;32mc:\\Users\\Артём\\AppData\\Local\\Programs\\Python\\Python39\\lib\\site-packages\\numpy\\core\\shape_base.py:283\u001b[0m, in \u001b[0;36mvstack\u001b[1;34m(tup)\u001b[0m\n\u001b[0;32m    281\u001b[0m \u001b[39mif\u001b[39;00m \u001b[39mnot\u001b[39;00m \u001b[39misinstance\u001b[39m(arrs, \u001b[39mlist\u001b[39m):\n\u001b[0;32m    282\u001b[0m     arrs \u001b[39m=\u001b[39m [arrs]\n\u001b[1;32m--> 283\u001b[0m \u001b[39mreturn\u001b[39;00m _nx\u001b[39m.\u001b[39;49mconcatenate(arrs, \u001b[39m0\u001b[39;49m)\n",
      "File \u001b[1;32m<__array_function__ internals>:5\u001b[0m, in \u001b[0;36mconcatenate\u001b[1;34m(*args, **kwargs)\u001b[0m\n",
      "\u001b[1;31mMemoryError\u001b[0m: Unable to allocate 2.37 GiB for an array with shape (3652, 145, 601) and data type float64"
     ]
    }
   ],
   "source": [
    "feb_28_in_2016_2020_2024 = [2978, 1518, 58]\n",
    "for i in feb_28_in_2016_2020_2024:\n",
    "    feb_2012 = (final[i] + final[i + 1]) / 2\n",
    "    feb_2012 = np.expand_dims(feb_2012, axis=0)\n",
    "    final = np.vstack((final[:i+1], feb_2012, final[i+1:]))"
   ]
  },
  {
   "cell_type": "markdown",
   "metadata": {},
   "source": [
    "Save the result"
   ]
  },
  {
   "cell_type": "code",
   "execution_count": 60,
   "metadata": {},
   "outputs": [],
   "source": [
    "arr_reshaped = final.reshape(final.shape[0], -1)\n",
    "  \n",
    "# saving reshaped array to file.\n",
    "np.savetxt(\"318mil.txt\", arr_reshaped)  "
   ]
  },
  {
   "cell_type": "code",
   "execution_count": 61,
   "metadata": {},
   "outputs": [
    {
     "data": {
      "text/plain": [
       "(3652, 145, 601)"
      ]
     },
     "execution_count": 61,
     "metadata": {},
     "output_type": "execute_result"
    }
   ],
   "source": [
    "final.shape"
   ]
  },
  {
   "cell_type": "code",
   "execution_count": 62,
   "metadata": {},
   "outputs": [],
   "source": [
    "from src.data_utils import data_processing as dp\n",
    "from src.data_utils.data_processing import make_model_dataset"
   ]
  },
  {
   "cell_type": "code",
   "execution_count": 63,
   "metadata": {},
   "outputs": [],
   "source": [
    "start = '2006-01-01'\n",
    "end = '2015-12-31'\n",
    "df = pd.read_csv('data_meteo_kk.csv')\n",
    "st = pd.read_csv('weatherstation_list.csv')"
   ]
  },
  {
   "cell_type": "code",
   "execution_count": 64,
   "metadata": {},
   "outputs": [
    {
     "data": {
      "text/html": [
       "<div>\n",
       "<style scoped>\n",
       "    .dataframe tbody tr th:only-of-type {\n",
       "        vertical-align: middle;\n",
       "    }\n",
       "\n",
       "    .dataframe tbody tr th {\n",
       "        vertical-align: top;\n",
       "    }\n",
       "\n",
       "    .dataframe thead th {\n",
       "        text-align: right;\n",
       "    }\n",
       "</style>\n",
       "<table border=\"1\" class=\"dataframe\">\n",
       "  <thead>\n",
       "    <tr style=\"text-align: right;\">\n",
       "      <th></th>\n",
       "      <th>tasmax</th>\n",
       "      <th>tasmin</th>\n",
       "      <th>pr</th>\n",
       "      <th>CMIP_wind</th>\n",
       "      <th>el</th>\n",
       "    </tr>\n",
       "    <tr>\n",
       "      <th>Date</th>\n",
       "      <th></th>\n",
       "      <th></th>\n",
       "      <th></th>\n",
       "      <th></th>\n",
       "      <th></th>\n",
       "    </tr>\n",
       "  </thead>\n",
       "  <tbody>\n",
       "    <tr>\n",
       "      <th>2006-01-01</th>\n",
       "      <td>5.250421</td>\n",
       "      <td>-1.703589</td>\n",
       "      <td>0.000100</td>\n",
       "      <td>3.126667</td>\n",
       "      <td>-1</td>\n",
       "    </tr>\n",
       "    <tr>\n",
       "      <th>2006-01-02</th>\n",
       "      <td>4.776270</td>\n",
       "      <td>-1.921393</td>\n",
       "      <td>0.000014</td>\n",
       "      <td>1.296667</td>\n",
       "      <td>-1</td>\n",
       "    </tr>\n",
       "    <tr>\n",
       "      <th>2006-01-03</th>\n",
       "      <td>6.368066</td>\n",
       "      <td>1.592188</td>\n",
       "      <td>0.000261</td>\n",
       "      <td>5.703333</td>\n",
       "      <td>-1</td>\n",
       "    </tr>\n",
       "    <tr>\n",
       "      <th>2006-01-04</th>\n",
       "      <td>4.687250</td>\n",
       "      <td>-0.393530</td>\n",
       "      <td>0.000088</td>\n",
       "      <td>3.630000</td>\n",
       "      <td>-1</td>\n",
       "    </tr>\n",
       "    <tr>\n",
       "      <th>2006-01-05</th>\n",
       "      <td>2.953363</td>\n",
       "      <td>-5.348273</td>\n",
       "      <td>0.000001</td>\n",
       "      <td>5.900000</td>\n",
       "      <td>-1</td>\n",
       "    </tr>\n",
       "    <tr>\n",
       "      <th>...</th>\n",
       "      <td>...</td>\n",
       "      <td>...</td>\n",
       "      <td>...</td>\n",
       "      <td>...</td>\n",
       "      <td>...</td>\n",
       "    </tr>\n",
       "    <tr>\n",
       "      <th>2015-12-27</th>\n",
       "      <td>6.271478</td>\n",
       "      <td>3.438867</td>\n",
       "      <td>0.000032</td>\n",
       "      <td>8.316666</td>\n",
       "      <td>-1</td>\n",
       "    </tr>\n",
       "    <tr>\n",
       "      <th>2015-12-28</th>\n",
       "      <td>6.780695</td>\n",
       "      <td>3.536768</td>\n",
       "      <td>0.000026</td>\n",
       "      <td>8.216667</td>\n",
       "      <td>-1</td>\n",
       "    </tr>\n",
       "    <tr>\n",
       "      <th>2015-12-29</th>\n",
       "      <td>7.913873</td>\n",
       "      <td>3.830865</td>\n",
       "      <td>0.000010</td>\n",
       "      <td>6.760000</td>\n",
       "      <td>-1</td>\n",
       "    </tr>\n",
       "    <tr>\n",
       "      <th>2015-12-30</th>\n",
       "      <td>8.737726</td>\n",
       "      <td>5.309259</td>\n",
       "      <td>0.000053</td>\n",
       "      <td>6.220000</td>\n",
       "      <td>-1</td>\n",
       "    </tr>\n",
       "    <tr>\n",
       "      <th>2015-12-31</th>\n",
       "      <td>8.728235</td>\n",
       "      <td>5.612543</td>\n",
       "      <td>0.000028</td>\n",
       "      <td>8.346667</td>\n",
       "      <td>-1</td>\n",
       "    </tr>\n",
       "  </tbody>\n",
       "</table>\n",
       "<p>3652 rows × 5 columns</p>\n",
       "</div>"
      ],
      "text/plain": [
       "              tasmax    tasmin        pr  CMIP_wind  el\n",
       "Date                                                   \n",
       "2006-01-01  5.250421 -1.703589  0.000100   3.126667  -1\n",
       "2006-01-02  4.776270 -1.921393  0.000014   1.296667  -1\n",
       "2006-01-03  6.368066  1.592188  0.000261   5.703333  -1\n",
       "2006-01-04  4.687250 -0.393530  0.000088   3.630000  -1\n",
       "2006-01-05  2.953363 -5.348273  0.000001   5.900000  -1\n",
       "...              ...       ...       ...        ...  ..\n",
       "2015-12-27  6.271478  3.438867  0.000032   8.316666  -1\n",
       "2015-12-28  6.780695  3.536768  0.000026   8.216667  -1\n",
       "2015-12-29  7.913873  3.830865  0.000010   6.760000  -1\n",
       "2015-12-30  8.737726  5.309259  0.000053   6.220000  -1\n",
       "2015-12-31  8.728235  5.612543  0.000028   8.346667  -1\n",
       "\n",
       "[3652 rows x 5 columns]"
      ]
     },
     "execution_count": 64,
     "metadata": {},
     "output_type": "execute_result"
    }
   ],
   "source": [
    "a = make_model_dataset(station_name = 'Анапа', start_date = start, end_date = end, wind_cmip=final, station_list = st)\n",
    "a"
   ]
  },
  {
   "cell_type": "markdown",
   "metadata": {},
   "source": [
    "### Load data and trash"
   ]
  },
  {
   "cell_type": "code",
   "execution_count": 59,
   "metadata": {},
   "outputs": [],
   "source": [
    "# retrieving data from file.\n",
    "loaded_arr = np.loadtxt(\"wind_in_box.txt\")\n",
    "  \n",
    "# This loadedArr is a 2D array, therefore, we need to convert it to the original\n",
    "# array shape.reshaping to get original matrice with original shape.\n",
    "lo = loaded_arr.reshape(\n",
    "    3650, 15, 22) # (loaded_arr.shape[0], loaded_arr.shape[1] // final.shape[2], final.shape[2])"
   ]
  },
  {
   "cell_type": "code",
   "execution_count": 94,
   "metadata": {},
   "outputs": [
    {
     "data": {
      "text/html": [
       "<div>\n",
       "<style scoped>\n",
       "    .dataframe tbody tr th:only-of-type {\n",
       "        vertical-align: middle;\n",
       "    }\n",
       "\n",
       "    .dataframe tbody tr th {\n",
       "        vertical-align: top;\n",
       "    }\n",
       "\n",
       "    .dataframe thead th {\n",
       "        text-align: right;\n",
       "    }\n",
       "</style>\n",
       "<table border=\"1\" class=\"dataframe\">\n",
       "  <thead>\n",
       "    <tr style=\"text-align: right;\">\n",
       "      <th></th>\n",
       "      <th>36</th>\n",
       "      <th>38</th>\n",
       "      <th>40</th>\n",
       "      <th>42</th>\n",
       "    </tr>\n",
       "  </thead>\n",
       "  <tbody>\n",
       "    <tr>\n",
       "      <th>42.75</th>\n",
       "      <td>13.969999</td>\n",
       "      <td>12.46</td>\n",
       "      <td>8.05</td>\n",
       "      <td>8.07</td>\n",
       "    </tr>\n",
       "    <tr>\n",
       "      <th>44.25</th>\n",
       "      <td>13.540000</td>\n",
       "      <td>13.65</td>\n",
       "      <td>9.40</td>\n",
       "      <td>8.16</td>\n",
       "    </tr>\n",
       "    <tr>\n",
       "      <th>45.75</th>\n",
       "      <td>7.760000</td>\n",
       "      <td>6.84</td>\n",
       "      <td>6.66</td>\n",
       "      <td>5.63</td>\n",
       "    </tr>\n",
       "    <tr>\n",
       "      <th>47.25</th>\n",
       "      <td>2.300000</td>\n",
       "      <td>2.36</td>\n",
       "      <td>2.85</td>\n",
       "      <td>3.66</td>\n",
       "    </tr>\n",
       "  </tbody>\n",
       "</table>\n",
       "</div>"
      ],
      "text/plain": [
       "              36     38    40    42\n",
       "42.75  13.969999  12.46  8.05  8.07\n",
       "44.25  13.540000  13.65  9.40  8.16\n",
       "45.75   7.760000   6.84  6.66  5.63\n",
       "47.25   2.300000   2.36  2.85  3.66"
      ]
     },
     "execution_count": 94,
     "metadata": {},
     "output_type": "execute_result"
    }
   ],
   "source": [
    "# pd.DataFrame(fin[0], index=[42.75, 44.25, 45.75, 47.25], columns=[36, 38, 40, 42])"
   ]
  },
  {
   "cell_type": "code",
   "execution_count": null,
   "metadata": {},
   "outputs": [],
   "source": [
    "# in_lat_y = [47.  , 46.75, 46.5 , 46.25, 46.  , 45.75, 45.5 , 45.25,  45.  , 44.75, 44.5 , 44.25, 44.  , 43.75, 43.5]\n",
    "# pd.DataFrame(final[0], index=in_lat_y, columns=[36.5 , 36.75, 37.  , 37.25, 37.5 , 37.75, 38.  ,\n",
    "#        38.25, 38.5 , 38.75, 39.  , 39.25, 39.5 , 39.75, 40.  , 40.25, 40.5 , 40.75, 41.  , 41.25, 41.5, 41.75])"
   ]
  },
  {
   "cell_type": "markdown",
   "metadata": {},
   "source": [
    "x - 36.5 41.75    \n",
    "y - 43.5 47       "
   ]
  },
  {
   "cell_type": "markdown",
   "metadata": {},
   "source": [
    "y - широта Latitude    42.75\n",
    "\n",
    "X - долгота Longitude  36"
   ]
  },
  {
   "cell_type": "markdown",
   "metadata": {},
   "source": [
    "      42.75 44.25 45.75 47.25\n",
    "\n",
    "36    13.9  13.5  7.7   \n",
    "38    12.4  13.6  6.8   2.3\n",
    "40    8.05  9.4   6.6   2.8\n",
    "42          8.1   5.6   3.6\n"
   ]
  },
  {
   "cell_type": "code",
   "execution_count": null,
   "metadata": {},
   "outputs": [],
   "source": []
  },
  {
   "cell_type": "code",
   "execution_count": null,
   "metadata": {},
   "outputs": [],
   "source": []
  }
 ],
 "metadata": {
  "kernelspec": {
   "display_name": "Python 3.5.5 ('pygdall': conda)",
   "language": "python",
   "name": "python3"
  },
  "language_info": {
   "codemirror_mode": {
    "name": "ipython",
    "version": 3
   },
   "file_extension": ".py",
   "mimetype": "text/x-python",
   "name": "python",
   "nbconvert_exporter": "python",
   "pygments_lexer": "ipython3",
   "version": "3.5.5"
  },
  "vscode": {
   "interpreter": {
    "hash": "101a7e3bd36afdf291389e0d3d4c8e2fb5ec526a0cf986b521b7076c5d58ec9e"
   }
  }
 },
 "nbformat": 4,
 "nbformat_minor": 2
}
