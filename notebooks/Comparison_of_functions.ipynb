{
  "cells": [
    {
      "cell_type": "markdown",
      "metadata": {
        "id": "xEdb3dQUghaA"
      },
      "source": [
        "### Imports"
      ]
    },
    {
      "cell_type": "code",
      "execution_count": 3,
      "metadata": {
        "colab": {
          "base_uri": "https://localhost:8080/"
        },
        "id": "jk4N9ZqvkgAq",
        "outputId": "76b17d22-6996-49c0-b5bd-26a725dfeab2"
      },
      "outputs": [],
      "source": [
        "import numpy as np\n",
        "import pandas as pd\n",
        "from matplotlib import pyplot as plt\n",
        "\n",
        "import warnings\n",
        "warnings.filterwarnings(\"ignore\")\n",
        "import sys\n",
        "import os\n",
        "import datetime\n",
        "\n",
        "from sklearn.linear_model import LogisticRegression\n",
        "from sklearn.metrics import accuracy_score\n",
        "from sklearn.metrics import precision_score\n",
        "from sklearn.metrics import recall_score\n",
        "from sklearn.metrics import f1_score\n",
        "from sklearn.metrics import confusion_matrix, ConfusionMatrixDisplay\n",
        "from sklearn.metrics import roc_curve, roc_auc_score\n",
        "import xgboost as xgb\n",
        "from collections import Counter\n",
        "import codecs, json"
      ]
    },
    {
      "cell_type": "code",
      "execution_count": 4,
      "metadata": {},
      "outputs": [
        {
          "data": {
            "text/html": [
              "<div>\n",
              "<style scoped>\n",
              "    .dataframe tbody tr th:only-of-type {\n",
              "        vertical-align: middle;\n",
              "    }\n",
              "\n",
              "    .dataframe tbody tr th {\n",
              "        vertical-align: top;\n",
              "    }\n",
              "\n",
              "    .dataframe thead th {\n",
              "        text-align: right;\n",
              "    }\n",
              "</style>\n",
              "<table border=\"1\" class=\"dataframe\">\n",
              "  <thead>\n",
              "    <tr style=\"text-align: right;\">\n",
              "      <th></th>\n",
              "      <th>Название метеостанции</th>\n",
              "      <th>Максимальная скорость</th>\n",
              "      <th>Средняя скорость ветра</th>\n",
              "      <th>Направление ветра</th>\n",
              "      <th>Температура воздуха по сухому терм-ру</th>\n",
              "      <th>Атмосферное давление на уровне станции</th>\n",
              "      <th>Атмосферное давление на уровне моря</th>\n",
              "      <th>Сумма осадков</th>\n",
              "      <th>Температура поверхности почвы</th>\n",
              "      <th>Парциальное давление водяного пара</th>\n",
              "      <th>Относительная влажность воздуха</th>\n",
              "      <th>Температура точки росы</th>\n",
              "    </tr>\n",
              "    <tr>\n",
              "      <th>Дата</th>\n",
              "      <th></th>\n",
              "      <th></th>\n",
              "      <th></th>\n",
              "      <th></th>\n",
              "      <th></th>\n",
              "      <th></th>\n",
              "      <th></th>\n",
              "      <th></th>\n",
              "      <th></th>\n",
              "      <th></th>\n",
              "      <th></th>\n",
              "      <th></th>\n",
              "    </tr>\n",
              "  </thead>\n",
              "  <tbody>\n",
              "    <tr>\n",
              "      <th>1965-12-31</th>\n",
              "      <td>Барабинск</td>\n",
              "      <td>NaN</td>\n",
              "      <td>2.0</td>\n",
              "      <td>160.0</td>\n",
              "      <td>-11.2</td>\n",
              "      <td>1006.4</td>\n",
              "      <td>1022.4</td>\n",
              "      <td>NaN</td>\n",
              "      <td>-11.0</td>\n",
              "      <td>NaN</td>\n",
              "      <td>88.0</td>\n",
              "      <td>-12.0</td>\n",
              "    </tr>\n",
              "    <tr>\n",
              "      <th>1965-12-31</th>\n",
              "      <td>Барабинск</td>\n",
              "      <td>NaN</td>\n",
              "      <td>2.0</td>\n",
              "      <td>160.0</td>\n",
              "      <td>-10.5</td>\n",
              "      <td>1005.9</td>\n",
              "      <td>1021.8</td>\n",
              "      <td>NaN</td>\n",
              "      <td>-10.0</td>\n",
              "      <td>NaN</td>\n",
              "      <td>88.0</td>\n",
              "      <td>-11.0</td>\n",
              "    </tr>\n",
              "    <tr>\n",
              "      <th>1965-12-31</th>\n",
              "      <td>Барабинск</td>\n",
              "      <td>NaN</td>\n",
              "      <td>3.0</td>\n",
              "      <td>160.0</td>\n",
              "      <td>-10.7</td>\n",
              "      <td>1005.6</td>\n",
              "      <td>1021.6</td>\n",
              "      <td>NaN</td>\n",
              "      <td>-10.0</td>\n",
              "      <td>NaN</td>\n",
              "      <td>88.0</td>\n",
              "      <td>-12.0</td>\n",
              "    </tr>\n",
              "    <tr>\n",
              "      <th>1966-01-01</th>\n",
              "      <td>Барабинск</td>\n",
              "      <td>NaN</td>\n",
              "      <td>3.0</td>\n",
              "      <td>140.0</td>\n",
              "      <td>-10.9</td>\n",
              "      <td>1003.3</td>\n",
              "      <td>1019.2</td>\n",
              "      <td>0.2</td>\n",
              "      <td>-12.0</td>\n",
              "      <td>NaN</td>\n",
              "      <td>88.0</td>\n",
              "      <td>-12.0</td>\n",
              "    </tr>\n",
              "    <tr>\n",
              "      <th>1966-01-01</th>\n",
              "      <td>Барабинск</td>\n",
              "      <td>NaN</td>\n",
              "      <td>1.0</td>\n",
              "      <td>160.0</td>\n",
              "      <td>-11.4</td>\n",
              "      <td>1002.3</td>\n",
              "      <td>1018.2</td>\n",
              "      <td>NaN</td>\n",
              "      <td>-12.0</td>\n",
              "      <td>NaN</td>\n",
              "      <td>90.0</td>\n",
              "      <td>-12.0</td>\n",
              "    </tr>\n",
              "    <tr>\n",
              "      <th>...</th>\n",
              "      <td>...</td>\n",
              "      <td>...</td>\n",
              "      <td>...</td>\n",
              "      <td>...</td>\n",
              "      <td>...</td>\n",
              "      <td>...</td>\n",
              "      <td>...</td>\n",
              "      <td>...</td>\n",
              "      <td>...</td>\n",
              "      <td>...</td>\n",
              "      <td>...</td>\n",
              "      <td>...</td>\n",
              "    </tr>\n",
              "    <tr>\n",
              "      <th>2021-06-30</th>\n",
              "      <td>Яйлю</td>\n",
              "      <td>5.0</td>\n",
              "      <td>0.0</td>\n",
              "      <td>0.0</td>\n",
              "      <td>10.4</td>\n",
              "      <td>959.4</td>\n",
              "      <td>1016.2</td>\n",
              "      <td>0.0</td>\n",
              "      <td>13.1</td>\n",
              "      <td>12.2</td>\n",
              "      <td>96.0</td>\n",
              "      <td>9.8</td>\n",
              "    </tr>\n",
              "    <tr>\n",
              "      <th>2021-06-30</th>\n",
              "      <td>Яйлю</td>\n",
              "      <td>2.0</td>\n",
              "      <td>1.0</td>\n",
              "      <td>158.0</td>\n",
              "      <td>15.3</td>\n",
              "      <td>959.6</td>\n",
              "      <td>1015.3</td>\n",
              "      <td>0.0</td>\n",
              "      <td>27.2</td>\n",
              "      <td>13.9</td>\n",
              "      <td>80.0</td>\n",
              "      <td>11.9</td>\n",
              "    </tr>\n",
              "    <tr>\n",
              "      <th>2021-06-30</th>\n",
              "      <td>Яйлю</td>\n",
              "      <td>2.0</td>\n",
              "      <td>1.0</td>\n",
              "      <td>152.0</td>\n",
              "      <td>18.6</td>\n",
              "      <td>958.2</td>\n",
              "      <td>1013.3</td>\n",
              "      <td>0.0</td>\n",
              "      <td>31.5</td>\n",
              "      <td>12.9</td>\n",
              "      <td>60.0</td>\n",
              "      <td>10.9</td>\n",
              "    </tr>\n",
              "    <tr>\n",
              "      <th>2021-06-30</th>\n",
              "      <td>Яйлю</td>\n",
              "      <td>2.0</td>\n",
              "      <td>1.0</td>\n",
              "      <td>324.0</td>\n",
              "      <td>22.3</td>\n",
              "      <td>957.6</td>\n",
              "      <td>1011.9</td>\n",
              "      <td>0.0</td>\n",
              "      <td>26.0</td>\n",
              "      <td>13.8</td>\n",
              "      <td>51.0</td>\n",
              "      <td>11.9</td>\n",
              "    </tr>\n",
              "    <tr>\n",
              "      <th>2021-06-30</th>\n",
              "      <td>Яйлю</td>\n",
              "      <td>5.0</td>\n",
              "      <td>1.0</td>\n",
              "      <td>323.0</td>\n",
              "      <td>22.1</td>\n",
              "      <td>957.3</td>\n",
              "      <td>1011.7</td>\n",
              "      <td>0.0</td>\n",
              "      <td>21.5</td>\n",
              "      <td>12.6</td>\n",
              "      <td>47.0</td>\n",
              "      <td>10.5</td>\n",
              "    </tr>\n",
              "  </tbody>\n",
              "</table>\n",
              "<p>3551172 rows × 12 columns</p>\n",
              "</div>"
            ],
            "text/plain": [
              "           Название метеостанции  Максимальная скорость  \\\n",
              "Дата                                                      \n",
              "1965-12-31             Барабинск                    NaN   \n",
              "1965-12-31             Барабинск                    NaN   \n",
              "1965-12-31             Барабинск                    NaN   \n",
              "1966-01-01             Барабинск                    NaN   \n",
              "1966-01-01             Барабинск                    NaN   \n",
              "...                          ...                    ...   \n",
              "2021-06-30                  Яйлю                    5.0   \n",
              "2021-06-30                  Яйлю                    2.0   \n",
              "2021-06-30                  Яйлю                    2.0   \n",
              "2021-06-30                  Яйлю                    2.0   \n",
              "2021-06-30                  Яйлю                    5.0   \n",
              "\n",
              "            Средняя скорость ветра  Направление ветра  \\\n",
              "Дата                                                    \n",
              "1965-12-31                     2.0              160.0   \n",
              "1965-12-31                     2.0              160.0   \n",
              "1965-12-31                     3.0              160.0   \n",
              "1966-01-01                     3.0              140.0   \n",
              "1966-01-01                     1.0              160.0   \n",
              "...                            ...                ...   \n",
              "2021-06-30                     0.0                0.0   \n",
              "2021-06-30                     1.0              158.0   \n",
              "2021-06-30                     1.0              152.0   \n",
              "2021-06-30                     1.0              324.0   \n",
              "2021-06-30                     1.0              323.0   \n",
              "\n",
              "            Температура воздуха по сухому терм-ру  \\\n",
              "Дата                                                \n",
              "1965-12-31                                  -11.2   \n",
              "1965-12-31                                  -10.5   \n",
              "1965-12-31                                  -10.7   \n",
              "1966-01-01                                  -10.9   \n",
              "1966-01-01                                  -11.4   \n",
              "...                                           ...   \n",
              "2021-06-30                                   10.4   \n",
              "2021-06-30                                   15.3   \n",
              "2021-06-30                                   18.6   \n",
              "2021-06-30                                   22.3   \n",
              "2021-06-30                                   22.1   \n",
              "\n",
              "            Атмосферное давление на уровне станции  \\\n",
              "Дата                                                 \n",
              "1965-12-31                                  1006.4   \n",
              "1965-12-31                                  1005.9   \n",
              "1965-12-31                                  1005.6   \n",
              "1966-01-01                                  1003.3   \n",
              "1966-01-01                                  1002.3   \n",
              "...                                            ...   \n",
              "2021-06-30                                   959.4   \n",
              "2021-06-30                                   959.6   \n",
              "2021-06-30                                   958.2   \n",
              "2021-06-30                                   957.6   \n",
              "2021-06-30                                   957.3   \n",
              "\n",
              "            Атмосферное давление на уровне моря  Сумма осадков  \\\n",
              "Дата                                                             \n",
              "1965-12-31                               1022.4            NaN   \n",
              "1965-12-31                               1021.8            NaN   \n",
              "1965-12-31                               1021.6            NaN   \n",
              "1966-01-01                               1019.2            0.2   \n",
              "1966-01-01                               1018.2            NaN   \n",
              "...                                         ...            ...   \n",
              "2021-06-30                               1016.2            0.0   \n",
              "2021-06-30                               1015.3            0.0   \n",
              "2021-06-30                               1013.3            0.0   \n",
              "2021-06-30                               1011.9            0.0   \n",
              "2021-06-30                               1011.7            0.0   \n",
              "\n",
              "            Температура поверхности почвы  Парциальное давление водяного пара  \\\n",
              "Дата                                                                            \n",
              "1965-12-31                          -11.0                                 NaN   \n",
              "1965-12-31                          -10.0                                 NaN   \n",
              "1965-12-31                          -10.0                                 NaN   \n",
              "1966-01-01                          -12.0                                 NaN   \n",
              "1966-01-01                          -12.0                                 NaN   \n",
              "...                                   ...                                 ...   \n",
              "2021-06-30                           13.1                                12.2   \n",
              "2021-06-30                           27.2                                13.9   \n",
              "2021-06-30                           31.5                                12.9   \n",
              "2021-06-30                           26.0                                13.8   \n",
              "2021-06-30                           21.5                                12.6   \n",
              "\n",
              "            Относительная влажность воздуха  Температура точки росы  \n",
              "Дата                                                                 \n",
              "1965-12-31                             88.0                   -12.0  \n",
              "1965-12-31                             88.0                   -11.0  \n",
              "1965-12-31                             88.0                   -12.0  \n",
              "1966-01-01                             88.0                   -12.0  \n",
              "1966-01-01                             90.0                   -12.0  \n",
              "...                                     ...                     ...  \n",
              "2021-06-30                             96.0                     9.8  \n",
              "2021-06-30                             80.0                    11.9  \n",
              "2021-06-30                             60.0                    10.9  \n",
              "2021-06-30                             51.0                    11.9  \n",
              "2021-06-30                             47.0                    10.5  \n",
              "\n",
              "[3551172 rows x 12 columns]"
            ]
          },
          "execution_count": 4,
          "metadata": {},
          "output_type": "execute_result"
        }
      ],
      "source": [
        "data_meteo = pd.read_table(\"data_meteo.csv\", sep=',', index_col=0)\n",
        "data_meteo.index=pd.to_datetime((data_meteo.index), format=\"%Y/%m/%d\")\n",
        "data_meteo"
      ]
    },
    {
      "cell_type": "markdown",
      "metadata": {
        "id": "JSq2GSnpgkh7"
      },
      "source": [
        "### Functions to compare"
      ]
    },
    {
      "cell_type": "code",
      "execution_count": 5,
      "metadata": {
        "id": "qvs4bzHI4AFP"
      },
      "outputs": [],
      "source": [
        "# Previous function\n",
        "def make_ds_add_old(Data, start, end, from_horizon=15, to_horizon=30, delta_in_x=30, station='Барабинск', added_feature=['Температура воздуха по сухому термометру']):\n",
        "  '''\n",
        "  Makes a dataset consisting of X and y for a special meteostation.\n",
        "\n",
        "  start - start date of the period, for example pd.to_datetime('1990-01-01');\n",
        "  end - end date of the period, for example pd.to_datetime('1993-01-31'), dataset will be gathered to 1993-01-01;\n",
        "  to_horizon - how many days we look ahead in search of wind speed exceeds;\n",
        "  delta_in_x - how many days are included into X, always less than delta_horizon.\n",
        "  '''\n",
        "  X, y = [], []\n",
        "  # added_feature = ['Дата', 'Максимальная скорость', 'Средняя скорость ветра'] + added_feature\n",
        "  added_feature = ['Максимальная скорость', 'Средняя скорость ветра'] + added_feature\n",
        "  station = Data.loc[Data['Название метеостанции'] == station][added_feature]\n",
        "  station_train = station.loc[(station.index >= start) & (station.index <= end+datetime.timedelta(to_horizon))]\n",
        "  # added_feature.remove('Дата')\n",
        "  station_train = station_train.groupby(station_train.index).max()[added_feature]\n",
        "  for index, row in station_train.iterrows():\n",
        "    da = index\n",
        "    if da == end + datetime.timedelta(1):\n",
        "      break\n",
        "    st = station_train.loc[(station_train.index>da+datetime.timedelta(from_horizon)) & (station_train.index <= da+datetime.timedelta(to_horizon))] # Сколько дней смотрим вперед\n",
        "    if np.max(st['Максимальная скорость']) >= 20:\n",
        "      y.append(1)\n",
        "    else:\n",
        "      y.append(0) \n",
        "    st_x = station_train.loc[(station_train.index>=da) & (station_train.index < da+datetime.timedelta(delta_in_x))] # Сколько дней включаем в Х\n",
        "\n",
        "    X.append(np.array(st_x).reshape(-1))\n",
        "    # X.append(np.array(st_x[added_feature]).reshape(-1))\n",
        "\n",
        "  X = np.array(X)\n",
        "  return X, y\n",
        "\n",
        "def metrics(model, X_test, y_test):\n",
        "  y_pred = model.predict(X_test)\n",
        "  r_a_score = roc_auc_score(y_test, model.predict_proba(X_test)[:, 1])\n",
        "  acc = accuracy_score(y_test, y_pred)\n",
        "  precision = precision_score(y_test, y_pred)\n",
        "  recall = recall_score(y_test, y_pred)\n",
        "  f1 = f1_score(y_test, y_pred)\n",
        "  metrics = [r_a_score, acc, precision, recall, f1]\n",
        "  return metrics"
      ]
    },
    {
      "cell_type": "code",
      "execution_count": 6,
      "metadata": {
        "id": "6w-9k1FtJVPa"
      },
      "outputs": [],
      "source": [
        "# New function\n",
        "def make_ds_add_feat(Data, start, end, from_horizon=15, to_horizon=30, delta_in_x=30, station='Барабинск', added_feature=['Температура воздуха по сухому термометру']):\n",
        "  '''\n",
        "  Makes a dataset consisting of X and y for a special meteostation.\n",
        "\n",
        "  start - start date of the period, for example pd.to_datetime('1990-01-01');\n",
        "  end - end date of the period, for example pd.to_datetime('1993-01-31'), dataset will be gathered to 1993-01-01;\n",
        "  to_horizon - how many days we look ahead in search of wind speed exceeds;\n",
        "  delta_in_x - how many days are included into X, always less than delta_horizon;\n",
        "  it's the first commit, finish it later.\n",
        "  '''\n",
        "  X, y = [], []\n",
        "  added_feature = ['Максимальная скорость', 'Средняя скорость ветра'] + added_feature\n",
        "  station = Data.loc[Data['Название метеостанции'] == station][added_feature]\n",
        "  station_train = station.loc[(station.index >= start) & (station.index <= end+datetime.timedelta(to_horizon))]\n",
        "  # station_train = station_train.groupby(['Дата']).max()\n",
        "  station_train = station_train.groupby(station_train.index).max()\n",
        "  y_ind = np.where(station_train.rolling(window='10D')['Максимальная скорость'].max()>=20)[0] - (to_horizon)  # change from_horizon on new variable\n",
        "  y = np.array([0]*(station_train.shape[0] - to_horizon))\n",
        "  y_ind = [x for x in y_ind if x > 0]\n",
        "  y[y_ind] = 1\n",
        "  lis = [station_train.iloc[i:i+delta_in_x] for i in range(station_train.shape[0] - to_horizon)]\n",
        "  X = np.array(lis).reshape(np.array(lis).shape[0], -1)\n",
        "\n",
        "  return X, y"
      ]
    },
    {
      "cell_type": "markdown",
      "metadata": {
        "id": "QWCEC0M1guAz"
      },
      "source": [
        "### Comparison"
      ]
    },
    {
      "cell_type": "code",
      "execution_count": 7,
      "metadata": {
        "id": "yp3gk3e3MFZ5"
      },
      "outputs": [],
      "source": [
        "begin_of_ds_train = pd.to_datetime('1990-01-01')\n",
        "end_of_ds_train = pd.to_datetime('1992-12-31')\n",
        "begin_of_ds_test = pd.to_datetime('1993-01-01')\n",
        "end_of_ds_test = pd.to_datetime('1995-12-31')\n",
        "X_train, y_train = make_ds_add_old(data_meteo, begin_of_ds_train, end_of_ds_train, from_horizon=20, to_horizon=30, delta_in_x=15, station='Бийск-Зональная', added_feature=[])\n",
        "X_test, y_test = make_ds_add_old(data_meteo, begin_of_ds_test, end_of_ds_test, from_horizon=20, to_horizon=30, delta_in_x=15, station='Бийск-Зональная', added_feature=[])"
      ]
    },
    {
      "cell_type": "code",
      "execution_count": 8,
      "metadata": {
        "id": "bAuC-aHNZu_3"
      },
      "outputs": [],
      "source": [
        "X_train_new, y_train_new = make_ds_add_feat(data_meteo, begin_of_ds_train, end_of_ds_train, from_horizon=20, to_horizon=30, delta_in_x=15, station='Бийск-Зональная', added_feature=[])\n",
        "X_test_new, y_test_new = make_ds_add_feat(data_meteo, begin_of_ds_test, end_of_ds_test, from_horizon=20, to_horizon=30, delta_in_x=15, station='Бийск-Зональная', added_feature=[])"
      ]
    },
    {
      "cell_type": "code",
      "execution_count": 9,
      "metadata": {
        "colab": {
          "base_uri": "https://localhost:8080/"
        },
        "id": "EGeKPVmHf13K",
        "outputId": "204b5696-f838-4589-f1c3-afa84cf645d8"
      },
      "outputs": [
        {
          "data": {
            "text/plain": [
              "True"
            ]
          },
          "execution_count": 9,
          "metadata": {},
          "output_type": "execute_result"
        }
      ],
      "source": [
        "(X_test == X_test_new).all()"
      ]
    },
    {
      "cell_type": "code",
      "execution_count": 10,
      "metadata": {
        "colab": {
          "base_uri": "https://localhost:8080/"
        },
        "id": "_fjJ7DFrf7V-",
        "outputId": "d1d2bda0-fe9c-4992-c38f-ee81e2c048a9"
      },
      "outputs": [
        {
          "data": {
            "text/plain": [
              "True"
            ]
          },
          "execution_count": 10,
          "metadata": {},
          "output_type": "execute_result"
        }
      ],
      "source": [
        "(y_train == y_train_new).all()"
      ]
    },
    {
      "cell_type": "markdown",
      "metadata": {
        "id": "4pkvbR5Tg7PS"
      },
      "source": [
        "### Model on gathered datasets"
      ]
    },
    {
      "cell_type": "code",
      "execution_count": 135,
      "metadata": {
        "colab": {
          "base_uri": "https://localhost:8080/"
        },
        "id": "A6pI2d12anYH",
        "outputId": "5431744b-0e3e-4cb2-8d29-7c0a8012af4b"
      },
      "outputs": [
        {
          "data": {
            "text/plain": [
              "[0.4966986146639647, 0.8867579908675799, 0.0, 0.0, 0.0]"
            ]
          },
          "execution_count": 135,
          "metadata": {},
          "output_type": "execute_result"
        }
      ],
      "source": [
        "clf_xgb = xgb.XGBClassifier(n_jobs=-1, random_state=1, reg_lambda=0, reg_alpha=10)\n",
        "clf_xgb.fit(X_train_new, y_train_new)\n",
        "metrics(clf_xgb, X_test_new, y_test_new)"
      ]
    },
    {
      "cell_type": "code",
      "execution_count": 136,
      "metadata": {
        "colab": {
          "base_uri": "https://localhost:8080/",
          "height": 279
        },
        "id": "0vXT0LFlUB1B",
        "outputId": "3d6f2f9b-80f3-48d6-bba5-ffde6dd93ae6"
      },
      "outputs": [
        {
          "data": {
            "image/png": "[encoded data removed]",
            "text/plain": [
              "<Figure size 432x288 with 2 Axes>"
            ]
          },
          "metadata": {
            "needs_background": "light"
          },
          "output_type": "display_data"
        }
      ],
      "source": [
        "y_pred = clf_xgb.predict(X_test_new)\n",
        "cm = confusion_matrix(y_test_new, y_pred, labels=clf_xgb.classes_)\n",
        "disp = ConfusionMatrixDisplay(confusion_matrix=cm, display_labels=clf_xgb.classes_)\n",
        "disp.plot();"
      ]
    },
    {
      "cell_type": "markdown",
      "metadata": {
        "id": "2rfIe8z7gFkB"
      },
      "source": [
        "Poor performance, as there are no enough exceedance of 20 m/s (only 16 for 3 years)."
      ]
    },
    {
      "cell_type": "code",
      "execution_count": 155,
      "metadata": {
        "colab": {
          "base_uri": "https://localhost:8080/",
          "height": 455
        },
        "id": "ShDLzfVgUV5X",
        "outputId": "abfee446-2e20-4ef7-fa74-1021a18d9523"
      },
      "outputs": [
        {
          "data": {
            "text/html": [
              "\n",
              "  <div id=\"df-601a4951-e257-4fcb-b754-770d99616b44\">\n",
              "    <div class=\"colab-df-container\">\n",
              "      <div>\n",
              "<style scoped>\n",
              "    .dataframe tbody tr th:only-of-type {\n",
              "        vertical-align: middle;\n",
              "    }\n",
              "\n",
              "    .dataframe tbody tr th {\n",
              "        vertical-align: top;\n",
              "    }\n",
              "\n",
              "    .dataframe thead th {\n",
              "        text-align: right;\n",
              "    }\n",
              "</style>\n",
              "<table border=\"1\" class=\"dataframe\">\n",
              "  <thead>\n",
              "    <tr style=\"text-align: right;\">\n",
              "      <th></th>\n",
              "      <th>Максимальная скорость</th>\n",
              "      <th>Средняя скорость ветра</th>\n",
              "    </tr>\n",
              "    <tr>\n",
              "      <th>Дата</th>\n",
              "      <th></th>\n",
              "      <th></th>\n",
              "    </tr>\n",
              "  </thead>\n",
              "  <tbody>\n",
              "    <tr>\n",
              "      <th>1993-01-01</th>\n",
              "      <td>5.0</td>\n",
              "      <td>2.0</td>\n",
              "    </tr>\n",
              "    <tr>\n",
              "      <th>1993-01-02</th>\n",
              "      <td>3.0</td>\n",
              "      <td>1.0</td>\n",
              "    </tr>\n",
              "    <tr>\n",
              "      <th>1993-01-03</th>\n",
              "      <td>3.0</td>\n",
              "      <td>2.0</td>\n",
              "    </tr>\n",
              "    <tr>\n",
              "      <th>1993-01-04</th>\n",
              "      <td>4.0</td>\n",
              "      <td>2.0</td>\n",
              "    </tr>\n",
              "    <tr>\n",
              "      <th>1993-01-05</th>\n",
              "      <td>11.0</td>\n",
              "      <td>7.0</td>\n",
              "    </tr>\n",
              "    <tr>\n",
              "      <th>...</th>\n",
              "      <td>...</td>\n",
              "      <td>...</td>\n",
              "    </tr>\n",
              "    <tr>\n",
              "      <th>1996-01-26</th>\n",
              "      <td>13.0</td>\n",
              "      <td>8.0</td>\n",
              "    </tr>\n",
              "    <tr>\n",
              "      <th>1996-01-27</th>\n",
              "      <td>7.0</td>\n",
              "      <td>3.0</td>\n",
              "    </tr>\n",
              "    <tr>\n",
              "      <th>1996-01-28</th>\n",
              "      <td>3.0</td>\n",
              "      <td>2.0</td>\n",
              "    </tr>\n",
              "    <tr>\n",
              "      <th>1996-01-29</th>\n",
              "      <td>3.0</td>\n",
              "      <td>2.0</td>\n",
              "    </tr>\n",
              "    <tr>\n",
              "      <th>1996-01-30</th>\n",
              "      <td>4.0</td>\n",
              "      <td>2.0</td>\n",
              "    </tr>\n",
              "  </tbody>\n",
              "</table>\n",
              "<p>1125 rows × 2 columns</p>\n",
              "</div>\n",
              "      <button class=\"colab-df-convert\" onclick=\"convertToInteractive('df-601a4951-e257-4fcb-b754-770d99616b44')\"\n",
              "              title=\"Convert this dataframe to an interactive table.\"\n",
              "              style=\"display:none;\">\n",
              "        \n",
              "  <svg xmlns=\"http://www.w3.org/2000/svg\" height=\"24px\"viewBox=\"0 0 24 24\"\n",
              "       width=\"24px\">\n",
              "    <path d=\"M0 0h24v24H0V0z\" fill=\"none\"/>\n",
              "    <path d=\"M18.56 5.44l.94 2.06.94-2.06 2.06-.94-2.06-.94-.94-2.06-.94 2.06-2.06.94zm-11 1L8.5 8.5l.94-2.06 2.06-.94-2.06-.94L8.5 2.5l-.94 2.06-2.06.94zm10 10l.94 2.06.94-2.06 2.06-.94-2.06-.94-.94-2.06-.94 2.06-2.06.94z\"/><path d=\"M17.41 7.96l-1.37-1.37c-.4-.4-.92-.59-1.43-.59-.52 0-1.04.2-1.43.59L10.3 9.45l-7.72 7.72c-.78.78-.78 2.05 0 2.83L4 21.41c.39.39.9.59 1.41.59.51 0 1.02-.2 1.41-.59l7.78-7.78 2.81-2.81c.8-.78.8-2.07 0-2.86zM5.41 20L4 18.59l7.72-7.72 1.47 1.35L5.41 20z\"/>\n",
              "  </svg>\n",
              "      </button>\n",
              "      \n",
              "  <style>\n",
              "    .colab-df-container {\n",
              "      display:flex;\n",
              "      flex-wrap:wrap;\n",
              "      gap: 12px;\n",
              "    }\n",
              "\n",
              "    .colab-df-convert {\n",
              "      background-color: #E8F0FE;\n",
              "      border: none;\n",
              "      border-radius: 50%;\n",
              "      cursor: pointer;\n",
              "      display: none;\n",
              "      fill: #1967D2;\n",
              "      height: 32px;\n",
              "      padding: 0 0 0 0;\n",
              "      width: 32px;\n",
              "    }\n",
              "\n",
              "    .colab-df-convert:hover {\n",
              "      background-color: #E2EBFA;\n",
              "      box-shadow: 0px 1px 2px rgba(60, 64, 67, 0.3), 0px 1px 3px 1px rgba(60, 64, 67, 0.15);\n",
              "      fill: #174EA6;\n",
              "    }\n",
              "\n",
              "    [theme=dark] .colab-df-convert {\n",
              "      background-color: #3B4455;\n",
              "      fill: #D2E3FC;\n",
              "    }\n",
              "\n",
              "    [theme=dark] .colab-df-convert:hover {\n",
              "      background-color: #434B5C;\n",
              "      box-shadow: 0px 1px 3px 1px rgba(0, 0, 0, 0.15);\n",
              "      filter: drop-shadow(0px 1px 2px rgba(0, 0, 0, 0.3));\n",
              "      fill: #FFFFFF;\n",
              "    }\n",
              "  </style>\n",
              "\n",
              "      <script>\n",
              "        const buttonEl =\n",
              "          document.querySelector('#df-601a4951-e257-4fcb-b754-770d99616b44 button.colab-df-convert');\n",
              "        buttonEl.style.display =\n",
              "          google.colab.kernel.accessAllowed ? 'block' : 'none';\n",
              "\n",
              "        async function convertToInteractive(key) {\n",
              "          const element = document.querySelector('#df-601a4951-e257-4fcb-b754-770d99616b44');\n",
              "          const dataTable =\n",
              "            await google.colab.kernel.invokeFunction('convertToInteractive',\n",
              "                                                     [key], {});\n",
              "          if (!dataTable) return;\n",
              "\n",
              "          const docLinkHtml = 'Like what you see? Visit the ' +\n",
              "            '<a target=\"_blank\" href=https://colab.research.google.com/notebooks/data_table.ipynb>data table notebook</a>'\n",
              "            + ' to learn more about interactive tables.';\n",
              "          element.innerHTML = '';\n",
              "          dataTable['output_type'] = 'display_data';\n",
              "          await google.colab.output.renderOutput(dataTable, element);\n",
              "          const docLink = document.createElement('div');\n",
              "          docLink.innerHTML = docLinkHtml;\n",
              "          element.appendChild(docLink);\n",
              "        }\n",
              "      </script>\n",
              "    </div>\n",
              "  </div>\n",
              "  "
            ],
            "text/plain": [
              "            Максимальная скорость  Средняя скорость ветра\n",
              "Дата                                                     \n",
              "1993-01-01                    5.0                     2.0\n",
              "1993-01-02                    3.0                     1.0\n",
              "1993-01-03                    3.0                     2.0\n",
              "1993-01-04                    4.0                     2.0\n",
              "1993-01-05                   11.0                     7.0\n",
              "...                           ...                     ...\n",
              "1996-01-26                   13.0                     8.0\n",
              "1996-01-27                    7.0                     3.0\n",
              "1996-01-28                    3.0                     2.0\n",
              "1996-01-29                    3.0                     2.0\n",
              "1996-01-30                    4.0                     2.0\n",
              "\n",
              "[1125 rows x 2 columns]"
            ]
          },
          "execution_count": 155,
          "metadata": {},
          "output_type": "execute_result"
        }
      ],
      "source": [
        "a = data_meteo.loc[data_meteo['Название метеостанции'] == 'Бийск-Зональная'][['Максимальная скорость', 'Средняя скорость ветра']]\n",
        "a = a.loc[(a.index>=begin_of_ds_test) & (a.index <= end_of_ds_test+datetime.timedelta(30))]\n",
        "ag = a.groupby(a.index).max()\n",
        "ag"
      ]
    },
    {
      "cell_type": "code",
      "execution_count": 157,
      "metadata": {
        "colab": {
          "base_uri": "https://localhost:8080/"
        },
        "id": "nv61NokEUonK",
        "outputId": "efad8006-7479-4b47-93fd-e55235cd03cc"
      },
      "outputs": [
        {
          "data": {
            "text/plain": [
              "16"
            ]
          },
          "execution_count": 157,
          "metadata": {},
          "output_type": "execute_result"
        }
      ],
      "source": [
        "(ag['Максимальная скорость'] >= 20).sum()"
      ]
    },
    {
      "cell_type": "markdown",
      "metadata": {
        "id": "Ei9qNrmhhC-p"
      },
      "source": [
        "Try different time periods"
      ]
    }
  ],
  "metadata": {
    "colab": {
      "name": "Comparison of functions.ipynb",
      "provenance": []
    },
    "kernelspec": {
      "display_name": "Python 3",
      "name": "python3"
    },
    "language_info": {
      "codemirror_mode": {
        "name": "ipython",
        "version": 3
      },
      "file_extension": ".py",
      "mimetype": "text/x-python",
      "name": "python",
      "nbconvert_exporter": "python",
      "pygments_lexer": "ipython3",
      "version": "3.9.0"
    }
  },
  "nbformat": 4,
  "nbformat_minor": 0
}
