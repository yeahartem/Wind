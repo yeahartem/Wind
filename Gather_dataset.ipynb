{
 "cells": [
  {
   "cell_type": "code",
   "execution_count": 1,
   "metadata": {},
   "outputs": [],
   "source": [
    "from osgeo import gdal\n",
    "from matplotlib import pyplot as plt\n",
    "import numpy as np\n",
    "from tqdm import tqdm\n",
    "import os\n",
    "from src.data_utils import data_processing as dp\n",
    "from src.data_utils.data_processing import make_model_dataset\n",
    "from imblearn.ensemble import EasyEnsembleClassifier\n",
    "from sklearn.svm import SVC\n",
    "from sklearn.linear_model import LogisticRegression\n",
    "from sklearn.metrics import roc_curve\n",
    "from sklearn.model_selection import GridSearchCV\n",
    "from sklearn.preprocessing import normalize\n",
    "from sklearn.metrics import roc_curve, auc, roc_auc_score\n",
    "import warnings\n",
    "warnings.filterwarnings(\"ignore\")\n",
    "import xarray"
   ]
  },
  {
   "cell_type": "markdown",
   "metadata": {},
   "source": [
    "# Read data"
   ]
  },
  {

   "cell_type": "code",
   "execution_count": 2,
   "metadata": {},
   "outputs": [],
   "source": [
    "import xarray\n",
    "f = xarray.open_dataset('areacella_fx_inmcm4_rcp45_r0i0p0.nc')\n",
    "df = f.to_dataframe()\n",
    "# df"
   ]
  },
  {

   "cell_type": "markdown",
   "metadata": {},
   "source": [
    "### Gather X"
   ]
  },
  {
   "cell_type": "code",
   "execution_count": 2,
   "metadata": {},
   "outputs": [],
   "source": [
    "import pandas as pd\n",
    "from sklearn.metrics import accuracy_score\n",
    "from sklearn.metrics import precision_score\n",
    "from sklearn.metrics import recall_score\n",
    "from sklearn.metrics import f1_score\n",
    "import xgboost as xgb\n",
    "from sklearn.preprocessing import OneHotEncoder"
   ]
  },
  {
   "cell_type": "code",
   "execution_count": 3,
   "metadata": {},
   "outputs": [],
   "source": [
    "def metrics(model, X_test, y_test):\n",
    "  y_pred = model.predict(X_test)\n",
    "  lr_probs = model.predict_proba(X_test)\n",
    "  acc = accuracy_score(y_test, y_pred)\n",
    "  precision = precision_score(y_test, y_pred)\n",
    "  recall = recall_score(y_test, y_pred)\n",
    "  f1 = f1_score(y_test, y_pred)\n",
    "  # keep probabilities for the positive outcome only\n",
    "  lr_probs = lr_probs[:, 1]\n",
    "  # calculate scores\n",
    "  ns_probs = [1 for _ in range(len(y_test))]\n",
    "  ns_auc = roc_auc_score(y_test, ns_probs)\n",
    "  lr_auc = roc_auc_score(y_test, lr_probs)\n",
    "  # summarize scores\n",
    "  print('No Skill: ROC AUC=%.3f' % (ns_auc))\n",
    "  print('Clf: ROC AUC=%.3f' % (lr_auc))\n",
    "  # calculate roc curves\n",
    "  ns_fpr, ns_tpr, _ = roc_curve(y_test, ns_probs)\n",
    "  lr_fpr, lr_tpr, _ = roc_curve(y_test, lr_probs)\n",
    "  # plot the roc curve for the model\n",
    "  plt.plot(ns_fpr, ns_tpr, linestyle='--', label='Constant 1')\n",
    "  plt.plot(lr_fpr, lr_tpr, marker='.', label='Clf')\n",
    "  # axis labels\n",
    "  plt.xlabel('False Positive Rate')\n",
    "  plt.ylabel('True Positive Rate')\n",
    "  # show the legend\n",
    "  plt.legend()\n",
    "  # show the plot\n",
    "  plt.show()\n",
    "  roc_auc = lr_auc\n",
    "  metrics = [acc, precision, recall, f1, roc_auc]\n",
    "  return metrics"
   ]
  },
  {
   "cell_type": "code",
   "execution_count": 5,
   "metadata": {},
   "outputs": [],
   "source": [
    "def dss(start_date, end_date, station_name, station_list, ds_for_y, delta_in_x, include_day_ohe=False):\n",
    "    '''\n",
    "    Includes several days into X. Makes dataset consisting of X from make_model_dataset(weatherstation_list.csv) and y from data_meteo_kk.csv.\n",
    "    \n",
    "    station_list - weatherstation_list.csv,\n",
    "    ds_for_y - data_meteo_kk.csv,\n",
    "    delta_in_x - number of days into X.\n",
    "    '''\n",
    "    a = make_model_dataset(station_name = station_name, start_date = start_date, end_date = end_date, station_list = station_list)\n",
    "    a.insert(loc=0, column='day', value=a.index)\n",
    "    a['day'] = a['day'].dt.dayofyear\n",
    "\n",
    "    if include_day_ohe:\n",
    "        enc = OneHotEncoder()\n",
    "        enc.fit(np.array(a.day).reshape(-1, 1))\n",
    "        a.drop('day', axis=1, inplace=True)\n",
    "        lis = [\n",
    "            [\n",
    "                np.concatenate(\n",
    "                    (\n",
    "                        np.array(a.iloc[i-delta_in_x : i]).reshape(1, -1),\n",
    "                        enc.transform(\n",
    "                            np.atleast_2d(a.iloc[i-1].name.dayofyear)\n",
    "                        ).toarray(),\n",
    "                    ),\n",
    "                    axis=1,\n",
    "                )\n",
    "            ]\n",
    "            for i in range(delta_in_x, a.shape[0])\n",
    "        ]\n",
    "    else:\n",
    "        a.drop('day', axis=1, inplace=True)\n",
    "        lis = [\n",
    "            [\n",
    "                np.concatenate(\n",
    "                    (\n",
    "                        np.array(a.iloc[i-delta_in_x : i]).reshape(1, -1),\n",
    "                    ),\n",
    "                    axis=1,\n",
    "                )\n",
    "            ]\n",
    "            for i in range(delta_in_x, a.shape[0])\n",
    "        ]\n",
    "    \n",
    "    X = np.array(lis).reshape(np.array(lis).shape[0], -1)\n",
    "\n",
    "    ds_for_y['Дата'] = pd.to_datetime((ds_for_y['Дата']), format=\"%Y/%m/%d\")\n",
    "    ds_for_y = ds_for_y.loc[(ds_for_y['Дата'] >= pd.to_datetime(start_date)) & (ds_for_y['Дата'] <= pd.to_datetime(end_date))]\n",
    "    ds_for_y = ds_for_y.loc[ds_for_y['Название метеостанции'] == station_name]\n",
    "    ds_for_y = ds_for_y.groupby(ds_for_y['Дата']).max()   # Как группируется?\n",
    "    max_speed = ds_for_y[['Максимальная скорость', 'Средняя скорость ветра']].max(axis=1)\n",
    "    y = np.array((max_speed >= 20).astype(int))\n",
    "    y = y[delta_in_x:a.shape[0]]\n",
    "\n",
    "    return X, y"
   ]
  },
  {
   "cell_type": "code",
   "execution_count": 6,
   "metadata": {},
   "outputs": [],
   "source": [
    "# a = make_model_dataset(station_name = 'Туапсе', start_date = start, end_date = end, station_list = st)\n",
    "# a.insert(loc=0, column='day', value=a.index)\n",
    "# a['day'] = a['day'].dt.dayofyear\n",
    "\n",
    "# enc = OneHotEncoder()\n",
    "# enc.fit(np.array(a.day).reshape(-1, 1))\n",
    "# a.drop('day', axis=1, inplace=True)"
   ]
  },
  {
   "cell_type": "code",

   "execution_count": 3,

   "execution_count": 7,
   "metadata": {},
   "outputs": [],
   "source": [
    "def make_ds(start_date, end_date, station_name, station_list, ds_for_y, include_day_ohe=False):\n",
    "    '''\n",
    "    Makes dataset consisting of X from make_model_dataset(weatherstation_list.csv) and y from data_meteo_kk.csv.\n",
    "    \n",
    "    station_list - weatherstation_list.csv,\n",
    "    ds_for_y - data_meteo_kk.csv.\n",
    "    '''\n",
    "    a = make_model_dataset(station_name = station_name, start_date = start_date, end_date = end_date, station_list = station_list)\n",
    "    a.insert(loc=0, column='day', value=a.index)\n",
    "    a['day'] = a['day'].dt.dayofyear\n",
    "    \n",
    "    if include_day_ohe:\n",
    "        enc = OneHotEncoder()\n",
    "        enc.fit(np.array(a.day).reshape(-1, 1))\n",
    "        a.drop('day', axis=1, inplace=True)\n",
    "        lis = [[enc.transform(np.atleast_2d(a.iloc[i].name.dayofyear)).toarray()] for i in range(a.shape[0])]\n",
    "        ohe_day = pd.DataFrame(np.array(lis).reshape(np.array(lis).shape[0], -1))\n",
    "        X = pd.concat([a, ohe_day.set_index(a.index)], axis=1)\n",
    "    else:\n",
    "        a.drop('day', axis=1, inplace=True)\n",
    "        X = a\n",
    "    \n",
    "\n",
    "    # X = pd.concat([a, ohe_day.set_index(a.index)], axis=1)\n",
    "    \n",
    "\n",
    "    ds_for_y['Дата'] = pd.to_datetime((ds_for_y['Дата']), format=\"%Y/%m/%d\")\n",
    "    ds_for_y = ds_for_y.loc[(ds_for_y['Дата'] >= pd.to_datetime(start_date)) & (ds_for_y['Дата'] <= pd.to_datetime(end_date))]\n",
    "    ds_for_y = ds_for_y.loc[ds_for_y['Название метеостанции'] == station_name]\n",
    "    ds_for_y = ds_for_y.groupby(ds_for_y['Дата']).max()   # Как группируется?\n",
    "    max_speed = ds_for_y[['Максимальная скорость', 'Средняя скорость ветра']].max(axis=1)\n",
    "    y = np.array((max_speed >= 20).astype(int))\n",
    "\n",
    "    return X, y"
   ]
  },
  {
   "cell_type": "code",
   "execution_count": 8,
   "metadata": {},
   "outputs": [],
   "source": [
    "start = '2006-01-01'\n",
    "end = '2015-12-31'\n",
    "df = pd.read_csv('data_meteo_kk.csv')\n",
    "st = pd.read_csv('weatherstation_list.csv')\n",
    "\n",
    "loaded_arr = np.loadtxt(\"wind_in_box.txt\")  \n",
    "# This loadedArr is a 2D array, therefore, we need to convert it to the original array shape.reshaping to get original matrice with original shape.\n",
    "cmip = loaded_arr.reshape(3652, 15, 22)"
   ]
  },
  {
   "cell_type": "code",

   "execution_count": 4,

   "execution_count": 9,
   "metadata": {},
   "outputs": [],
   "source": [
    "include_day_ohe = False\n",
    "X_an, y_an = make_ds(start, end, 'Анапа', st, df, include_day_ohe=include_day_ohe) #310\n",
    "X_ar, y_ar = make_ds(start, end, 'Армавир', st, df, include_day_ohe=include_day_ohe) #75\n",
    "X_kr, y_kr = make_ds(start, end, 'Краснодар, Круглик', st, df, include_day_ohe=include_day_ohe) #38\n",
    "X_so, y_so = make_ds(start, end, 'Сочи', st, df, include_day_ohe=include_day_ohe) #28\n",
    "X_tu, y_tu = make_ds(start, end, 'Туапсе', st, df, include_day_ohe=include_day_ohe) #160\n",
    "X_pr, y_pr = make_ds(start, end, 'Приморско-Ахтарск', st, df, include_day_ohe=include_day_ohe) #163\n",
    "X_kp, y_kp = make_ds(start, end, 'Красная Поляна', st, df, include_day_ohe=include_day_ohe) "
   ]
  },
  {
   "cell_type": "code",
   "execution_count": 10,
   "metadata": {},
   "outputs": [],
   "source": [
    "X_an_d, y_an_d = dss(start, end, 'Анапа', st, df, 15, include_day_ohe=include_day_ohe) #310\n",
    "X_ar_d, y_ar_d = dss(start, end, 'Армавир', st, df, 15, include_day_ohe=include_day_ohe) #75\n",
    "X_kr_d, y_kr_d = dss(start, end, 'Краснодар, Круглик', st, df, 15, include_day_ohe=include_day_ohe) #38\n",
    "X_so_d, y_so_d = dss(start, end, 'Сочи', st, df, 15, include_day_ohe=include_day_ohe) #28\n",
    "X_tu_d, y_tu_d = dss(start, end, 'Туапсе', st, df, 15, include_day_ohe=include_day_ohe) #160\n",
    "X_pr_d, y_pr_d = dss(start, end, 'Приморско-Ахтарск', st, df, 15, include_day_ohe=include_day_ohe) #163\n",
    "X_kp_d, y_kp_d = dss(start, end, 'Красная Поляна', st, df, 15, include_day_ohe=include_day_ohe) "
   ]
  },
  {
   "cell_type": "code",
   "execution_count": 11,

   "metadata": {},
   "outputs": [
    {
     "name": "stdout",
     "output_type": "stream",
     "text": [
      "No Skill: ROC AUC=0.500\n",
      "Clf: ROC AUC=0.671\n"
     ]
    },
    {
     "data": {
      "text/html": [
       "<div>\n",
       "<style scoped>\n",
       "    .dataframe tbody tr th:only-of-type {\n",
       "        vertical-align: middle;\n",
       "    }\n",
       "\n",
       "    .dataframe tbody tr th {\n",
       "        vertical-align: top;\n",
       "    }\n",
       "\n",
       "    .dataframe thead th {\n",
       "        text-align: right;\n",
       "    }\n",
       "</style>\n",
       "<table border=\"1\" class=\"dataframe\">\n",
       "  <thead>\n",
       "    <tr style=\"text-align: right;\">\n",
       "      <th></th>\n",
       "      <th>tasmax</th>\n",
       "      <th>tasmin</th>\n",
       "      <th>pr</th>\n",
       "      <th>CMIP_wind</th>\n",
       "      <th>el</th>\n",
       "    </tr>\n",
       "    <tr>\n",
       "      <th>Date</th>\n",
       "      <th></th>\n",
       "      <th></th>\n",
       "      <th></th>\n",
       "      <th></th>\n",
       "      <th></th>\n",
       "    </tr>\n",
       "  </thead>\n",
       "  <tbody>\n",
       "    <tr>\n",
       "      <th>2006-01-01</th>\n",
       "      <td>5.250421</td>\n",
       "      <td>-1.703589</td>\n",
       "      <td>0.000100</td>\n",
       "      <td>11.438333</td>\n",
       "      <td>-1</td>\n",
       "    </tr>\n",
       "    <tr>\n",
       "      <th>2006-01-02</th>\n",
       "      <td>4.776270</td>\n",
       "      <td>-1.921393</td>\n",
       "      <td>0.000014</td>\n",
       "      <td>8.127500</td>\n",
       "      <td>-1</td>\n",
       "    </tr>\n",
       "    <tr>\n",
       "      <th>2006-01-03</th>\n",
       "      <td>6.368066</td>\n",
       "      <td>1.592188</td>\n",
       "      <td>0.000261</td>\n",
       "      <td>7.189167</td>\n",
       "      <td>-1</td>\n",
       "    </tr>\n",
       "    <tr>\n",
       "      <th>2006-01-04</th>\n",
       "      <td>4.687250</td>\n",
       "      <td>-0.393530</td>\n",
       "      <td>0.000088</td>\n",
       "      <td>6.550833</td>\n",
       "      <td>-1</td>\n",
       "    </tr>\n",
       "    <tr>\n",
       "      <th>2006-01-05</th>\n",
       "      <td>2.953363</td>\n",
       "      <td>-5.348273</td>\n",
       "      <td>0.000001</td>\n",
       "      <td>8.830833</td>\n",
       "      <td>-1</td>\n",
       "    </tr>\n",
       "    <tr>\n",
       "      <th>...</th>\n",
       "      <td>...</td>\n",
       "      <td>...</td>\n",
       "      <td>...</td>\n",
       "      <td>...</td>\n",
       "      <td>...</td>\n",
       "    </tr>\n",
       "    <tr>\n",
       "      <th>2015-12-27</th>\n",
       "      <td>6.271478</td>\n",
       "      <td>3.438867</td>\n",
       "      <td>0.000032</td>\n",
       "      <td>12.215000</td>\n",
       "      <td>-1</td>\n",
       "    </tr>\n",
       "    <tr>\n",
       "      <th>2015-12-28</th>\n",
       "      <td>6.780695</td>\n",
       "      <td>3.536768</td>\n",
       "      <td>0.000026</td>\n",
       "      <td>13.617500</td>\n",
       "      <td>-1</td>\n",
       "    </tr>\n",
       "    <tr>\n",
       "      <th>2015-12-29</th>\n",
       "      <td>7.913873</td>\n",
       "      <td>3.830865</td>\n",
       "      <td>0.000010</td>\n",
       "      <td>11.339166</td>\n",
       "      <td>-1</td>\n",
       "    </tr>\n",
       "    <tr>\n",
       "      <th>2015-12-30</th>\n",
       "      <td>8.737726</td>\n",
       "      <td>5.309259</td>\n",
       "      <td>0.000053</td>\n",
       "      <td>12.521666</td>\n",
       "      <td>-1</td>\n",
       "    </tr>\n",
       "    <tr>\n",
       "      <th>2015-12-31</th>\n",
       "      <td>8.728235</td>\n",
       "      <td>5.612543</td>\n",
       "      <td>0.000028</td>\n",
       "      <td>8.116667</td>\n",
       "      <td>-1</td>\n",
       "    </tr>\n",
       "  </tbody>\n",
       "</table>\n",
       "<p>3652 rows × 5 columns</p>\n",
       "</div>"
      ],
      "text/plain": [
       "              tasmax    tasmin        pr  CMIP_wind  el\n",
       "Date                                                   \n",
       "2006-01-01  5.250421 -1.703589  0.000100  11.438333  -1\n",
       "2006-01-02  4.776270 -1.921393  0.000014   8.127500  -1\n",
       "2006-01-03  6.368066  1.592188  0.000261   7.189167  -1\n",
       "2006-01-04  4.687250 -0.393530  0.000088   6.550833  -1\n",
       "2006-01-05  2.953363 -5.348273  0.000001   8.830833  -1\n",
       "...              ...       ...       ...        ...  ..\n",
       "2015-12-27  6.271478  3.438867  0.000032  12.215000  -1\n",
       "2015-12-28  6.780695  3.536768  0.000026  13.617500  -1\n",
       "2015-12-29  7.913873  3.830865  0.000010  11.339166  -1\n",
       "2015-12-30  8.737726  5.309259  0.000053  12.521666  -1\n",
       "2015-12-31  8.728235  5.612543  0.000028   8.116667  -1\n",
       "\n",
       "[3652 rows x 5 columns]"
      ]
     },
     "execution_count": 4,
     "metadata": {},
     "output_type": "execute_result"
    }
   ],
   "source": [
    "a = make_model_dataset(station_name = 'Анапа', start_date = start, end_date = end, wind_cmip=cmip, station_list = st)\n",
    "a"
   ]
  },
  {
   "cell_type": "markdown",
   "metadata": {},
   "source": [
    "### Add OHE"
   ]
  },
  {
   "cell_type": "code",
   "execution_count": 5,
   "metadata": {},
   "outputs": [],
   "source": [
    "def make_ds(start_date, end_date, station_name, cmip, station_list, ds_for_y):\n",
    "    '''\n",
    "    Makes dataset consisting of X from make_model_dataset(weatherstation_list.csv) and y from data_meteo_kk.csv.\n",
    "    \n",
    "    station_list - weatherstation_list.csv,\n",
    "    ds_for_y - data_meteo_kk.csv.\n",
    "    '''\n",
    "    a = make_model_dataset(station_name = station_name, start_date = start_date, end_date = end_date, wind_cmip=cmip, station_list = station_list)\n",
    "    a.insert(loc=0, column='day', value=a.index)\n",
    "    a['day'] = a['day'].dt.dayofyear\n",
    "\n",
    "    enc = OneHotEncoder()\n",
    "    enc.fit(np.array(a.day).reshape(-1, 1))\n",
    "    a.drop('day', axis=1, inplace=True)\n",
    "\n",
    "    lis = [[enc.transform(np.atleast_2d(a.iloc[i].name.dayofyear)).toarray()] for i in range(a.shape[0])]\n",
    "    ohe_day = pd.DataFrame(np.array(lis).reshape(np.array(lis).shape[0], -1))\n",
    "\n",
    "    X = pd.concat([a, ohe_day.set_index(a.index)], axis=1)\n",
    "\n",
    "    ds_for_y['Дата'] = pd.to_datetime((ds_for_y['Дата']), format=\"%Y/%m/%d\")\n",
    "    ds_for_y = ds_for_y.loc[(ds_for_y['Дата'] >= pd.to_datetime(start_date)) & (ds_for_y['Дата'] <= pd.to_datetime(end_date))]\n",
    "    ds_for_y = ds_for_y.loc[ds_for_y['Название метеостанции'] == station_name]\n",
    "    ds_for_y = ds_for_y.groupby(ds_for_y['Дата']).max()   # Как группируется?\n",
    "    max_speed = ds_for_y[['Максимальная скорость', 'Средняя скорость ветра']].max(axis=1)\n",
    "    y = np.array((max_speed >= 20).astype(int))\n",
    "\n",
    "    return X, y"
      "image/png": "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",
      "text/plain": [
       "<Figure size 432x288 with 1 Axes>"
      ]
     },
     "metadata": {
      "needs_background": "light"
     },
     "output_type": "display_data"
    },
    {
     "name": "stdout",
     "output_type": "stream",
     "text": [
      "On test: [0.939382088384826, 0.0, 0.0, 0.0, 0.670825051704225]\n",
      "No Skill: ROC AUC=0.500\n",
      "Clf: ROC AUC=0.849\n"
     ]
    },
    {
     "data": {
      "image/png": "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",
      "text/plain": [
       "<Figure size 432x288 with 1 Axes>"
      ]
     },
     "metadata": {
      "needs_background": "light"
     },
     "output_type": "display_data"
    },
    {
     "name": "stdout",
     "output_type": "stream",
     "text": [
      "On train: [0.9689088775909269, 1.0, 0.00625, 0.012422360248447204, 0.8488632922890593]\n"
     ]
    }
   ],
   "source": [
    "clf_xgb = xgb.XGBClassifier(n_jobs=-1, sampling_method='gradient_based')\n",
    "\n",
    "clf_xgb.fit(X_tu, y_tu)\n",
    "print('On test:', metrics(clf_xgb, X_an, y_an))\n",
    "print('On train:', metrics(clf_xgb, X_tu, y_tu))"
   ]
  },
  {
   "cell_type": "code",
   "execution_count": 6,
   "execution_count": 13,
   "metadata": {},
   "outputs": [
    {
     "name": "stdout",
     "output_type": "stream",
     "text": [
      "No Skill: ROC AUC=0.500\n",
      "Clf: ROC AUC=0.687\n"
     ]
    },
    {
     "data": {
      "image/png": "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",
      "text/plain": [
       "<Figure size 432x288 with 1 Axes>"
      ]
     },
     "metadata": {
      "needs_background": "light"
     },
     "output_type": "display_data"
    },
    {
     "name": "stdout",
     "output_type": "stream",
     "text": [
      "On test: [0.9687133359405553, 0.0, 0.0, 0.0, 0.6866294913201454]\n",
      "No Skill: ROC AUC=0.500\n",
      "Clf: ROC AUC=0.839\n"
     ]
    },
    {
     "data": {
      "image/png": "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",
      "text/plain": [
       "<Figure size 432x288 with 1 Axes>"
      ]
     },
     "metadata": {
      "needs_background": "light"
     },
     "output_type": "display_data"
    },
    {
     "name": "stdout",
     "output_type": "stream",
     "text": [
      "On train: [0.939382088384826, 0.0, 0.0, 0.0, 0.8386761032472939]\n"
     ]
    }
   ],
   "source": [
    "clf_xgb = xgb.XGBClassifier()\n",
    "clf_xgb.fit(X_an[['tasmax', 'tasmin', 'pr', 'el']], y_an)\n",
    "print('On test:', metrics(clf_xgb, X_tu[['tasmax', 'tasmin', 'pr', 'el']], y_tu))\n",
    "print('On train:', metrics(clf_xgb, X_an[['tasmax', 'tasmin', 'pr', 'el']], y_an))"
   ]
  },
  {
   "cell_type": "code",
   "execution_count": 16,
   "metadata": {},
   "outputs": [
    {
     "name": "stdout",
     "output_type": "stream",
     "text": [
      "No Skill: ROC AUC=0.500\n",
      "Clf: ROC AUC=0.693\n"
     ]
    },
    {
     "data": {
      "image/png": "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",
      "text/plain": [
       "{'Анапа',\n",
       " 'Армавир',\n",
       " 'Красная Поляна',\n",
       " 'Краснодар, Круглик',\n",
       " 'Приморско-Ахтарск',\n",
       " 'Сочи',\n",
       " 'Туапсе'}"
      ]
     },
     "execution_count": 6,
     "metadata": {},
     "output_type": "execute_result"
       "<Figure size 432x288 with 1 Axes>"
      ]
     },
     "metadata": {
      "needs_background": "light"
     },
     "output_type": "display_data"
    },
    {
     "name": "stdout",
     "output_type": "stream",
     "text": [
      "On test: [0.6468517794290184, 0.05705059203444564, 0.6625, 0.10505450941526263, 0.6927407145740816]\n",
      "No Skill: ROC AUC=0.500\n",
      "Clf: ROC AUC=0.717\n"
     ]
    },
    {
     "data": {
      "image/png": "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",
      "text/plain": [
       "<Figure size 432x288 with 1 Axes>"
      ]
     },
     "metadata": {
      "needs_background": "light"
     },
     "output_type": "display_data"
    },
    {
     "name": "stdout",
     "output_type": "stream",
     "text": [
      "On train: [0.5952287837309347, 0.10888888888888888, 0.7903225806451613, 0.19140624999999997, 0.7172598103730762]\n"
     ]
    }
   ],
   "source": [
    "clf_svc = LogisticRegression()\n",
    "parameters = {\"penalty\": ['l1', 'l2'],\n",
    "            \"class_weight\": ['balanced']\n",
    "}\n",
    "clf = GridSearchCV(clf_svc, parameters)\n",
    "X_an_n = normalize(X_an)\n",
    "X_tu_n = normalize(X_tu)\n",
    "clf.fit(X_an_n, y_an)\n",
    "clf = clf.best_estimator_\n",
    "print('On test:', metrics(clf, X_tu_n, y_tu))\n",
    "print('On train:', metrics(clf, X_an_n, y_an))"
   ]
  },
  {
   "cell_type": "code",
   "execution_count": null,
   "metadata": {},
   "outputs": [],
   "source": [
    "clf_svc = SVC()\n",
    "parameters = {'kernel':('linear', 'poly', 'rbf', 'sigmoid'),\n",
    "                'degree': [1, 2, 3, 4], 'C':[1e-1, 1, 10, 100], \n",
    "                'class_weight': ['balanced'],\n",
    "                'gamma': ['auto'],\n",
    "                'probability': [True]}\n",
    "clf = GridSearchCV(clf_svc, parameters)\n",
    "X_an_n = normalize(X_an)\n",
    "X_tu_n = normalize(X_tu)\n",
    "clf.fit(X_an_n, y_an)\n",
    "clf = clf.best_estimator_\n",
    "print('On test:', metrics(clf, X_tu_n, y_tu))\n",
    "print('On train:', metrics(clf, X_an_n, y_an))"
   ]
  },
  {
   "cell_type": "code",
   "execution_count": 49,
   "metadata": {},
   "outputs": [],
   "source": [
    "X_an, y_an = make_ds(start, end, 'Анапа', cmip, st, df) #310\n",
    "X_ar, y_ar = make_ds(start, end, 'Армавир', st, df) #75       Add cmip before (st, df) \n",
    "X_kr, y_kr = make_ds(start, end, 'Краснодар, Круглик', st, df) #38\n",
    "X_so, y_so = make_ds(start, end, 'Сочи', st, df) #28\n",
    "X_tu, y_tu = make_ds(start, end, 'Туапсе', st, df) #160\n",
    "X_pr, y_pr = make_ds(start, end, 'Приморско-Ахтарск', st, df) #163"
    "params = clf.get_params()"
   ]
  },
  {
   "cell_type": "code",
   "execution_count": null,
   "metadata": {},
   "outputs": [],
   "source": [
    "easy_ens = EasyEnsembleClassifier()\n",
    "easy_ens.fit(X_tu, y_tu)\n",
    "print('On test:', metrics(easy_ens, X_an, y_an))\n",
    "print('On train:', metrics(easy_ens, X_tu, y_tu))\n",
    "# Precision is decreased, recall is raised"
   ]
  },
  {
   "cell_type": "markdown",
   "metadata": {},
   "source": [
    "15 Days in X - overfitting"
   ]
  },
  {
   "cell_type": "code",
   "execution_count": 21,
   "metadata": {},
   "outputs": [
    {
     "name": "stdout",
     "output_type": "stream",
     "text": [
      "No Skill: ROC AUC=0.500\n",
      "Clf: ROC AUC=0.724\n"
     ]
    },
    {
     "data": {
      "image/png": "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",
      "text/plain": [
       "<Figure size 432x288 with 1 Axes>"
      ]
     },
     "metadata": {
      "needs_background": "light"
     },
     "output_type": "display_data"
    },
    {
     "name": "stdout",
     "output_type": "stream",
     "text": [
      "On test: [0.6369876446362032, 0.11571072319201996, 0.7483870967741936, 0.2004319654427646, 0.7240564735044692]\n",
      "No Skill: ROC AUC=0.500\n",
      "Clf: ROC AUC=0.730\n"
     ]
    },
    {
     "data": {
      "image/png": "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",
      "text/plain": [
       "<Figure size 432x288 with 1 Axes>"
      ]
     },
     "metadata": {
      "needs_background": "light"
     },
     "output_type": "display_data"
    },
    {
     "name": "stdout",
     "output_type": "stream",
     "text": [
      "On train: [0.6501274759756815, 0.06297093649085038, 0.73125, 0.1159563924677899, 0.7296618748734562]\n"
     ]
    }
   ],
   "source": [
    "clf_xgb.fit(X_tu_d, y_tu_d)\n",
    "print('On test:', metrics(clf_xgb, X_an_d, y_an_d))\n",
    "print('On train:', metrics(clf_xgb, X_tu_d, y_tu_d))"
   ]
  },
  {
   "cell_type": "code",
   "execution_count": 34,
   "metadata": {},
   "outputs": [
    {
     "name": "stdout",
     "output_type": "stream",
     "text": [
      "No Skill: ROC AUC=0.500\n",
      "Clf: ROC AUC=0.725\n"
     ]
    },
    {
     "data": {
      "image/png": "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",
      "text/plain": [
       "<Figure size 432x288 with 1 Axes>"
      ]
     },
     "metadata": {
      "needs_background": "light"
     },
     "output_type": "display_data"
    },
    {
     "name": "stdout",
     "output_type": "stream",
     "text": [
      "On test: [0.9686212982937831, 0.5, 0.00625, 0.01234567901234568, 0.7249398916784775]\n",
      "No Skill: ROC AUC=0.500\n",
      "Clf: ROC AUC=0.948\n"
     ]
    },
    {
     "data": {
      "image/png": "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",
      "text/plain": [
       "<Figure size 432x288 with 1 Axes>"
      ]
     },
     "metadata": {
      "needs_background": "light"
     },
     "output_type": "display_data"
    },
    {
     "name": "stdout",
     "output_type": "stream",
     "text": [
      "On train: [0.9407727005295156, 1.0, 0.025806451612903226, 0.05031446540880503, 0.9481978189264376]\n"
     ]
    }
   ],
   "source": [
    "clf_xgb.fit(X_an_d, y_an_d)\n",
    "print('On test:', metrics(clf_xgb, X_tu_d, y_tu_d))\n",
    "print('On train:', metrics(clf_xgb, X_an_d, y_an_d))"
   ]
  },
  {
   "cell_type": "code",
   "execution_count": 37,
   "metadata": {},
   "outputs": [
    {
     "name": "stdout",
     "output_type": "stream",
     "text": [
      "(5099, 60)\n",
      "(5099,)\n"
     ]
    }
   ],
   "source": [
    "print(X_an_n.shape)\n",
    "print(y_an_d.shape)"
   ]
  },
  {
   "cell_type": "code",
   "execution_count": 42,
   "metadata": {},
   "outputs": [
    {
     "name": "stdout",
     "output_type": "stream",
     "text": [
      "No Skill: ROC AUC=0.500\n",
      "Clf: ROC AUC=0.356\n"
     ]
    },
    {
     "data": {
      "image/png": "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",
      "text/plain": [
       "<Figure size 432x288 with 1 Axes>"
      ]
     },
     "metadata": {
      "needs_background": "light"
     },
     "output_type": "display_data"
    },
    {
     "name": "stdout",
     "output_type": "stream",
     "text": [
      "On test: [0.9686212982937831, 0.0, 0.0, 0.0, 0.3557248430856449]\n",
      "No Skill: ROC AUC=0.500\n",
      "Clf: ROC AUC=0.338\n"
     ]
    },
    {
     "data": {
      "image/png": "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",
      "text/plain": [
       "<Figure size 432x288 with 1 Axes>"
      ]
     },
     "metadata": {
      "needs_background": "light"
     },
     "output_type": "display_data"
    },
    {
     "name": "stdout",
     "output_type": "stream",
     "text": [
      "On train: [0.9392037654442047, 0.0, 0.0, 0.0, 0.3378111128324992]\n"
     ]
    }
   ],
   "source": [
    "clf_svc = SVC()\n",
    "parameters = {'kernel':('linear', 'poly', 'rbf', 'sigmoid'),\n",
    "                'degree': [1, 2, 3, 4], 'C':[1e-1, 1, 10, 100], \n",
    "                'class_weight': ['balanced'],\n",
    "                'gamma': ['auto'],\n",
    "                'probability': [True]}\n",
    "clf = GridSearchCV(clf_svc, parameters)\n",
    "X_an_n = normalize(X_an_d)\n",
    "X_tu_n = normalize(X_tu_d)\n",
    "clf.fit(X_an_n, y_an_d)\n",
    "clf = clf.best_estimator_\n",
    "print('On test:', metrics(clf, X_tu_n, y_tu_d))\n",
    "print('On train:', metrics(clf, X_an_n, y_an_d))"
   ]
  },
  {
   "cell_type": "markdown",
   "metadata": {},
   "source": [
    "Concatenate several cities"
   ]
  },
  {
   "cell_type": "code",
   "execution_count": 45,
   "metadata": {},
   "outputs": [
    {
     "name": "stdout",
     "output_type": "stream",
     "text": [
      "On test: [0.9395776300351975, 0.6666666666666666, 0.0064516129032258064, 0.012779552715654953]\n",
      "On train: [0.971353148220571, 1.0, 0.09287925696594428, 0.16997167138810199]\n"
     ]
    }
   ],
   "source": [
    "new_X = pd.concat([X_tu, X_pr], axis=0)\n",
    "new_y = np.concatenate((y_tu, y_pr))\n",
    "clf_xgb.fit(new_X, new_y)\n",
    "print('On test:', metrics(clf_xgb, X_an, y_an))\n",
    "print('On train:', metrics(clf_xgb, new_X, new_y))"
   ]
  },
  {
   "cell_type": "code",
   "execution_count": 47,
   "metadata": {},
   "outputs": [
    {
     "name": "stdout",
     "output_type": "stream",
     "text": [
      "On test: [0.9384192979015493, 0.16666666666666666, 0.0032258064516129032, 0.006329113924050633]\n",
      "On train: [1.0, 1.0, 1.0, 1.0]\n"
     ]
    }
   ],
   "source": [
    "new_X_d = np.concatenate([X_tu_d, X_pr_d], axis=0)\n",
    "new_y_d = np.concatenate((y_tu_d, y_pr_d))\n",
    "clf_xgb.fit(new_X_d, new_y_d)\n",
    "print('On test:', metrics(clf_xgb, X_an_d, y_an_d))\n",
    "print('On train:', metrics(clf_xgb, new_X_d, new_y_d))\n",
    "# Using 15 days in X causes overfitting"
   ]
  },
  {
   "cell_type": "code",
   "execution_count": 51,
   "metadata": {},
   "outputs": [
    {
     "name": "stderr",
     "output_type": "stream",
     "text": [
      "c:\\Users\\Артём\\AppData\\Local\\Programs\\Python\\Python39\\lib\\site-packages\\sklearn\\metrics\\_classification.py:1318: UndefinedMetricWarning: Precision is ill-defined and being set to 0.0 due to no predicted samples. Use `zero_division` parameter to control this behavior.\n",
      "  _warn_prf(average, modifier, msg_start, len(result))\n"
     ]
    },
    {
     "name": "stdout",
     "output_type": "stream",
     "text": [
      "On test: [0.939382088384826, 0.0, 0.0, 0.0]\n",
      "On train: [0.9754269326033111, 1.0, 0.052763819095477386, 0.10023866348448687]\n"
     ]
    }
   ],
   "source": [
    "new_X = pd.concat([X_tu, X_pr, X_ar], axis=0)\n",
    "new_y = np.concatenate((y_tu, y_pr, y_ar))\n",
    "clf_xgb.fit(new_X, new_y)\n",
    "print('On test:', metrics(clf_xgb, X_an, y_an))\n",
    "print('On train:', metrics(clf_xgb, new_X, new_y))\n",
    "# Adding cities with small number of positives confuses the model"
   ]
  },
  {
   "cell_type": "code",
   "execution_count": 50,
   "metadata": {},
   "outputs": [
    {
     "name": "stdout",
     "output_type": "stream",
     "text": [
      "On test: [0.939382088384826, 0.0, 0.0, 0.0]\n",
      "On train: [0.9796147829487681, 1.0, 0.04357798165137615, 0.08351648351648353]\n"
     ]
    },
    {
     "name": "stderr",
     "output_type": "stream",
     "text": [
      "c:\\Users\\Артём\\AppData\\Local\\Programs\\Python\\Python39\\lib\\site-packages\\sklearn\\metrics\\_classification.py:1318: UndefinedMetricWarning: Precision is ill-defined and being set to 0.0 due to no predicted samples. Use `zero_division` parameter to control this behavior.\n",
      "  _warn_prf(average, modifier, msg_start, len(result))\n"
     ]
    }
   ],
   "source": [
    "new_X = pd.concat([X_tu, X_pr, X_ar, X_kr], axis=0)\n",
    "new_y = np.concatenate((y_tu, y_pr, y_ar, y_kr))\n",
    "clf_xgb.fit(new_X, new_y)\n",
    "print('On test:', metrics(clf_xgb, X_an, y_an))\n",
    "print('On train:', metrics(clf_xgb, new_X, new_y))"
   ]
  },
  {
   "cell_type": "markdown",
   "metadata": {},
   "source": [
    "EasyEnsembleClassifier"
   ]
  },
  {
   "cell_type": "code",
   "execution_count": 63,
   "metadata": {},
   "outputs": [
    {
     "name": "stdout",
     "output_type": "stream",
     "text": [
      "On test: [0.5887759092686742, 0.09959803483698079, 0.7193548387096774, 0.17497057669674382]\n",
      "On train: [0.6607352366053969, 0.07090264521407144, 0.804953560371517, 0.13032581453634084]\n"
     ]
    }
   ],
   "source": [
    "easy_ens = EasyEnsembleClassifier()\n",
    "new_X = pd.concat([X_tu, X_pr], axis=0)\n",
    "new_y = np.concatenate((y_tu, y_pr))\n",
    "easy_ens.fit(new_X, new_y)\n",
    "print('On test:', metrics(easy_ens, X_an, y_an))\n",
    "print('On train:', metrics(easy_ens, new_X, new_y))\n",
    "# Precision is decreased, recall is raised"
   ]
  },
  {
   "cell_type": "markdown",
   "metadata": {},
   "source": [
    "### Vary Days in X\n",
    "If you restart and run all, all outputs will be invalid till *The optimal number of days*"
   ]
  },
  {
   "cell_type": "markdown",
   "metadata": {},
   "source": [
    "1 Day"
   ]
  },
  {
   "cell_type": "code",
   "execution_count": 136,
   "metadata": {},
   "outputs": [
    {
     "data": {
      "text/plain": [
       "[0.9391865467344545, 0.4, 0.0064516129032258064, 0.012698412698412697]"
      ]
     },
     "execution_count": 136,
     "metadata": {},
     "output_type": "execute_result"
    }
   ],
   "source": [
    "clf_xgb = xgb.XGBClassifier(n_jobs=-1, random_state=1)\n",
    "clf_xgb.fit(X_tu, y_tu)\n",
    "metrics(clf_xgb, X_an, y_an)"
   ]
  },
  {
   "cell_type": "markdown",
   "metadata": {},
   "source": [
    "2 Days"
   ]
  },
  {
   "cell_type": "code",
   "execution_count": null,
   "metadata": {},
   "outputs": [],
   "source": [
    "clf_xgb = xgb.XGBClassifier(n_jobs=-1, random_state=1)\n",
    "clf_xgb.fit(X_tu, y_tu)\n",
    "metrics(clf_xgb, X_an, y_an)"
   ]
  },
  {
   "cell_type": "markdown",
   "metadata": {},
   "source": [
    "3 Days"
   ]
  },
  {
   "cell_type": "code",
   "execution_count": 69,
   "metadata": {},
   "outputs": [
    {
     "data": {
      "text/plain": [
       "[0.937976912541577,\n",
       " 0.1111111111111111,\n",
       " 0.0032258064516129032,\n",
       " 0.006269592476489029]"
      ]
     },
     "execution_count": 69,
     "metadata": {},
     "output_type": "execute_result"
    }
   ],
   "source": [
    "clf_xgb = xgb.XGBClassifier(n_jobs=-1, random_state=1)\n",
    "clf_xgb.fit(X_tu, y_tu)\n",
    "metrics(clf_xgb, X_an, y_an)"
   ]
  },
  {
   "cell_type": "markdown",
   "metadata": {},
   "source": [
    "4 Days"
   ]
  },
  {
   "cell_type": "code",
   "execution_count": 71,
   "metadata": {},
   "outputs": [
    {
     "data": {
      "text/plain": [
       "[0.9385518590998043, 0.0, 0.0, 0.0]"
      ]
     },
     "execution_count": 71,
     "metadata": {},
     "output_type": "execute_result"
    }
   ],
   "source": [
    "clf_xgb = xgb.XGBClassifier(n_jobs=-1, random_state=1)\n",
    "clf_xgb.fit(X_tu, y_tu)\n",
    "metrics(clf_xgb, X_an, y_an)"
   ]
  },
  {
   "cell_type": "markdown",
   "metadata": {},
   "source": [
    "5 Days"
   ]
  },
  {
   "cell_type": "code",
   "execution_count": 51,
   "metadata": {},
   "outputs": [
    {
     "data": {
      "text/plain": [
       "[0.9387355646897632, 0.2, 0.0032258064516129032, 0.006349206349206348]"
      ]
     },
     "execution_count": 51,
     "metadata": {},
     "output_type": "execute_result"
    }
   ],
   "source": [
    "clf_xgb = xgb.XGBClassifier(n_jobs=-1, random_state=1)\n",
    "clf_xgb.fit(X_tu, y_tu)\n",
    "metrics(clf_xgb, X_an, y_an)"
   ]
  },
  {
   "cell_type": "markdown",
   "metadata": {},
   "source": [
    "The optimal number of days"
   ]
  },
  {
   "cell_type": "code",
   "execution_count": 17,
   "metadata": {},
   "outputs": [
    {
     "name": "stderr",
     "output_type": "stream",
     "text": [
      "  0%|          | 0/8 [00:00<?, ?it/s]"
     ]
    },
    {
     "name": "stdout",
     "output_type": "stream",
     "text": [
      "No Skill: ROC AUC=0.500\n",
      "Clf: ROC AUC=0.699\n"
     ]
    },
    {
     "data": {
      "image/png": "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",
      "text/plain": [
       "<Figure size 432x288 with 1 Axes>"
      ]
     },
     "metadata": {
      "needs_background": "light"
     },
     "output_type": "display_data"
    },
    {
     "name": "stderr",
     "output_type": "stream",
     "text": [
      " 12%|█▎        | 1/8 [00:43<05:04, 43.56s/it]"
     ]
    },
    {
     "name": "stdout",
     "output_type": "stream",
     "text": [
      "No Skill: ROC AUC=0.500\n",
      "Clf: ROC AUC=0.696\n"
     ]
    },
    {
     "data": {
      "image/png": "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",
      "text/plain": [
       "<Figure size 432x288 with 1 Axes>"
      ]
     },
     "metadata": {
      "needs_background": "light"
     },
     "output_type": "display_data"
    },
    {
     "name": "stderr",
     "output_type": "stream",
     "text": [
      " 25%|██▌       | 2/8 [01:27<04:21, 43.59s/it]"
     ]
    },
    {
     "name": "stdout",
     "output_type": "stream",
     "text": [
      "No Skill: ROC AUC=0.500\n",
      "Clf: ROC AUC=0.697\n"
     ]
    },
    {
     "data": {
      "image/png": "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",
      "text/plain": [
       "<Figure size 432x288 with 1 Axes>"
      ]
     },
     "metadata": {
      "needs_background": "light"
     },
     "output_type": "display_data"
    },
    {
     "name": "stderr",
     "output_type": "stream",
     "text": [
      " 38%|███▊      | 3/8 [02:12<03:41, 44.23s/it]"
     ]
    },
    {
     "name": "stdout",
     "output_type": "stream",
     "text": [
      "No Skill: ROC AUC=0.500\n",
      "Clf: ROC AUC=0.697\n"
     ]
    },
    {
     "data": {
      "image/png": "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",
      "text/plain": [
       "<Figure size 432x288 with 1 Axes>"
      ]
     },
     "metadata": {
      "needs_background": "light"
     },
     "output_type": "display_data"
    },
    {
     "name": "stderr",
     "output_type": "stream",
     "text": [
      " 50%|█████     | 4/8 [02:58<03:00, 45.18s/it]"
     ]
    },
    {
     "name": "stdout",
     "output_type": "stream",
     "text": [
      "No Skill: ROC AUC=0.500\n",
      "Clf: ROC AUC=0.697\n"
     ]
    },
    {
     "data": {
      "image/png": "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",
      "text/plain": [
       "<Figure size 432x288 with 1 Axes>"
      ]
     },
     "metadata": {
      "needs_background": "light"
     },
     "output_type": "display_data"
    },
    {
     "name": "stderr",
     "output_type": "stream",
     "text": [
      " 62%|██████▎   | 5/8 [03:58<02:30, 50.24s/it]"
     ]
    },
    {
     "name": "stdout",
     "output_type": "stream",
     "text": [
      "No Skill: ROC AUC=0.500\n",
      "Clf: ROC AUC=0.697\n"
     ]
    },
    {
     "data": {
      "image/png": "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",
      "text/plain": [
       "<Figure size 432x288 with 1 Axes>"
      ]
     },
     "metadata": {
      "needs_background": "light"
     },
     "output_type": "display_data"
    },
    {
     "name": "stderr",
     "output_type": "stream",
     "text": [
      " 75%|███████▌  | 6/8 [04:52<01:43, 51.67s/it]"
     ]
    },
    {
     "name": "stdout",
     "output_type": "stream",
     "text": [
      "No Skill: ROC AUC=0.500\n",
      "Clf: ROC AUC=0.703\n"
     ]
    },
    {
     "data": {
      "image/png": "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",
      "text/plain": [
       "<Figure size 432x288 with 1 Axes>"
      ]
     },
     "metadata": {
      "needs_background": "light"
     },
     "output_type": "display_data"
    },
    {
     "name": "stderr",
     "output_type": "stream",
     "text": [
      " 88%|████████▊ | 7/8 [05:43<00:51, 51.31s/it]"
     ]
    },
    {
     "name": "stdout",
     "output_type": "stream",
     "text": [
      "No Skill: ROC AUC=0.500\n",
      "Clf: ROC AUC=0.704\n"
     ]
    },
    {
     "data": {
      "image/png": "iVBORw0KGgoAAAANSUhEUgAAAYUAAAEKCAYAAAD9xUlFAAAABHNCSVQICAgIfAhkiAAAAAlwSFlzAAALEgAACxIB0t1+/AAAADl0RVh0U29mdHdhcmUAbWF0cGxvdGxpYiB2ZXJzaW9uIDIuMi4yLCBodHRwOi8vbWF0cGxvdGxpYi5vcmcvhp/UCwAAIABJREFUeJzt3Xl8VOXVwPHfSQKEfQt7CGGVHYQICooIVtkEpVRxBa1abW1dWhWVurf62rpWq2JF3JciKEWtdUVAMERlXxQxkIDsENkCITnvH3cSJpNJMiFzZz3fzweZuXMz91zAOfNs5xFVxRhjjAFICHcAxhhjIoclBWOMMSUsKRhjjClhScEYY0wJSwrGGGNKWFIwxhhTwpKCMcaYEpYUjDHGlLCkYIwxpkRSuAOoqpSUFE1PTw93GMYYE1W+/vrrnararLLzoi4ppKenk5WVFe4wjDEmqojIxkDOs+4jY4wxJSwpGGOMKWFJwRhjTImoG1Pwp6CggNzcXPLz88MdSsxKTk4mNTWVGjVqhDsUY4yLYiIp5ObmUr9+fdLT0xGRcIcTc1SVXbt2kZubS/v27cMdjjHGRa51H4nIdBHZLiIry3ldROQJEVkvIstFpN/xXis/P5+mTZtaQnCJiNC0aVNriRkTB9wcU5gBjKjg9ZFAZ8+vq4Gnq3MxSwjusj9fY7zkZML8h53fY+yarnUfqeoXIpJewSnjgJfU2Q90sYg0EpFWqvqTWzEZY+JATiZkz4f006DtAHfe/4WRUHQUEGjZC2o1CP51vBTm55GwfRWiCknJMGmOO/dGeMcU2gA5Xs9zPcfKJAURuRqnNUFaWlpIgquqrVu3csMNN7BkyRJq1apFeno6jz32GF26dAnK+7/zzjt06dKF7t27H9fPZ2dn8+WXX3LRRRf5fX3EiBEsXryYU089lblz51YnVGPCJycTXhgFRQUgCdCiZ/A/sHet9yQEAIX9211NCnmHCjiwYxuttMg5UHjESXoxmBT89UeovxNVdRowDSAjI8PvOeGkqpx33nlMmjSJN954A4ClS5eybdu2oCaFMWPGVCspvPbaa+UmhZtvvpmDBw/y7LPPVidMY8KjuHWQl+skBAAtgvw817/F03UkjHks6G+bd6iAB95fwxvrchjVaBP/KLibxKICSKzptIJcEs6kkAu09XqeCmwJUyzV8tlnn1GjRg2uueaakmN9+/YFnIRxyy238MEHHyAiTJ06lQsuuIDPP/+cu+++m5SUFFauXEn//v155ZVXEBGmTJnCnDlzSEpK4qyzzmL8+PHMmTOHefPmcf/99/P222/z6aefMm3aNI4cOUKnTp14+eWXqVOnDpMnT6ZBgwZkZWWxdetWHnroISZMmMCUKVNYs2YNffv2ZdKkSdx4442l7mH48OF8/vnnofxjMyY4smbAezc6ScDXqTdBxuTgXi8nE2aMhsICSKwBffx/0aqOwiLll09/yYYd+/nN6R248cwRJG7t7263mEc4k8Ic4DoReQMYCOQFazzhgmcXlTk2pncrLj0lnUNHCpn8QtmBmgn9U/lVRlt2HzjCta98Xeq1N39zSoXXK/5Q92fWrFksXbqUZcuWsXPnTk466SSGDBkCwLfffsuqVato3bo1gwcPZuHChXTv3p3Zs2ezdu1aRIS9e/fSqFEjxo4dy5gxY5gwYQIAjRo14qqrrgJg6tSpPP/88/z+978H4KeffmLBggWsXbuWsWPHMmHCBB588EH+/ve/W9eQiW6+4wU5mTD3Bvx3MiTAoV3Bj6HtAJj8nisf0HsOHKFRnRokJgh/OusEWjdKpndqo2PXdTEZFHMtKYjI68BQIEVEcoG7gBoAqvoM8D4wClgPHAQudyuWcFqwYAEXXnghiYmJtGjRgtNPP50lS5bQoEEDBgwYQGpqKuC0LLKzszn55JNJTk7myiuvZPTo0YwZM8bv+65cuZKpU6eyd+9e9u/fz9lnn13y2rnnnktCQgLdu3dn27ZtIblPY1xXqkXgGeDdv50yCUESnd/d7GYJ8ge0qvLO0s3c85/V3DqiKxcOSGNEz5ZBe/+qcHP20YWVvK7A79y4dkXf7GvXTKzw9SZ1a1baMvDVo0cPZs6c6fc15zb9q1WrVsnjxMREjh49SlJSEpmZmXzyySe88cYbPPnkk3z66adlfnby5Mm888479OnThxkzZpTq+vF+34qub0zUKNMi8AzwlpEAox9xWggud7MEy5a9h7hj9go+W7eDE9MakdGucVjjsdpHQTBs2DAOHz7Mc889V3JsyZIlzJs3jyFDhvDmm29SWFjIjh07+OKLLxgwoPx/qPv37ycvL49Ro0bx2GOPsXTpUgDq16/Pvn37Ss7bt28frVq1oqCggFdffbXSGH1/3piIVN5c/Oz5lGkRdB0JF7zstAjAaSGMedQZQzjtj1GREN5dupmzHv2CxRt2c+eY7sy8ZhCdW9QPa0wxUeYi3ESE2bNnc8MNN/Dggw+SnJxcMiV1yJAhLFq0iD59+iAiPPTQQ7Rs2ZK1a9f6fa99+/Yxbtw48vPzUVUeffRRACZOnMhVV13FE088wcyZM7nvvvsYOHAg7dq1o1evXpV+4Pfu3ZukpCT69OnD5MmTyww0n3baaaxdu5b9+/eTmprK888/X6pLyhjXFI8T1G4K7//R//z/fT7DjZLoDPC62L8fCg1r16Bv20Y8ML4XbZvUCXc4AEi0dS9kZGSo7yY7a9asoVu3bmGKKH7Yn7M5buUtKCu1EMxHvZbQtJPzOC8H9hbvESNOa8CFaaBuO1pYxPMLfqSgsIjrhnUGnC7eUFQMEJGvVTWjsvOspWCMcZe/AeLiFkCphWA+vOf/52TCi2OdhVuJNV2ZBuq21Vt+5ta3l7Nicx6je7cqSQaRVkLGkoIxxj3lDRCXu6AswTnHd/5/2wFOaYco7CY6fLSQJz9dz9Of/0CjOjX458X9GNmzZcQlg2KWFIwxwePbTVTeALF3C8B7IdjIv5U/cyhE8/SDLXvnQZ6Z9wNj+7bmz6O707huzXCHVCFLCsaY6svJhGWvwdcvgRZS0k105EDp84oHiItF+UBxeQ4cPspHq7dx7oltOKFlfT65aShpTSNjILkylhSMMaVVtcqo38FiTzdRUi2vYwL9L4uZFkB55n+/g9tmrWDz3kP0bNOATs3rR01CAEsKxphi5X3br6ygXHmDxV1HOq2CKB8gDlTewQL+8v5q3srKpUNKXd68+hQ6NQ/vmoPjYYvXgmjr1q1MnDiRjh070r17d0aNGsV3331Hz549S8658MIL6d27d8n6A2MiQnHJ6awXPAkByl81HIDiBFA8QDzsDlf3AAi3wiLll898ydvfbOa3Qzvy/vWnMaB9k3CHdVyspRAkFZXPLrZ161a+/PJLNm7cWN7bGBMey14/VnLaWyBlob0HixMSod9l0OfCYwkgxrqHvO0+cIRGtZ0CdjeffQJtGtWmZ5uG4Q6rWuI3KQR5d6byymdnZ2eXPD/rrLPYvn07ffv25R//+AenneZeTXRjKuW9kjhrhs+LEnhZ6BgdLK6IqjLrm83cO9cpYHfRwDTO7hGeAnbBFntJ4YMpsHVFxecc/hm2rXQW0wSyO1PLXjDywQrfsqLy2cXmzJnDmDFjSuoZGRMy/kpOl7eSGKDjGTD0tsA/4GO4NeArd89Bbp+9ki++20H/do2jtpuoPLGXFAKRn3dsQ45Q7c5kTLjkZML0EaUHj/dvLz8hSGLVEkIcmf1tLlNnr0SBe8b24NKT25GQEJmL0I5X7CWFSr7RA2WXzP/yX9X+H6Ci8tnGVFkwuzcXPl568Dgv91hl0RIJQJGTEEY/YgmhHE3q1qJ/ehP+el5PUhtHzzTTqoi9pBAIF5bMDxs2jNtvv53nnnuuZEe0JUuWcPDgwWq/t4kzwd58fnPpnQSp2wzGPRn4SuI4VlBYxHPzN3C0UPnD8M6c3qUZQzqnRGyJimCIz6QAQe8Drah8tjHl8tciyJ4f3M3na9SGo4eOPU/pFJeDw1W1cnMet769nFVbfuacPq0jtoBdsMVvUnBB69ateeutt8ocX7lyJQDp6eklj02c8ffhX2qw12uhmO/eAdXdfN77OglJMPgG53gcDQ5XRX5BIU988j3PfrGBxnVq8swl/RjRs1W4wwoZSwrGBFNVPvxLrQT2qh5aagA4CJvPtx0Al39grYIAbdx1kOfmb2D8iW2YOro7DevUCHdIIWVJwZjjEYwPf1/FC8V8J0IEY/N5axVU6MDho3y4aivj+6VyQsv6fPrHoRGzE1qoxUxSCNXuRfEq2nboc1V5A8HH8+HvPdhbvFAsivcOiEbzvtvB7bNWsCXvEL1TG9Kpef24TQgQI0khOTmZXbt20bRpU0sMLlBVdu3aRXJycrhDCa/i1kFebmADwYF8+Jc32Gvf7F2358AR7ntvNbO+2UzHZnX592+is4BdsMVEUkhNTSU3N5cdO3aEO5SYlZycTGpqarjDCI8y1UN9FA8E24d/1CguYLdx10GuO6MT1w3rRHKNxHCHFRFiIinUqFGD9u3bhzsME2sqSwZAqYFg+/CPeLv2H6ZxnZokJghTRnSlTePa9Ggd3QXsgi0mkoIx1VLpoLEf4vlW6TsQbB/+EUlV+ffXudw/dzW3juzKxQPbcVaMFLALNksKJr4FNGjsI7GmrQCOIjm7D3L77BXM/34nA9KbcEqHpuEOKaJZUjDxrSqrhxOSyu4VYCLarG9ymfrOSgS479yeXDwgLeYK2AWbJQUTn4q7jLavLX28x3nwi3sq3zjGRIWUerUY0L4JfzmvF20a1Q53OFHBkoKJP1kz4L0bj5VP95Y93/ndagNFpYLCIp6d9wOFRXD9mZ0Z0qUZQ7o0C3dYUcWSgokvWTNg7vXlv17fa/DRBo2jysrNedw8czlrfvqZcX1b24LW45Tg5puLyAgRWSci60Vkip/X00TkMxH5VkSWi8goN+MxcS4nE+be4OcFzweHd7E4EzXyCwp58IO1jHtqITv3H+bZS/vz+MQTLSEcJ9daCiKSCDwF/ALIBZaIyBxVXe112lTgLVV9WkS6A+8D6W7FZOJc9nzAt1xHAox51GYSRbFNuw/y/IINTOiXyu2jusVdAbtgc7P7aACwXlU3AIjIG8A4wDspKFA81aMhsMXFeEw8y8mE9R/7HBQnIVSnLLUJi335Bfx35VZ+ldGWLi3q89mfhsbsTmih5mZSaAPkeD3PBQb6nHM38D8R+T1QFzjTxXhMPKpoVXJKF0sIUeiztdu5Y/YKtv6cz4lpjejUvL4lhCByMyn469DzbbtfCMxQ1YdF5BTgZRHpqVp6WoiIXA1cDZCWluZKsCYGldqw3o+UTqGNx1TL7gNHuG/uamZ/u5nOzesx89pBVsDOBW4mhVygrdfzVMp2D/0aGAGgqotEJBlIAbZ7n6Sq04BpABkZGVbD2QTm47vKTwg2qBxVCouUCU9/yabdB/nD8M787oyO1EqyAnZucDMpLAE6i0h7YDMwEbjI55xNwHBghoh0A5IBK3Vqqi8nEzZ+Wfa4rUqOKjv2HaZpXaeA3e2jutGmcW26tarGftWmUq4lBVU9KiLXAR8CicB0VV0lIvcCWao6B/gj8JyI3IjTtTRZbTcXEwzLXi97rNkJMPZJSwZRQFV5KyuH+99bw60junLJye04s3uLcIcVF1xdvKaq7+NMM/U+dqfX49XAYDdjMHEoJxOyXvA5mGAJIUps2nWQKbOW8+UPuxjYvgmndkoJd0hxxVY0m9iz8HHKzGnImGQJIQrM/DqXP7+zksQE4S/n9eTCk6yAXahZUjCxpbjQXSlybBc0E9FaNKjFoI5Nuf+8nrRqaAXswsGSgokd3nsjeKvb3FoJEerI0SKe/vwHilS58RddOK1zM07rbAXswsmSgokNOZnw+QNlEwJA24zQx2MqtSxnL7fMXM66bfsYf2IbK2AXISwpmOhX0SI1W48QcQ4dKeSRj9bx/IIfaV4/mX9dlmEziyKIJQUT/RY+7ichCHQ8A4beZl1HESZnz0Fe/HIjEwekMWVkVxokWwG7SGJJwUQ3vwPLQFKyJYQI8rOngN35ngJ2n988lNa2E1pEsqRgold5A8u1GsIlMy0hRIhP127j9lkr2b4vn35pjenUvJ4lhAhmScFEr2Wv+x9Ybn+qJYQIsGv/Ye6du5p3l27hhBb1eebS/nRqXi/cYZlKWFIw0aW4u6h2U2drTV82sBwRCouUXz2ziJw9B7nxzC5cO7QjNZNc3ejRBElASUFEagJpqrre5XiMKV/WDHjvRihdWf2YjsNsHCHMtu/LJ6VuLRIThDtGdyO1cR1OaGnlraNJpalbREYDK4CPPM/7ishstwMzpkTx3spzbyg/IUiiJYQwKipSXv1qI8P+Po9XMzcBMLxbC0sIUSiQlsK9ODumfQagqktFxHYnMaFR3mAy4HynKXISwuhHLCGESfbOA0yZtZzFG3YzqGNTTrcVyVEtkKRQoKp7fVYaWnlrExrlDSaT4OyvfGgXpJ9mCSFM3srK4c/vrKRmYgIPju/FBSe1tVXJUS6QpLBGRM4HEjwb5lwPLHY3LGMopwQ2x1oGtr9y2LVpVJshXZpx37ietGyYHO5wTBAEkhSuA+4EioBZOJvm3OZmUMYA/ktg22ByWB0+Wsg/P/sBVeWms05gcKcUBtt+BzElkKRwtqreCtxafEBExuMkCGPck7vE54BYQgijbzft4da3l/Pdtv38sl+qFbCLUYEkhamUTQB3+DlmTPBkzYD920ofsxLYYXHwyFEe/t93TF/4Iy0bJDN9cgbDuloBu1hVblIQkbOBEUAbEXnE66UGOF1JxrijeAqqLyuBHRab9xzi5cUbuXhgGreO6Ep9K2AX0ypqKWwHVgL5wCqv4/uAKW4GZeJc9nzKTnATW6kcQnmHCvhgxU9MHJBG5xb1mXfzUNsJLU6UmxRU9VvgWxF5VVXzQxiTiWc5mbD+Y5+DAmMes66jEPnfqq1MfWcluw4cISO9CZ2a17OEEEcCGVNoIyJ/AboDJXPOVLWLa1GZ+FReGYuULjb9NAR27j/M3XNWMXf5T3RtWZ9/TcqwAnZxKJCkMAO4H/g7MBK4HBtTMMHiXeBu7g34XReZYgvo3VZYpEx4+ku27M3nT2d14Tend6RGohWwi0eBJIU6qvqhiPxdVX8ApoqIn11NjKmiCktYeFjVU1dt+zmfZvWcAnZ3ndOD1Ma16dzC6hXFs0C+ChwWZzLyDyJyjYicAzR3OS4TD8otYQEgkHEFXP6BjSW4oKhIeXnxRoY/PI9Xv9oIwBldm1tCMAG1FG4E6gF/AP4CNASucDMoEwf8lbCQRGevZStj4aoNO/YzZdYKMn/czamdUhh6gn3HM8dUmhRU9SvPw33ApQAikupmUCYGFY8dFBev81fCov9l0LCtFbhz0ZtLNnHnu6uolZTAQxN686v+qbYq2ZRSYVIQkZOANsACVd0pIj1wyl0MAywxmMDkZML0EU4rAIGWvWDn9z4nCfS5yJKBy1Ib12HoCU4Bu+YNrICdKauiFc0PAL8EluEMLs/GqZD6f8A1oQnPxISFj3sSAoBCXi7UqA1HDx07p90plhBccPhoIf/4xNkw8U9nWwE7U7mKWgrjgD6qekhEmgBbPM/XhSY0ExNyMmHzN6WPNWkPIx6EF0ZC0VFnhtGZ94Qnvhj29cbd3DJzOT/sOMD5GVbAzgSmoqSQr6qHAFR1t4istYRgqqS8KafFYwaXf1B6nMEExYHDR/nbh+t4cVE2rRvW5sUrBnB6F9sNzQSmoqTQQUSKK6EKkO71HFUdX9mbi8gI4HEgEfiXqj7o55zzgbtxRh2XqepFgYdvIlr2fD9TTgWSGzgP2w6wZOCCLXsP8VrmJi47uR03j+hKvVqBTDI0xlHRv5Zf+jx/sipvLCKJwFPAL4BcYImIzFHV1V7ndMbZsGewqu4REZsbF0u2r/U5IJCU7LQMTFDlHSzgvRU/cdFAp4Dd/FvOoIUNJJvjUFFBvE+q+d4DgPWqugFARN7AGadY7XXOVcBTqrrHc83t1bymiRQ5mbDirdLHGrSCX71orYMg++/Krfz53ZXsPnCEgR2a0LFZPUsI5ri5WdykDZDj9TzXc8xbF6CLiCwUkcWe7qYyRORqEckSkawdO3a4FK4JmpxM+PyBssdbn2gJIYi278vnt69+zTWvfE2zerV493eD6djMCtiZ6nGzs9HfNAffamdJQGdgKM66h/ki0lNV95b6IdVpwDSAjIwMPxXTTMQor9IpCVbDKIgKi5Tzn1nElrx8bj77BK4e0sEK2JmgCDgpiEgtVT1chffOBdp6PU/Fmdbqe85iVS0AfhSRdThJwndzXhMNSnZM87NBTsYkayUEwU95h2hRP9kpYDe2B20b17Hy1iaoKv1qISIDRGQF8L3neR8R+UcA770E6Cwi7UWkJjARmONzzjvAGZ73TcHpTtpQhfhNJPn4LvwmhKRkZ7WyOW5FRcqMhT8y/OF5vFJcwO6E5pYQTNAF0lJ4AhiD8wGOqi4TkTMq+yFVPSoi1wEf4kxJna6qq0TkXiBLVed4XjtLRFYDhcDNqrrrOO/FhFNOJmz8suzxjMuhz4XWSqiG9dv3M+Xt5WRt3MOQLs0Y1tUm6Rn3BJIUElR1o89KyMLyTvamqu8D7/scu9PrsQI3eX6ZaLbw8bLH2g2CMY+GPpYY8kbmJu6cs4raNRJ5+Fd9GN+vja1KNq4KJCnkiMgAQD1rD34PfOduWCbqlClwh5WuCIK0pnU4s1tz7hnbk2b1a4U7HBMHAkkK1+J0IaUB24CPPceMceRkwk6fCii9zrcuo+OQX1DIE584CfaWEV0Z1DGFQR2tgJ0JnUCSwlFVneh6JCZ6fXxX2WPNu4Y+jiiXlb2bW95ezoYdB5h4UlsrYGfCIpCksMQzVfRNYJaq7nM5JhNN/A4wi5WyqIL9h4/yt/+u5aXFG2nTqDYvXTGAIVbAzoRJIDuvdRSRQThTSu8RkaXAG6r6huvRmcjnd4DZ9kaoiq15h3hjSQ6TTknn5rNPoK4VsDNhFNASSFX9UlX/APQDfgZedTUqEx387ZUANsAcgD0HjvDyYme9QafmTgG7u8f2sIRgwq7Sf4EiUg+nkN1EoBvwLjDI5bhMpCu1xaYXG2CukKrywcqt3PnuSvYeLGBQx6Z0bFbPtsY0ESOQryUrgf8AD6nqfJfjMdHi47vKJgTEBpgrsP3nfP787ko+XLWNXm0a8tIVA62AnYk4gSSFDqplqpuZeJY1w//qZdsroVyFRcqvnl3E1rx8bhvZlV+f2p4kK2BnIlC5SUFEHlbVPwJvi0iZyqSB7LxmYlBJ0TsfzU6AsU9a15GPLXsP0bKBU8Du3nE9adu4Nh2sdWAiWEUthTc9v1dpxzUTw0r2SfBT9M4SQimFRcpLi7J56L/ruG1UVy47Jd32STZRoaKd1zI9D7upaqnE4Cl0V92d2Uw0KXefBIExj1lC8LJ++z5umbmcbzbtZegJzRjerUW4QzImYIF0al7h59ivgx2IiWBZM2Du9f4TQsZk55cB4LWvNjHq8QX8uPMAj17Qhxcmn0SbRrXDHZYxAatoTOECnGmo7UVkltdL9YG9/n/KxJzihFCG7ZPgT3pKHc7q0YK7x/YgpZ4VsDPRp6IxhUxgF86OaU95Hd8HfOtmUCZClDeojNg+CR75BYU8+vF3CMKUkVbAzkS/isYUfgR+xKmKauJR9nz8DiqPecy6jICvNuxiyqwV/LjzABcPTLMCdiYmVNR9NE9VTxeRPZT+ZBCc/XGauB6dCZ+cTMjLKX1MEmD0o3GfEPblF/B//13LK4s3kdakDq9dOZBBnax1YGJDRd1HxVtu2r/2eONvppEkwuhH4j4hAGz7+TAzv87lylPbc9NZXahT0+oVmdhRUfdR8SdCW2CLqh4RkVOB3sArOIXxTKwpd2AZOBS/22fvPnCE95Zv4dJT0unUvB7zbxlmO6GZmBTIlNR3cLbi7Ai8hFMU7zVXozLhUdFMo8SacVnCQlX5z7It/OKRedw7dzUbduwHsIRgYlYg7d4iVS0QkfHAY6r6hIjY7KNYYzONytj2cz53zF7Jx2u20Tu1Ia9OGGglKkzMC2g7ThH5FXApcK7nWA33QjJhYTONSiksUs73FLC7Y1Q3Lh+cbgXsTFwIJClcAfwWp3T2BhFpD7zublgm5PJ9h4jiMyHk7jlIq4a1SUwQ7hvXk7QmdUhPqRvusIwJmUq/+qjqSuAPQJaIdAVyVPUvrkdmQiMnE+Y/DKtmlT7eKC2uEkJhkfKv+Rs485F5vOLZEW1Il2aWEEzcCWTntdOAl4HNOGsUWorIpaq60O3gjItyMmHZa/D1S342ywG0TLX0mLVu6z5ueXs5y3L2Mrxrc87qYQXsTPwKpPvoUWCUqq4GEJFuOEkiw83AjItyMuGFUVBUUP45rXqFLp4wemXxRu75zyrqJ9fg8Yl9Gdunta1KNnEtkKRQszghAKjqGhGp6WJMxk3FeyL4TQgCKCQkwWB/M5FiR3FJik7N6zGqVyvuHNOdplbAzpiAksI3IvIsTusA4GKsIF50ysmE6SP8762cWANG/s1ZoJZ+WsxOPz10pJBHPlpHQoJw28hunNyhKSd3aBrusIyJGIEkhWtwBppvwfkq+QXwDzeDMi5Z+Lj/hNDxDBh6W8wmgmKLftjFlFnL2bjrIJee3M4K2BnjR4VJQUR6AR2B2ar6UGhCMq7JXVL2WFJyzCeEn/MLeOD9tbyeuYl2Tevw2lUDrby1MeUod0qqiNyOU+LiYuAjEfG3A1uFRGSEiKwTkfUiMqWC8yaIiIqIDV67JScT9m8rfaxWQ5g0J6YTAsD2nw/zzrebuXpIB/57/RBLCMZUoKKWwsVAb1U9ICLNgPeB6YG+sYgk4mzO8wsgF1giInO8B60959XH6Z76qqrBmypY5me9YftTYzYh7Np/mP8s28Lkwe3p1LweC249wwaSjQlARYvXDqvqAQBV3VHJuf4MANar6gZVPQK8AYzzc959wENAfhXf3wQqJ9MpdldKQkzOMFJV3l26mTMfmcdf3l9TUsDOEoIxgamopdD/5DCBAAAXcklEQVTBa29mATp679WsquMree82gPcuLbnAQO8TROREoK2qzhWRPwUetqmS7PlAUeljGZNirpWwZe8hpr6zkk/Xbqdv20Y8NKG3FbAzpooqSgq/9Hn+ZBXf29+0jpJlsiKSgLMwbnKlbyRyNXA1QFpaWhXDiHM5mbDeZ0fVhCToc1F44nHJ0cIiJk5bzI59h/nzmO5MHpROYoLNLDKmqiraZOeTar53Ls4GPcVSgS1ez+sDPYHPPdMCWwJzRGSsqmb5xDINmAaQkZERP/UXqqu8lctNOsZMKyFn90FaN6pNUmICfz2vF2lN6pDWtE64wzImarlZC3gJ0FlE2ntWQE8E5hS/qKp5qpqiqumqmg4sBsokBFMN2fP9r1xO6RT6WILsaGER0774gTMfmcfLi7IBOLVziiUEY6rJtc1lVfWoiFwHfAgkAtNVdZWI3Atkqeqcit/BVFuZctjERAmLNT/9zK1vL2d5bh6/6N6Ckb1ahTskY2JGwElBRGqp6uGqvLmqvo8zldX72J3lnDu0Ku9tAuBbDrtuM5j4WlR3Hb28KJt7/rOahrVr8ORFJzK6VytblWxMEFXafSQiA0RkBfC953kfEbEyF5EuJxP2bip9LKl21CYE9ZTy7tKiPuf0ac1HN53OmN5W0dSYYAukpfAEMAZndTOqukxEznA1KlN9H99V9lgUlsM+eOQof//wO5IShdtHdWNgh6YMtAJ2xrgmkIHmBFXd6HPMz64sJmLkZMLGL8sej7KxhIXrd3L2Y18wfeGPHDlaVNJaMMa4J5CWQo6IDADUU7ri98B37oZlqsVfSYt2g6Km6yjvUAF/fW8Nb2bl0D6lLm/95hQGtG8S7rCMiQuBJIVrcbqQ0oBtwMeeYyZS5GQ600/TT3Oe+ytpceY9oY7quO3cf5j/LN/CNad35IYzO5NcIzHcIRkTNypNCqq6HWeNgYlEWTPgvRtBiwCB2o2JxpIWO/Y5BeyuOLU9HZvVY8Gtw2hS1zb4MybUKk0KIvIcXuUpiqnq1a5EZAKXNQPmXu91QKHgUOlzJDGiS1qoKu8s3cw9/1nNwcOFnNG1Oe1T6lpCMCZMAuk+8i6ckwycR+lCdyYccjJhrp+B407D4PuPoPCIkxBGPxKxrYTNew9xx+wVfL5uB/3SnAJ27VPqhjssY+JaIN1Hb3o/F5GXgY9ci8gEJns+ZRtwnnLYg284NsYQoQnBKWC3iF37j3D3Od259BQrYGdMJDieMhftgXbBDsRUUZkSFgJjHj2WBCI0GWzadZA2jZ0Cdg+O701akzq0bWL1ioyJFIGMKezh2FfSBGA3UO7WmsZlxTONfEtYNEqDjMlhCSkQRwuLeG7+jzz68XfcNrIrlw9uz+BOti2mMZGmwqQgTg2BPsBmz6EitRVE4ZOTCdNHgPpZOxjBfy2rtuRx69vLWbn5Z87u0YLRVsDOmIhVYVJQVRWR2araP1QBmQosfNx/QoCILWHx4pfZ3Dd3NY3q1OTpi/tZRVNjIlwgYwqZItJPVb9xPRpTsX0/+T8egeWwVRURoWvL+ozr24Y/j+lGozo2zdSYSFduUhCRJFU9CpwKXCUiPwAHcLbZVFXtF6IYTbETL4PNXx97PvgGSG4QUbOMDhw+yt8+XEeNROGO0d2tgJ0xUaailkIm0A84N0SxmKpq3D6iBpe/+G4Ht81awZa8Q0w6Jb2ktWCMiR4VJQUBUNUfQhSLKU/xjKOvZ5Q+/tXTEZEU8g4WcN97q5n5dS4dmjkF7E5KtwJ2xkSjipJCMxG5qbwXVfURF+IxvnIy4YVR/vdaPnIw9PH4sfPAYT5Y8RO/HdqRPwy3AnbGRLOKkkIiUA9Pi8GEybLX/ScECOuMo+378pmzdAtXntahpIBdY6tXZEzUqygp/KSq94YsElNWTiZkveBzMAEoCtuMI1Xl7W82c9/c1RwqKGR4txa0T6lrCcGYGFHpmIIJo4/vokx9o4xJ0LBtWGYc5ew+yO2zVzD/+51ktGvMg7+0AnbGxJqKksLwkEVhysqa4WdLTXHKYIdh+unRwiIufG4xew4c4b5xPbh4YDsSrICdMTGn3KSgqrtDGYjxUmafBI92p4Q8IWTvPEDbJnVISkzgoQlOAbvUxlbAzphYlRDuAIyP8vZJQEK6pWZBYRFPfbaesx79gpcWZQMwqGOKJQRjYtzxlM42blr2OmX3SRAY81jIWgkrN+dxy8zlrP7pZ0b3asWY3q1Dcl1jTPhZUogkWTMga7rPQU9CCNEitRcW/sj9762hSd2aPHNJf0b0bBmS6xpjIoMlhUhR3jhCxuSQJITikhQ9Wjdk/IltmDq6Ow3r1HD9usaYyGJJIdxyMmHZa05S8CWJzmwjF+0/fJSH/ruWmokJTB3TnQHtmzCgvZWoMCZeWVIIp4pKWCAw+hFXxxE+X7edO2avZEveIa4Y3N4K2BljLCmETU4mfP5A+QnBxXGEPQeOcN97q5n1zWY6Na/HzGsG0b9dY1euZYyJLpYUwqGiFoIkOi0EF8cR9hw8wv9WbeMPwzrxu2GdqJVkBeyMMQ5X1ymIyAgRWSci60Vkip/XbxKR1SKyXEQ+EZF2bsYTMbLn+0kIAh2HwRX/dSUhbP85n2lf/ICq0qFZPRbeOoybzjrBEoIxphTXkoKIJAJPASOB7sCFItLd57RvgQxV7Q3MBB5yK56Ikn4aiNcfvSRAUjIMvS3oYwiqyltLchj+yDwe/t93ZO9yym3bzCJjjD9udh8NANar6gYAEXkDGAesLj5BVT/zOn8xcImL8USOtgOgRU/Iz4NTb4JDu1wpcJez+yC3zVrBgvU7GdC+CQ+O72UF7IwxFXIzKbQBcrye5wIDKzj/18AH/l4QkauBqwHS0tKCFV94HTngJAWA0/4Y9LcvLmC392AB95/bk4sGpFkBO2NMpdxMCv4+gXzrNzgnilwCZACn+3tdVacB0wAyMjL8vkdU+egu2O3Z5bR4wVqQxhF+3HmANE8Bu79N6EO7pnVo3ah2UN7bGBP73BxozgXaej1PBbb4niQiZwJ3AGNV9bCL8USGnExY+FjpY9++VO23LSgs4h+ffM/Zj37Bi19mA3BKx6aWEIwxVeJmS2EJ0FlE2gObgYlAqeW5InIi8CwwQlW3uxhL5Pj4rrLH6levvtDy3L3cMnM5a7fu45w+rRnb1wrYGWOOj2tJQVWPish1wIc4+z1PV9VVInIvkKWqc4C/4ewD/W/PStpNqjrWrZjCLifTz8Y5VGtbzekLfuT+91bTrH4tnrssg190b1GNAI0x8c7VxWuq+j7wvs+xO70en+nm9SPOstfLHms36LhmHRWXpOid2pALTmrLlJHdaFjbppkaY6rHVjS7LSfTWaxWu6mfoncJVd44Z19+AQ9+sJZaSYnceU53MtKbkJFuBeyMMcFhScFNOZkwfQRoof/XMyZVqZXw2drt3D57Bdt+zufK0zpYATtjTNBZUnDTwsfLTwhVKIu9+8AR7v3PKt5ZuoUuLerxz4sHcWKaFbAzxgSfJQU3bV3h/3hx0bsAWwl5hwr4ZM12rh/emd+d0YmaSba1tjHGHZYU3KQ+6+wapjmL1AIoabE1L593lm7mN0M60D6lLgumDLOBZGOM6ywpuCUnE/I2lT7Wc3ylJS1UlTeW5PDX99ZQUFTEiB4tSU+pawnBGBMSlhTcsvDxsseSG1T4Ixt3HWDK2ytYtGEXJ3dowoPje5NuBeyMMSFkScEtuUt8DojTbVSOo4VFXPTcV+QdKuCv5/Vi4kltrYCdMSbkLCm4IWsG7N9W+ljd5n7HEX7YsZ92ngJ2D5/vFLBr1dDqFRljwsOmsQRbTibM9VO2om1GqadHjhbx2MffMeKxL3hp0UYATu7Q1BKCMSasrKUQLMUrl/NyKVshXErVN1qas5dbZy5n3bZ9jOvbmnNPbBPSUI0xpjyWFIKhwpXLAmMeK+k6en7Bj/zlvdU0r5/M85MyGN7NCtgZYyKHJYVg+Piu8hNCxmTImFxSkqJv24ZMHJDGlJFdaZBs00yNMZHFkkJ1Zc3wUw5bQBIgsSYHup3P/bNWkFwjgbvO6UH/dk3o384K2BljIpMlheoob1C53SnQ6UyWaA+ue/MgO/bt4aohVsDOGBP5LCkcr5xM+PwB/A0q5w2+gz9/XZc5y7bQtWUdpl2aQZ+2jcIRpTHGVIklheORNQPeuxG0yOcFZ1B5T5MT+WzdAm48swvXDu1oBeyMMVHDkkJV5GTCstc8m+WUbiEowspW4+nZfxLpIiycMswGko0xUceSQiCKk8HXL5WZZVScGvK1Bn/N7csDuw6SnlLXEoIxJipZUqhMTia8MAqKCsq8pEAR8PrR4Xzfagz/N3EiaU3rhDxEY4wJFksKlVn2erkJoZAE7udKuo/7A3dnpNrMImNM1LOkUJ5S4wfHKEBCEtLvMr5rNppru51KiwbJ4YjQGGOCzpKCP+WUrVBgfmEv8jL+xDljzqV7eKIzxhjX2FxJXzmZMOc6vwmhUBP4tsM1nHrGqPDEZowxLrOWgjc/g8rq+U+hJLB+wL1cP/qSsIVnjDFus6QApcteexKCAsXDxtuT06l3/tN07TgobCEaY0woWFLwWZ1cpmhFQhItLnnO765pxhgTa+J7TKG4oJ1PQhCgCEE7DIPLP7CEYIyJG/HdUvj4Lkq1DRSKJIEEERITa8IZt1lCMMbElfhNCjmZpfZBUAABHf0wkr8H0k+zhGCMiTuuJgURGQE8DiQC/1LVB31erwW8BPQHdgEXqGq2mzEVy1vzGQ04NpgMIO0GkXTSFaG4vDHGRCTXxhREJBF4ChgJdAcuFBHf9V6/BvaoaifgUeD/3IqnWFGR8vKibB5ZsAPUaxxBEuHMe9y+vDHGRDQ3WwoDgPWqugFARN4AxgGrvc4ZB9zteTwTeFJERFV9JwFVX9YMDiybxct7+/C/nU34d63nj7USJAFGP2LdRcaYuOdmUmgD5Hg9zwUGlneOqh4VkTygKbAzqJFkzUDnXk8d4DfM44o69Ugs9NogRxUO7QrqJY0xJhq5OSXVX8nQsntXVn4OInK1iGSJSNaOHTuqHsmadxGvi9XkiM8FEpyBZWOMiXNuJoVcoK3X81RgS3nniEgS0BDY7ftGqjpNVTNUNaNZs2ZVj6TbuJKHAnDybyGxpudAonUdGWOMh5vdR0uAziLSHtgMTAQu8jlnDjAJWARMAD51ZTwhY7Lz+5p3nQSRMRm6jnZKW9jUU2OMKeFaUvCMEVwHfIgzJXW6qq4SkXuBLFWdAzwPvCwi63FaCBPdioeMyceSAziJwJKBMcaU4uo6BVV9H3jf59idXo/zgV+5GYMxxpjAxXftI2OMMaVYUjDGGFPCkoIxxpgSlhSMMcaUsKRgjDGmhLixLMBNIrID2HicP55CsEtoRD675/hg9xwfqnPP7VS10tW/UZcUqkNEslQ1I9xxhJLdc3ywe44Pobhn6z4yxhhTwpKCMcaYEvGWFKaFO4AwsHuOD3bP8cH1e46rMQVjjDEVi7eWgjHGmArEZFIQkREisk5E1ovIFD+v1xKRNz2vfyUi6aGPMrgCuOebRGS1iCwXkU9EpF044gymyu7Z67wJIqIiEvUzVQK5ZxE53/N3vUpEXgt1jMEWwL/tNBH5TES+9fz7HhWOOINFRKaLyHYRWVnO6yIiT3j+PJaLSL+gBqCqMfULp0z3D0AHoCawDOjuc85vgWc8jycCb4Y77hDc8xlAHc/ja+Phnj3n1Qe+ABYDGeGOOwR/z52Bb4HGnufNwx13CO55GnCt53F3IDvccVfznocA/YCV5bw+CvgAZ8+wk4Gvgnn9WGwpDADWq+oGVT0CvAGM8zlnHPCi5/FMYLiI+NsaNFpUes+q+pmqHvQ8XYyzE140C+TvGeA+4CEgP5TBuSSQe74KeEpV9wCo6vYQxxhsgdyzAg08jxtSdofHqKKqX+BnB0ov44CX1LEYaCQirYJ1/VhMCm2AHK/nuZ5jfs9R1aNAHtA0JNG5I5B79vZrnG8a0azSexaRE4G2qjo3lIG5KJC/5y5AFxFZKCKLRWREyKJzRyD3fDdwiYjk4uzf8vvQhBY2Vf3/vUpc3WQnTPx94/edYhXIOdEk4PsRkUuADOB0VyNyX4X3LCIJwKPA5FAFFAKB/D0n4XQhDcVpDc4XkZ6qutfl2NwSyD1fCMxQ1YdF5BSc3Rx7qmqR++GFhaufX7HYUsgF2no9T6Vsc7LkHBFJwmlyVtRci3SB3DMiciZwBzBWVQ+HKDa3VHbP9YGewOciko3T9zonygebA/23/a6qFqjqj8A6nCQRrQK5518DbwGo6iIgGadGUKwK6P/34xWLSWEJ0FlE2otITZyB5Dk+58wBJnkeTwA+Vc8ITpSq9J49XSnP4iSEaO9nhkruWVXzVDVFVdNVNR1nHGWsqmaFJ9ygCOTf9js4kwoQkRSc7qQNIY0yuAK5503AcAAR6YaTFHaENMrQmgNc5pmFdDKQp6o/BevNY677SFWPish1wIc4Mxemq+oqEbkXyFLVOcDzOE3M9TgthInhi7j6ArznvwH1gH97xtQ3qerYsAVdTQHec0wJ8J4/BM4SkdVAIXCzqu4KX9TVE+A9/xF4TkRuxOlGmRzNX/JE5HWc7r8UzzjJXUANAFV9BmfcZBSwHjgIXB7U60fxn50xxpggi8XuI2OMMcfJkoIxxpgSlhSMMcaUsKRgjDGmhCUFY4wxJSwpmIgjIoUistTrV3oF56aXV02yitf83FOJc5mnRMQJx/Ee14jIZZ7Hk0Wktddr/xKR7kGOc4mI9A3gZ24QkTrVvbaJD5YUTCQ6pKp9vX5lh+i6F6tqH5xiiX+r6g+r6jOq+pLn6WSgtddrV6rq6qBEeSzOfxJYnDcAlhRMQCwpmKjgaRHMF5FvPL8G+Tmnh4hkeloXy0Wks+f4JV7HnxWRxEou9wXQyfOzwz11+ld46tzX8hx/UI7tT/F3z7G7ReRPIjIBp77Uq55r1vZ8w88QkWtF5CGvmCeLyD+OM85FeBVCE5GnRSRLnH0U7vEc+wNOcvpMRD7zHDtLRBZ5/hz/LSL1KrmOiSOWFEwkqu3VdTTbc2w78AtV7QdcADzh5+euAR5X1b44H8q5nrIHFwCDPccLgYsruf45wAoRSQZmABeoai+cCgDXikgT4Dygh6r2Bu73/mFVnQlk4Xyj76uqh7xengmM93p+AfDmccY5AqesRbE7VDUD6A2cLiK9VfUJnLo4Z6jqGZ7SF1OBMz1/llnATZVcx8SRmCtzYWLCIc8Ho7cawJOePvRCnJo+vhYBd4hIKjBLVb8XkeFAf2CJp7xHbZwE48+rInIIyMYpv3wC8KOqfud5/UXgd8CTOPsz/EtE3gMCLs2tqjtEZIOnZs33nmss9LxvVeKsi1P2wXvXrfNF5Gqc/69b4Ww4s9znZ0/2HF/ouU5NnD83YwBLCiZ63AhsA/rgtHDLbJqjqq+JyFfAaOBDEbkSp8zwi6p6WwDXuNi7YJ6I+N1jw1OPZwBOEbaJwHXAsCrcy5vA+cBaYLaqqjif0AHHibMD2YPAU8B4EWkP/Ak4SVX3iMgMnMJwvgT4SFUvrEK8Jo5Y95GJFg2Bnzw18i/F+ZZcioh0ADZ4ukzm4HSjfAJMEJHmnnOaSOD7U68F0kWkk+f5pcA8Tx98Q1V9H2cQ198MoH045bv9mQWci7MPwJueY1WKU1ULcLqBTvZ0PTUADgB5ItICGFlOLIuBwcX3JCJ1RMRfq8vEKUsKJlr8E5gkIotxuo4O+DnnAmCliCwFuuJsWbga58PzfyKyHPgIp2ulUqqaj1OB8t8isgIoAp7B+YCd63m/eTitGF8zgGeKB5p93ncPsBpop6qZnmNVjtMzVvEw8CdVXYazN/MqYDpOl1SxacAHIvKZqu7AmRn1uuc6i3H+rIwBrEqqMcYYL9ZSMMYYU8KSgjHGmBKWFIwxxpSwpGCMMaaEJQVjjDElLCkYY4wpYUnBGGNMCUsKxhhjSvw/hbqYYY9gPtsAAAAASUVORK5CYII=",
      "text/plain": [
       "<Figure size 432x288 with 1 Axes>"
      ]
     },
     "metadata": {
      "needs_background": "light"
     },
     "output_type": "display_data"
    },
    {
     "name": "stderr",
     "output_type": "stream",
     "text": [
      "100%|██████████| 8/8 [06:33<00:00, 49.16s/it]\n"
     ]
    },
    {
     "data": {
      "image/png": "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",
      "text/plain": [
       "<Figure size 432x288 with 1 Axes>"
      ]
     },
     "metadata": {
      "needs_background": "light"
     },
     "output_type": "display_data"
    }
   ],
   "source": [
    "del_in_x = [3, 8, 9, 10, 11, 12, 15, 16]\n",
    "# clf_xgb = xgb.XGBClassifier(n_jobs=-1, random_state=1)\n",
    "clf_xgb = LogisticRegression(class_weight='balanced')\n",
    "dic = {}\n",
    "for d in tqdm(del_in_x):\n",
    "    X_train, y_train = dss(start, end, 'Анапа', st, df, d)\n",
    "    X_test, y_test = dss(start, end, 'Туапсе', st, df, d) #160\n",
    "    clf_xgb.fit(X_train, y_train)\n",
    "    dic[d] = metrics(clf_xgb, X_test, y_test)\n",
    "ac_temp, pr_temp, re_temp, f_temp = [], [], [], []\n",
    "for h in del_in_x:\n",
    "    ac_temp.append(dic[h][0])\n",
    "    pr_temp.append(dic[h][1])\n",
    "    re_temp.append(dic[h][2])\n",
    "    f_temp.append(dic[h][3])\n",
    "\n",
    "fig, ax = plt.subplots()\n",
    "plt.title('Model performance from delta in X', fontsize=14)\n",
    "ax.plot(del_in_x,ac_temp, label='accuracy')\n",
    "ax.plot(del_in_x,pr_temp, label='recall')\n",
    "ax.plot(del_in_x,re_temp, label='precision')\n",
    "ax.plot(del_in_x,f_temp, label='f1-score')\n",
    "plt.xlabel('delta in X')\n",
    "plt.legend()\n",
    "plt.show()"
   ]
  },
  {
   "cell_type": "code",
   "execution_count": 134,
   "metadata": {},
   "outputs": [
    {
     "name": "stdout",
     "output_type": "stream",
     "text": [
      "2\n",
      "1\n",
      "-1\n",
      "1\n",
      "1\n",
      "-3\n"
     ]
    }
   ],
   "source": [
    "# Maybe delete el?\n",
    "Xs = [X_an, X_ar, X_kr, X_so, X_tu, X_pr]\n",
    "for i in Xs:\n",
    "    print(i['el'][0])"
   ]
  },
  {
   "cell_type": "markdown",
   "metadata": {},
   "source": [
    "### Road to make_ds()\n",
    "Not Relevant!!!"
   ]
  },
  {
   "cell_type": "code",
   "execution_count": 95,
   "metadata": {},
   "outputs": [
    {
     "data": {
      "text/html": [
       "<div>\n",
       "<style scoped>\n",
       "    .dataframe tbody tr th:only-of-type {\n",
       "        vertical-align: middle;\n",
       "    }\n",
       "\n",
       "    .dataframe tbody tr th {\n",
       "        vertical-align: top;\n",
       "    }\n",
       "\n",
       "    .dataframe thead th {\n",
       "        text-align: right;\n",
       "    }\n",
       "</style>\n",
       "<table border=\"1\" class=\"dataframe\">\n",
       "  <thead>\n",
       "    <tr style=\"text-align: right;\">\n",
       "      <th></th>\n",
       "      <th>tasmax</th>\n",
       "      <th>tasmin</th>\n",
       "      <th>pr</th>\n",
       "      <th>el</th>\n",
       "    </tr>\n",
       "    <tr>\n",
       "      <th>Date</th>\n",
       "      <th></th>\n",
       "      <th></th>\n",
       "      <th></th>\n",
       "      <th></th>\n",
       "    </tr>\n",
       "  </thead>\n",
       "  <tbody>\n",
       "    <tr>\n",
       "      <th>2006-01-01</th>\n",
       "      <td>-7.827826</td>\n",
       "      <td>-16.242804</td>\n",
       "      <td>0.000031</td>\n",
       "      <td>1</td>\n",
       "    </tr>\n",
       "    <tr>\n",
       "      <th>2006-01-02</th>\n",
       "      <td>-8.439062</td>\n",
       "      <td>-18.564719</td>\n",
       "      <td>0.000017</td>\n",
       "      <td>1</td>\n",
       "    </tr>\n",
       "    <tr>\n",
       "      <th>2006-01-03</th>\n",
       "      <td>-6.218634</td>\n",
       "      <td>-10.958533</td>\n",
       "      <td>0.000054</td>\n",
       "      <td>1</td>\n",
       "    </tr>\n",
       "    <tr>\n",
       "      <th>2006-01-04</th>\n",
       "      <td>-6.579840</td>\n",
       "      <td>-12.962500</td>\n",
       "      <td>0.000127</td>\n",
       "      <td>1</td>\n",
       "    </tr>\n",
       "    <tr>\n",
       "      <th>2006-01-05</th>\n",
       "      <td>-8.012976</td>\n",
       "      <td>-16.020453</td>\n",
       "      <td>0.000059</td>\n",
       "      <td>1</td>\n",
       "    </tr>\n",
       "    <tr>\n",
       "      <th>...</th>\n",
       "      <td>...</td>\n",
       "      <td>...</td>\n",
       "      <td>...</td>\n",
       "      <td>...</td>\n",
       "    </tr>\n",
       "    <tr>\n",
       "      <th>2019-12-28</th>\n",
       "      <td>-10.246649</td>\n",
       "      <td>-17.065436</td>\n",
       "      <td>0.000017</td>\n",
       "      <td>1</td>\n",
       "    </tr>\n",
       "    <tr>\n",
       "      <th>2019-12-29</th>\n",
       "      <td>-11.044684</td>\n",
       "      <td>-15.441351</td>\n",
       "      <td>0.000040</td>\n",
       "      <td>1</td>\n",
       "    </tr>\n",
       "    <tr>\n",
       "      <th>2019-12-30</th>\n",
       "      <td>-11.974280</td>\n",
       "      <td>-18.038931</td>\n",
       "      <td>0.000012</td>\n",
       "      <td>1</td>\n",
       "    </tr>\n",
       "    <tr>\n",
       "      <th>2019-12-31</th>\n",
       "      <td>-11.674353</td>\n",
       "      <td>-20.645544</td>\n",
       "      <td>0.000003</td>\n",
       "      <td>1</td>\n",
       "    </tr>\n",
       "    <tr>\n",
       "      <th>2020-01-01</th>\n",
       "      <td>-10.145941</td>\n",
       "      <td>-20.869589</td>\n",
       "      <td>0.000000</td>\n",
       "      <td>1</td>\n",
       "    </tr>\n",
       "  </tbody>\n",
       "</table>\n",
       "<p>5114 rows × 4 columns</p>\n",
       "</div>"
      ],
      "text/plain": [
       "               tasmax     tasmin        pr  el\n",
       "Date                                          \n",
       "2006-01-01  -7.827826 -16.242804  0.000031   1\n",
       "2006-01-02  -8.439062 -18.564719  0.000017   1\n",
       "2006-01-03  -6.218634 -10.958533  0.000054   1\n",
       "2006-01-04  -6.579840 -12.962500  0.000127   1\n",
       "2006-01-05  -8.012976 -16.020453  0.000059   1\n",
       "...               ...        ...       ...  ..\n",
       "2019-12-28 -10.246649 -17.065436  0.000017   1\n",
       "2019-12-29 -11.044684 -15.441351  0.000040   1\n",
       "2019-12-30 -11.974280 -18.038931  0.000012   1\n",
       "2019-12-31 -11.674353 -20.645544  0.000003   1\n",
       "2020-01-01 -10.145941 -20.869589  0.000000   1\n",
       "\n",
       "[5114 rows x 4 columns]"
      ]
     },
     "execution_count": 95,
     "metadata": {},
     "output_type": "execute_result"
    }
   ],
   "source": [
    "start = '2006-01-01'\n",
    "end = '2020-01-01'\n",
    "a = make_model_dataset(station_name = 'Туапсе', start_date = start, end_date = end, station_list = st)\n",
    "a.insert(loc=0, column='day', value=a.index)\n",
    "a['day'] = a['day'].dt.dayofyear\n",
    "\n",
    "enc = OneHotEncoder()\n",
    "enc.fit(np.array(a.day).reshape(-1, 1))\n",
    "a.drop('day', axis=1, inplace=True)\n",
    "a"
   ]
  },
  {
   "cell_type": "code",
   "execution_count": 96,
   "metadata": {},
   "outputs": [
    {
     "data": {
      "text/html": [
       "<div>\n",
       "<style scoped>\n",
       "    .dataframe tbody tr th:only-of-type {\n",
       "        vertical-align: middle;\n",
       "    }\n",
       "\n",
       "    .dataframe tbody tr th {\n",
       "        vertical-align: top;\n",
       "    }\n",
       "\n",
       "    .dataframe thead th {\n",
       "        text-align: right;\n",
       "    }\n",
       "</style>\n",
       "<table border=\"1\" class=\"dataframe\">\n",
       "  <thead>\n",
       "    <tr style=\"text-align: right;\">\n",
       "      <th></th>\n",
       "      <th>0</th>\n",
       "      <th>1</th>\n",
       "      <th>2</th>\n",
       "      <th>3</th>\n",
       "      <th>4</th>\n",
       "      <th>5</th>\n",
       "      <th>6</th>\n",
       "      <th>7</th>\n",
       "      <th>8</th>\n",
       "      <th>9</th>\n",
       "      <th>...</th>\n",
       "      <th>356</th>\n",
       "      <th>357</th>\n",
       "      <th>358</th>\n",
       "      <th>359</th>\n",
       "      <th>360</th>\n",
       "      <th>361</th>\n",
       "      <th>362</th>\n",
       "      <th>363</th>\n",
       "      <th>364</th>\n",
       "      <th>365</th>\n",
       "    </tr>\n",
       "  </thead>\n",
       "  <tbody>\n",
       "    <tr>\n",
       "      <th>0</th>\n",
       "      <td>1.0</td>\n",
       "      <td>0.0</td>\n",
       "      <td>0.0</td>\n",
       "      <td>0.0</td>\n",
       "      <td>0.0</td>\n",
       "      <td>0.0</td>\n",
       "      <td>0.0</td>\n",
       "      <td>0.0</td>\n",
       "      <td>0.0</td>\n",
       "      <td>0.0</td>\n",
       "      <td>...</td>\n",
       "      <td>0.0</td>\n",
       "      <td>0.0</td>\n",
       "      <td>0.0</td>\n",
       "      <td>0.0</td>\n",
       "      <td>0.0</td>\n",
       "      <td>0.0</td>\n",
       "      <td>0.0</td>\n",
       "      <td>0.0</td>\n",
       "      <td>0.0</td>\n",
       "      <td>0.0</td>\n",
       "    </tr>\n",
       "    <tr>\n",
       "      <th>1</th>\n",
       "      <td>0.0</td>\n",
       "      <td>1.0</td>\n",
       "      <td>0.0</td>\n",
       "      <td>0.0</td>\n",
       "      <td>0.0</td>\n",
       "      <td>0.0</td>\n",
       "      <td>0.0</td>\n",
       "      <td>0.0</td>\n",
       "      <td>0.0</td>\n",
       "      <td>0.0</td>\n",
       "      <td>...</td>\n",
       "      <td>0.0</td>\n",
       "      <td>0.0</td>\n",
       "      <td>0.0</td>\n",
       "      <td>0.0</td>\n",
       "      <td>0.0</td>\n",
       "      <td>0.0</td>\n",
       "      <td>0.0</td>\n",
       "      <td>0.0</td>\n",
       "      <td>0.0</td>\n",
       "      <td>0.0</td>\n",
       "    </tr>\n",
       "    <tr>\n",
       "      <th>2</th>\n",
       "      <td>0.0</td>\n",
       "      <td>0.0</td>\n",
       "      <td>1.0</td>\n",
       "      <td>0.0</td>\n",
       "      <td>0.0</td>\n",
       "      <td>0.0</td>\n",
       "      <td>0.0</td>\n",
       "      <td>0.0</td>\n",
       "      <td>0.0</td>\n",
       "      <td>0.0</td>\n",
       "      <td>...</td>\n",
       "      <td>0.0</td>\n",
       "      <td>0.0</td>\n",
       "      <td>0.0</td>\n",
       "      <td>0.0</td>\n",
       "      <td>0.0</td>\n",
       "      <td>0.0</td>\n",
       "      <td>0.0</td>\n",
       "      <td>0.0</td>\n",
       "      <td>0.0</td>\n",
       "      <td>0.0</td>\n",
       "    </tr>\n",
       "    <tr>\n",
       "      <th>3</th>\n",
       "      <td>0.0</td>\n",
       "      <td>0.0</td>\n",
       "      <td>0.0</td>\n",
       "      <td>1.0</td>\n",
       "      <td>0.0</td>\n",
       "      <td>0.0</td>\n",
       "      <td>0.0</td>\n",
       "      <td>0.0</td>\n",
       "      <td>0.0</td>\n",
       "      <td>0.0</td>\n",
       "      <td>...</td>\n",
       "      <td>0.0</td>\n",
       "      <td>0.0</td>\n",
       "      <td>0.0</td>\n",
       "      <td>0.0</td>\n",
       "      <td>0.0</td>\n",
       "      <td>0.0</td>\n",
       "      <td>0.0</td>\n",
       "      <td>0.0</td>\n",
       "      <td>0.0</td>\n",
       "      <td>0.0</td>\n",
       "    </tr>\n",
       "    <tr>\n",
       "      <th>4</th>\n",
       "      <td>0.0</td>\n",
       "      <td>0.0</td>\n",
       "      <td>0.0</td>\n",
       "      <td>0.0</td>\n",
       "      <td>1.0</td>\n",
       "      <td>0.0</td>\n",
       "      <td>0.0</td>\n",
       "      <td>0.0</td>\n",
       "      <td>0.0</td>\n",
       "      <td>0.0</td>\n",
       "      <td>...</td>\n",
       "      <td>0.0</td>\n",
       "      <td>0.0</td>\n",
       "      <td>0.0</td>\n",
       "      <td>0.0</td>\n",
       "      <td>0.0</td>\n",
       "      <td>0.0</td>\n",
       "      <td>0.0</td>\n",
       "      <td>0.0</td>\n",
       "      <td>0.0</td>\n",
       "      <td>0.0</td>\n",
       "    </tr>\n",
       "    <tr>\n",
       "      <th>...</th>\n",
       "      <td>...</td>\n",
       "      <td>...</td>\n",
       "      <td>...</td>\n",
       "      <td>...</td>\n",
       "      <td>...</td>\n",
       "      <td>...</td>\n",
       "      <td>...</td>\n",
       "      <td>...</td>\n",
       "      <td>...</td>\n",
       "      <td>...</td>\n",
       "      <td>...</td>\n",
       "      <td>...</td>\n",
       "      <td>...</td>\n",
       "      <td>...</td>\n",
       "      <td>...</td>\n",
       "      <td>...</td>\n",
       "      <td>...</td>\n",
       "      <td>...</td>\n",
       "      <td>...</td>\n",
       "      <td>...</td>\n",
       "      <td>...</td>\n",
       "    </tr>\n",
       "    <tr>\n",
       "      <th>5109</th>\n",
       "      <td>0.0</td>\n",
       "      <td>0.0</td>\n",
       "      <td>0.0</td>\n",
       "      <td>0.0</td>\n",
       "      <td>0.0</td>\n",
       "      <td>0.0</td>\n",
       "      <td>0.0</td>\n",
       "      <td>0.0</td>\n",
       "      <td>0.0</td>\n",
       "      <td>0.0</td>\n",
       "      <td>...</td>\n",
       "      <td>0.0</td>\n",
       "      <td>0.0</td>\n",
       "      <td>0.0</td>\n",
       "      <td>0.0</td>\n",
       "      <td>0.0</td>\n",
       "      <td>1.0</td>\n",
       "      <td>0.0</td>\n",
       "      <td>0.0</td>\n",
       "      <td>0.0</td>\n",
       "      <td>0.0</td>\n",
       "    </tr>\n",
       "    <tr>\n",
       "      <th>5110</th>\n",
       "      <td>0.0</td>\n",
       "      <td>0.0</td>\n",
       "      <td>0.0</td>\n",
       "      <td>0.0</td>\n",
       "      <td>0.0</td>\n",
       "      <td>0.0</td>\n",
       "      <td>0.0</td>\n",
       "      <td>0.0</td>\n",
       "      <td>0.0</td>\n",
       "      <td>0.0</td>\n",
       "      <td>...</td>\n",
       "      <td>0.0</td>\n",
       "      <td>0.0</td>\n",
       "      <td>0.0</td>\n",
       "      <td>0.0</td>\n",
       "      <td>0.0</td>\n",
       "      <td>0.0</td>\n",
       "      <td>1.0</td>\n",
       "      <td>0.0</td>\n",
       "      <td>0.0</td>\n",
       "      <td>0.0</td>\n",
       "    </tr>\n",
       "    <tr>\n",
       "      <th>5111</th>\n",
       "      <td>0.0</td>\n",
       "      <td>0.0</td>\n",
       "      <td>0.0</td>\n",
       "      <td>0.0</td>\n",
       "      <td>0.0</td>\n",
       "      <td>0.0</td>\n",
       "      <td>0.0</td>\n",
       "      <td>0.0</td>\n",
       "      <td>0.0</td>\n",
       "      <td>0.0</td>\n",
       "      <td>...</td>\n",
       "      <td>0.0</td>\n",
       "      <td>0.0</td>\n",
       "      <td>0.0</td>\n",
       "      <td>0.0</td>\n",
       "      <td>0.0</td>\n",
       "      <td>0.0</td>\n",
       "      <td>0.0</td>\n",
       "      <td>1.0</td>\n",
       "      <td>0.0</td>\n",
       "      <td>0.0</td>\n",
       "    </tr>\n",
       "    <tr>\n",
       "      <th>5112</th>\n",
       "      <td>0.0</td>\n",
       "      <td>0.0</td>\n",
       "      <td>0.0</td>\n",
       "      <td>0.0</td>\n",
       "      <td>0.0</td>\n",
       "      <td>0.0</td>\n",
       "      <td>0.0</td>\n",
       "      <td>0.0</td>\n",
       "      <td>0.0</td>\n",
       "      <td>0.0</td>\n",
       "      <td>...</td>\n",
       "      <td>0.0</td>\n",
       "      <td>0.0</td>\n",
       "      <td>0.0</td>\n",
       "      <td>0.0</td>\n",
       "      <td>0.0</td>\n",
       "      <td>0.0</td>\n",
       "      <td>0.0</td>\n",
       "      <td>0.0</td>\n",
       "      <td>1.0</td>\n",
       "      <td>0.0</td>\n",
       "    </tr>\n",
       "    <tr>\n",
       "      <th>5113</th>\n",
       "      <td>1.0</td>\n",
       "      <td>0.0</td>\n",
       "      <td>0.0</td>\n",
       "      <td>0.0</td>\n",
       "      <td>0.0</td>\n",
       "      <td>0.0</td>\n",
       "      <td>0.0</td>\n",
       "      <td>0.0</td>\n",
       "      <td>0.0</td>\n",
       "      <td>0.0</td>\n",
       "      <td>...</td>\n",
       "      <td>0.0</td>\n",
       "      <td>0.0</td>\n",
       "      <td>0.0</td>\n",
       "      <td>0.0</td>\n",
       "      <td>0.0</td>\n",
       "      <td>0.0</td>\n",
       "      <td>0.0</td>\n",
       "      <td>0.0</td>\n",
       "      <td>0.0</td>\n",
       "      <td>0.0</td>\n",
       "    </tr>\n",
       "  </tbody>\n",
       "</table>\n",
       "<p>5114 rows × 366 columns</p>\n",
       "</div>"
      ],
      "text/plain": [
       "      0    1    2    3    4    5    6    7    8    9    ...  356  357  358  \\\n",
       "0     1.0  0.0  0.0  0.0  0.0  0.0  0.0  0.0  0.0  0.0  ...  0.0  0.0  0.0   \n",
       "1     0.0  1.0  0.0  0.0  0.0  0.0  0.0  0.0  0.0  0.0  ...  0.0  0.0  0.0   \n",
       "2     0.0  0.0  1.0  0.0  0.0  0.0  0.0  0.0  0.0  0.0  ...  0.0  0.0  0.0   \n",
       "3     0.0  0.0  0.0  1.0  0.0  0.0  0.0  0.0  0.0  0.0  ...  0.0  0.0  0.0   \n",
       "4     0.0  0.0  0.0  0.0  1.0  0.0  0.0  0.0  0.0  0.0  ...  0.0  0.0  0.0   \n",
       "...   ...  ...  ...  ...  ...  ...  ...  ...  ...  ...  ...  ...  ...  ...   \n",
       "5109  0.0  0.0  0.0  0.0  0.0  0.0  0.0  0.0  0.0  0.0  ...  0.0  0.0  0.0   \n",
       "5110  0.0  0.0  0.0  0.0  0.0  0.0  0.0  0.0  0.0  0.0  ...  0.0  0.0  0.0   \n",
       "5111  0.0  0.0  0.0  0.0  0.0  0.0  0.0  0.0  0.0  0.0  ...  0.0  0.0  0.0   \n",
       "5112  0.0  0.0  0.0  0.0  0.0  0.0  0.0  0.0  0.0  0.0  ...  0.0  0.0  0.0   \n",
       "5113  1.0  0.0  0.0  0.0  0.0  0.0  0.0  0.0  0.0  0.0  ...  0.0  0.0  0.0   \n",
       "\n",
       "      359  360  361  362  363  364  365  \n",
       "0     0.0  0.0  0.0  0.0  0.0  0.0  0.0  \n",
       "1     0.0  0.0  0.0  0.0  0.0  0.0  0.0  \n",
       "2     0.0  0.0  0.0  0.0  0.0  0.0  0.0  \n",
       "3     0.0  0.0  0.0  0.0  0.0  0.0  0.0  \n",
       "4     0.0  0.0  0.0  0.0  0.0  0.0  0.0  \n",
       "...   ...  ...  ...  ...  ...  ...  ...  \n",
       "5109  0.0  0.0  1.0  0.0  0.0  0.0  0.0  \n",
       "5110  0.0  0.0  0.0  1.0  0.0  0.0  0.0  \n",
       "5111  0.0  0.0  0.0  0.0  1.0  0.0  0.0  \n",
       "5112  0.0  0.0  0.0  0.0  0.0  1.0  0.0  \n",
       "5113  0.0  0.0  0.0  0.0  0.0  0.0  0.0  \n",
       "\n",
       "[5114 rows x 366 columns]"
      ]
     },
     "execution_count": 96,
     "metadata": {},
     "output_type": "execute_result"
    }
   ],
   "source": [
    "lis = [[enc.transform(np.atleast_2d(a.iloc[i].name.dayofyear)).toarray()] for i in range(a.shape[0])]\n",
    "ohe_day = pd.DataFrame(np.array(lis).reshape(np.array(lis).shape[0], -1))\n",
    "ohe_day"
   ]
  },
  {
   "cell_type": "code",
   "execution_count": 97,
   "metadata": {},
   "outputs": [
    {
     "data": {
      "text/html": [
       "<div>\n",
       "<style scoped>\n",
       "    .dataframe tbody tr th:only-of-type {\n",
       "        vertical-align: middle;\n",
       "    }\n",
       "\n",
       "    .dataframe tbody tr th {\n",
       "        vertical-align: top;\n",
       "    }\n",
       "\n",
       "    .dataframe thead th {\n",
       "        text-align: right;\n",
       "    }\n",
       "</style>\n",
       "<table border=\"1\" class=\"dataframe\">\n",
       "  <thead>\n",
       "    <tr style=\"text-align: right;\">\n",
       "      <th></th>\n",
       "      <th>tasmax</th>\n",
       "      <th>tasmin</th>\n",
       "      <th>pr</th>\n",
       "      <th>el</th>\n",
       "      <th>0</th>\n",
       "      <th>1</th>\n",
       "      <th>2</th>\n",
       "      <th>3</th>\n",
       "      <th>4</th>\n",
       "      <th>5</th>\n",
       "      <th>...</th>\n",
       "      <th>356</th>\n",
       "      <th>357</th>\n",
       "      <th>358</th>\n",
       "      <th>359</th>\n",
       "      <th>360</th>\n",
       "      <th>361</th>\n",
       "      <th>362</th>\n",
       "      <th>363</th>\n",
       "      <th>364</th>\n",
       "      <th>365</th>\n",
       "    </tr>\n",
       "    <tr>\n",
       "      <th>Date</th>\n",
       "      <th></th>\n",
       "      <th></th>\n",
       "      <th></th>\n",
       "      <th></th>\n",
       "      <th></th>\n",
       "      <th></th>\n",
       "      <th></th>\n",
       "      <th></th>\n",
       "      <th></th>\n",
       "      <th></th>\n",
       "      <th></th>\n",
       "      <th></th>\n",
       "      <th></th>\n",
       "      <th></th>\n",
       "      <th></th>\n",
       "      <th></th>\n",
       "      <th></th>\n",
       "      <th></th>\n",
       "      <th></th>\n",
       "      <th></th>\n",
       "      <th></th>\n",
       "    </tr>\n",
       "  </thead>\n",
       "  <tbody>\n",
       "    <tr>\n",
       "      <th>2006-01-01</th>\n",
       "      <td>-7.827826</td>\n",
       "      <td>-16.242804</td>\n",
       "      <td>0.000031</td>\n",
       "      <td>1</td>\n",
       "      <td>1.0</td>\n",
       "      <td>0.0</td>\n",
       "      <td>0.0</td>\n",
       "      <td>0.0</td>\n",
       "      <td>0.0</td>\n",
       "      <td>0.0</td>\n",
       "      <td>...</td>\n",
       "      <td>0.0</td>\n",
       "      <td>0.0</td>\n",
       "      <td>0.0</td>\n",
       "      <td>0.0</td>\n",
       "      <td>0.0</td>\n",
       "      <td>0.0</td>\n",
       "      <td>0.0</td>\n",
       "      <td>0.0</td>\n",
       "      <td>0.0</td>\n",
       "      <td>0.0</td>\n",
       "    </tr>\n",
       "    <tr>\n",
       "      <th>2006-01-02</th>\n",
       "      <td>-8.439062</td>\n",
       "      <td>-18.564719</td>\n",
       "      <td>0.000017</td>\n",
       "      <td>1</td>\n",
       "      <td>0.0</td>\n",
       "      <td>1.0</td>\n",
       "      <td>0.0</td>\n",
       "      <td>0.0</td>\n",
       "      <td>0.0</td>\n",
       "      <td>0.0</td>\n",
       "      <td>...</td>\n",
       "      <td>0.0</td>\n",
       "      <td>0.0</td>\n",
       "      <td>0.0</td>\n",
       "      <td>0.0</td>\n",
       "      <td>0.0</td>\n",
       "      <td>0.0</td>\n",
       "      <td>0.0</td>\n",
       "      <td>0.0</td>\n",
       "      <td>0.0</td>\n",
       "      <td>0.0</td>\n",
       "    </tr>\n",
       "    <tr>\n",
       "      <th>2006-01-03</th>\n",
       "      <td>-6.218634</td>\n",
       "      <td>-10.958533</td>\n",
       "      <td>0.000054</td>\n",
       "      <td>1</td>\n",
       "      <td>0.0</td>\n",
       "      <td>0.0</td>\n",
       "      <td>1.0</td>\n",
       "      <td>0.0</td>\n",
       "      <td>0.0</td>\n",
       "      <td>0.0</td>\n",
       "      <td>...</td>\n",
       "      <td>0.0</td>\n",
       "      <td>0.0</td>\n",
       "      <td>0.0</td>\n",
       "      <td>0.0</td>\n",
       "      <td>0.0</td>\n",
       "      <td>0.0</td>\n",
       "      <td>0.0</td>\n",
       "      <td>0.0</td>\n",
       "      <td>0.0</td>\n",
       "      <td>0.0</td>\n",
       "    </tr>\n",
       "    <tr>\n",
       "      <th>2006-01-04</th>\n",
       "      <td>-6.579840</td>\n",
       "      <td>-12.962500</td>\n",
       "      <td>0.000127</td>\n",
       "      <td>1</td>\n",
       "      <td>0.0</td>\n",
       "      <td>0.0</td>\n",
       "      <td>0.0</td>\n",
       "      <td>1.0</td>\n",
       "      <td>0.0</td>\n",
       "      <td>0.0</td>\n",
       "      <td>...</td>\n",
       "      <td>0.0</td>\n",
       "      <td>0.0</td>\n",
       "      <td>0.0</td>\n",
       "      <td>0.0</td>\n",
       "      <td>0.0</td>\n",
       "      <td>0.0</td>\n",
       "      <td>0.0</td>\n",
       "      <td>0.0</td>\n",
       "      <td>0.0</td>\n",
       "      <td>0.0</td>\n",
       "    </tr>\n",
       "    <tr>\n",
       "      <th>2006-01-05</th>\n",
       "      <td>-8.012976</td>\n",
       "      <td>-16.020453</td>\n",
       "      <td>0.000059</td>\n",
       "      <td>1</td>\n",
       "      <td>0.0</td>\n",
       "      <td>0.0</td>\n",
       "      <td>0.0</td>\n",
       "      <td>0.0</td>\n",
       "      <td>1.0</td>\n",
       "      <td>0.0</td>\n",
       "      <td>...</td>\n",
       "      <td>0.0</td>\n",
       "      <td>0.0</td>\n",
       "      <td>0.0</td>\n",
       "      <td>0.0</td>\n",
       "      <td>0.0</td>\n",
       "      <td>0.0</td>\n",
       "      <td>0.0</td>\n",
       "      <td>0.0</td>\n",
       "      <td>0.0</td>\n",
       "      <td>0.0</td>\n",
       "    </tr>\n",
       "    <tr>\n",
       "      <th>...</th>\n",
       "      <td>...</td>\n",
       "      <td>...</td>\n",
       "      <td>...</td>\n",
       "      <td>...</td>\n",
       "      <td>...</td>\n",
       "      <td>...</td>\n",
       "      <td>...</td>\n",
       "      <td>...</td>\n",
       "      <td>...</td>\n",
       "      <td>...</td>\n",
       "      <td>...</td>\n",
       "      <td>...</td>\n",
       "      <td>...</td>\n",
       "      <td>...</td>\n",
       "      <td>...</td>\n",
       "      <td>...</td>\n",
       "      <td>...</td>\n",
       "      <td>...</td>\n",
       "      <td>...</td>\n",
       "      <td>...</td>\n",
       "      <td>...</td>\n",
       "    </tr>\n",
       "    <tr>\n",
       "      <th>2019-12-28</th>\n",
       "      <td>-10.246649</td>\n",
       "      <td>-17.065436</td>\n",
       "      <td>0.000017</td>\n",
       "      <td>1</td>\n",
       "      <td>0.0</td>\n",
       "      <td>0.0</td>\n",
       "      <td>0.0</td>\n",
       "      <td>0.0</td>\n",
       "      <td>0.0</td>\n",
       "      <td>0.0</td>\n",
       "      <td>...</td>\n",
       "      <td>0.0</td>\n",
       "      <td>0.0</td>\n",
       "      <td>0.0</td>\n",
       "      <td>0.0</td>\n",
       "      <td>0.0</td>\n",
       "      <td>1.0</td>\n",
       "      <td>0.0</td>\n",
       "      <td>0.0</td>\n",
       "      <td>0.0</td>\n",
       "      <td>0.0</td>\n",
       "    </tr>\n",
       "    <tr>\n",
       "      <th>2019-12-29</th>\n",
       "      <td>-11.044684</td>\n",
       "      <td>-15.441351</td>\n",
       "      <td>0.000040</td>\n",
       "      <td>1</td>\n",
       "      <td>0.0</td>\n",
       "      <td>0.0</td>\n",
       "      <td>0.0</td>\n",
       "      <td>0.0</td>\n",
       "      <td>0.0</td>\n",
       "      <td>0.0</td>\n",
       "      <td>...</td>\n",
       "      <td>0.0</td>\n",
       "      <td>0.0</td>\n",
       "      <td>0.0</td>\n",
       "      <td>0.0</td>\n",
       "      <td>0.0</td>\n",
       "      <td>0.0</td>\n",
       "      <td>1.0</td>\n",
       "      <td>0.0</td>\n",
       "      <td>0.0</td>\n",
       "      <td>0.0</td>\n",
       "    </tr>\n",
       "    <tr>\n",
       "      <th>2019-12-30</th>\n",
       "      <td>-11.974280</td>\n",
       "      <td>-18.038931</td>\n",
       "      <td>0.000012</td>\n",
       "      <td>1</td>\n",
       "      <td>0.0</td>\n",
       "      <td>0.0</td>\n",
       "      <td>0.0</td>\n",
       "      <td>0.0</td>\n",
       "      <td>0.0</td>\n",
       "      <td>0.0</td>\n",
       "      <td>...</td>\n",
       "      <td>0.0</td>\n",
       "      <td>0.0</td>\n",
       "      <td>0.0</td>\n",
       "      <td>0.0</td>\n",
       "      <td>0.0</td>\n",
       "      <td>0.0</td>\n",
       "      <td>0.0</td>\n",
       "      <td>1.0</td>\n",
       "      <td>0.0</td>\n",
       "      <td>0.0</td>\n",
       "    </tr>\n",
       "    <tr>\n",
       "      <th>2019-12-31</th>\n",
       "      <td>-11.674353</td>\n",
       "      <td>-20.645544</td>\n",
       "      <td>0.000003</td>\n",
       "      <td>1</td>\n",
       "      <td>0.0</td>\n",
       "      <td>0.0</td>\n",
       "      <td>0.0</td>\n",
       "      <td>0.0</td>\n",
       "      <td>0.0</td>\n",
       "      <td>0.0</td>\n",
       "      <td>...</td>\n",
       "      <td>0.0</td>\n",
       "      <td>0.0</td>\n",
       "      <td>0.0</td>\n",
       "      <td>0.0</td>\n",
       "      <td>0.0</td>\n",
       "      <td>0.0</td>\n",
       "      <td>0.0</td>\n",
       "      <td>0.0</td>\n",
       "      <td>1.0</td>\n",
       "      <td>0.0</td>\n",
       "    </tr>\n",
       "    <tr>\n",
       "      <th>2020-01-01</th>\n",
       "      <td>-10.145941</td>\n",
       "      <td>-20.869589</td>\n",
       "      <td>0.000000</td>\n",
       "      <td>1</td>\n",
       "      <td>1.0</td>\n",
       "      <td>0.0</td>\n",
       "      <td>0.0</td>\n",
       "      <td>0.0</td>\n",
       "      <td>0.0</td>\n",
       "      <td>0.0</td>\n",
       "      <td>...</td>\n",
       "      <td>0.0</td>\n",
       "      <td>0.0</td>\n",
       "      <td>0.0</td>\n",
       "      <td>0.0</td>\n",
       "      <td>0.0</td>\n",
       "      <td>0.0</td>\n",
       "      <td>0.0</td>\n",
       "      <td>0.0</td>\n",
       "      <td>0.0</td>\n",
       "      <td>0.0</td>\n",
       "    </tr>\n",
       "  </tbody>\n",
       "</table>\n",
       "<p>5114 rows × 370 columns</p>\n",
       "</div>"
      ],
      "text/plain": [
       "               tasmax     tasmin        pr  el    0    1    2    3    4    5  \\\n",
       "Date                                                                           \n",
       "2006-01-01  -7.827826 -16.242804  0.000031   1  1.0  0.0  0.0  0.0  0.0  0.0   \n",
       "2006-01-02  -8.439062 -18.564719  0.000017   1  0.0  1.0  0.0  0.0  0.0  0.0   \n",
       "2006-01-03  -6.218634 -10.958533  0.000054   1  0.0  0.0  1.0  0.0  0.0  0.0   \n",
       "2006-01-04  -6.579840 -12.962500  0.000127   1  0.0  0.0  0.0  1.0  0.0  0.0   \n",
       "2006-01-05  -8.012976 -16.020453  0.000059   1  0.0  0.0  0.0  0.0  1.0  0.0   \n",
       "...               ...        ...       ...  ..  ...  ...  ...  ...  ...  ...   \n",
       "2019-12-28 -10.246649 -17.065436  0.000017   1  0.0  0.0  0.0  0.0  0.0  0.0   \n",
       "2019-12-29 -11.044684 -15.441351  0.000040   1  0.0  0.0  0.0  0.0  0.0  0.0   \n",
       "2019-12-30 -11.974280 -18.038931  0.000012   1  0.0  0.0  0.0  0.0  0.0  0.0   \n",
       "2019-12-31 -11.674353 -20.645544  0.000003   1  0.0  0.0  0.0  0.0  0.0  0.0   \n",
       "2020-01-01 -10.145941 -20.869589  0.000000   1  1.0  0.0  0.0  0.0  0.0  0.0   \n",
       "\n",
       "            ...  356  357  358  359  360  361  362  363  364  365  \n",
       "Date        ...                                                    \n",
       "2006-01-01  ...  0.0  0.0  0.0  0.0  0.0  0.0  0.0  0.0  0.0  0.0  \n",
       "2006-01-02  ...  0.0  0.0  0.0  0.0  0.0  0.0  0.0  0.0  0.0  0.0  \n",
       "2006-01-03  ...  0.0  0.0  0.0  0.0  0.0  0.0  0.0  0.0  0.0  0.0  \n",
       "2006-01-04  ...  0.0  0.0  0.0  0.0  0.0  0.0  0.0  0.0  0.0  0.0  \n",
       "2006-01-05  ...  0.0  0.0  0.0  0.0  0.0  0.0  0.0  0.0  0.0  0.0  \n",
       "...         ...  ...  ...  ...  ...  ...  ...  ...  ...  ...  ...  \n",
       "2019-12-28  ...  0.0  0.0  0.0  0.0  0.0  1.0  0.0  0.0  0.0  0.0  \n",
       "2019-12-29  ...  0.0  0.0  0.0  0.0  0.0  0.0  1.0  0.0  0.0  0.0  \n",
       "2019-12-30  ...  0.0  0.0  0.0  0.0  0.0  0.0  0.0  1.0  0.0  0.0  \n",
       "2019-12-31  ...  0.0  0.0  0.0  0.0  0.0  0.0  0.0  0.0  1.0  0.0  \n",
       "2020-01-01  ...  0.0  0.0  0.0  0.0  0.0  0.0  0.0  0.0  0.0  0.0  \n",
       "\n",
       "[5114 rows x 370 columns]"
      ]
     },
     "execution_count": 97,
     "metadata": {},
     "output_type": "execute_result"
    }
   ],
   "source": [
    "X = pd.concat([a, ohe_day.set_index(a.index)], axis=1)\n",
    "X"
   ]
  },
  {
   "cell_type": "code",
   "execution_count": 90,
   "metadata": {},
   "outputs": [
    {
     "data": {
      "text/plain": [
       "0       0\n",
       "1       0\n",
       "2       0\n",
       "3       0\n",
       "4       0\n",
       "       ..\n",
       "5109    0\n",
       "5110    0\n",
       "5111    0\n",
       "5112    0\n",
       "5113    0\n",
       "Name: 0, Length: 5114, dtype: int32"
      ]
     },
     "execution_count": 90,
     "metadata": {},
     "output_type": "execute_result"
    }
   ],
   "source": [
    "df = pd.read_csv('data_meteo_kk.csv')\n",
    "df['Дата'] = pd.to_datetime((df['Дата']), format=\"%Y/%m/%d\")\n",
    "df = df.loc[(df['Дата'] >= pd.to_datetime(start)) & (df['Дата'] <= pd.to_datetime(end))]\n",
    "df = df.loc[df['Название метеостанции'] == 'Туапсе']\n",
    "df = df.groupby(df['Дата']).max()   # Как группируется?\n",
    "max_speed = df[['Максимальная скорость', 'Средняя скорость ветра']].max(axis=1)\n",
    "# max_speed = (max_speed >= 20).astype(int).reset_index()\n",
    "y = np.array((max_speed >= 20).astype(int))\n",
    "y"
   ]
  }
 ],
 "metadata": {
  "interpreter": {
   "hash": "eb9120d4e94f37695d2a45f521fb366896a7bc5eab844a4c6789236e8d913311"
  },
  "kernelspec": {
   "display_name": "Python 3.5.5 ('pygdal': conda)",
   "language": "python",
   "name": "python3"
  },
  "language_info": {
   "codemirror_mode": {
    "name": "ipython",
    "version": 3
   },
   "file_extension": ".py",
   "mimetype": "text/x-python",
   "name": "python",
   "nbconvert_exporter": "python",
   "pygments_lexer": "ipython3",
   "version": "3.5.5"
  },
  "orig_nbformat": 4
 },
 "nbformat": 4,
 "nbformat_minor": 2
}
